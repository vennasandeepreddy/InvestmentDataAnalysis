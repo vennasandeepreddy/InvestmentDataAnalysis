{
  "nbformat": 4,
  "nbformat_minor": 0,
  "metadata": {
    "colab": {
      "provenance": []
    },
    "kernelspec": {
      "name": "python3",
      "display_name": "Python 3"
    },
    "language_info": {
      "name": "python"
    }
  },
  "cells": [
    {
      "cell_type": "code",
      "source": [
        "%matplotlib inline\n",
        "\n",
        "import numpy as np\n",
        "import pandas as pd\n",
        "import datetime\n",
        "import calendar\n",
        "import time\n",
        "import matplotlib.pyplot as plt"
      ],
      "metadata": {
        "id": "bhh_vvVyoYPh"
      },
      "execution_count": 2,
      "outputs": []
    },
    {
      "cell_type": "code",
      "source": [
        "def hitYahooFinance(ticker, start, end):\n",
        "  link = f'https://query1.finance.yahoo.com/v7/finance/download/{ticker}?period1={start}&period2={end}&interval=1d&events=history'\n",
        "  return pd.read_csv(link)"
      ],
      "metadata": {
        "id": "8_33yHLF7c3F"
      },
      "execution_count": 3,
      "outputs": []
    },
    {
      "cell_type": "markdown",
      "source": [
        "## <font color='blue'>Calculating simple Returns\n",
        "\n",
        "\n"
      ],
      "metadata": {
        "id": "HtLvLTcNIkxw"
      }
    },
    {
      "cell_type": "markdown",
      "source": [
        "> Ticker is PG"
      ],
      "metadata": {
        "id": "mkjcGVh48jG-"
      }
    },
    {
      "cell_type": "code",
      "source": [
        "start = calendar.timegm(datetime.datetime(year = 1995, month = 1, day = 1).timetuple())\n",
        "end = calendar.timegm(time.gmtime()) #current epoch time\n",
        "\n",
        "PG = hitYahooFinance('PG', start, end)\n",
        "PG.set_index('Date', inplace = True)\n",
        "PG.shape"
      ],
      "metadata": {
        "colab": {
          "base_uri": "https://localhost:8080/"
        },
        "id": "ptgmnpN2IsJi",
        "outputId": "75846e5d-bd4e-4ae1-e343-eb02292eb47d"
      },
      "execution_count": 3,
      "outputs": [
        {
          "output_type": "execute_result",
          "data": {
            "text/plain": [
              "(7073, 6)"
            ]
          },
          "metadata": {},
          "execution_count": 3
        }
      ]
    },
    {
      "cell_type": "code",
      "source": [
        "PG.head()"
      ],
      "metadata": {
        "colab": {
          "base_uri": "https://localhost:8080/",
          "height": 238
        },
        "id": "DL-C53zLFIwX",
        "outputId": "46e20fec-e5a2-4a33-bfa9-d819ba91e8b0"
      },
      "execution_count": 4,
      "outputs": [
        {
          "output_type": "execute_result",
          "data": {
            "text/plain": [
              "                Open      High       Low     Close  Adj Close   Volume\n",
              "Date                                                                  \n",
              "1995-01-03  15.46875  15.62500  15.43750  15.59375   7.771256  3318400\n",
              "1995-01-04  15.53125  15.65625  15.31250  15.46875   7.708968  2218800\n",
              "1995-01-05  15.37500  15.43750  15.21875  15.25000   7.599948  2319600\n",
              "1995-01-06  15.15625  15.40625  15.15625  15.28125   7.615521  3438000\n",
              "1995-01-09  15.34375  15.40625  15.18750  15.21875   7.584374  1795200"
            ],
            "text/html": [
              "\n",
              "  <div id=\"df-71fda020-95a2-4da2-b4f4-7b565f1e5706\">\n",
              "    <div class=\"colab-df-container\">\n",
              "      <div>\n",
              "<style scoped>\n",
              "    .dataframe tbody tr th:only-of-type {\n",
              "        vertical-align: middle;\n",
              "    }\n",
              "\n",
              "    .dataframe tbody tr th {\n",
              "        vertical-align: top;\n",
              "    }\n",
              "\n",
              "    .dataframe thead th {\n",
              "        text-align: right;\n",
              "    }\n",
              "</style>\n",
              "<table border=\"1\" class=\"dataframe\">\n",
              "  <thead>\n",
              "    <tr style=\"text-align: right;\">\n",
              "      <th></th>\n",
              "      <th>Open</th>\n",
              "      <th>High</th>\n",
              "      <th>Low</th>\n",
              "      <th>Close</th>\n",
              "      <th>Adj Close</th>\n",
              "      <th>Volume</th>\n",
              "    </tr>\n",
              "    <tr>\n",
              "      <th>Date</th>\n",
              "      <th></th>\n",
              "      <th></th>\n",
              "      <th></th>\n",
              "      <th></th>\n",
              "      <th></th>\n",
              "      <th></th>\n",
              "    </tr>\n",
              "  </thead>\n",
              "  <tbody>\n",
              "    <tr>\n",
              "      <th>1995-01-03</th>\n",
              "      <td>15.46875</td>\n",
              "      <td>15.62500</td>\n",
              "      <td>15.43750</td>\n",
              "      <td>15.59375</td>\n",
              "      <td>7.771256</td>\n",
              "      <td>3318400</td>\n",
              "    </tr>\n",
              "    <tr>\n",
              "      <th>1995-01-04</th>\n",
              "      <td>15.53125</td>\n",
              "      <td>15.65625</td>\n",
              "      <td>15.31250</td>\n",
              "      <td>15.46875</td>\n",
              "      <td>7.708968</td>\n",
              "      <td>2218800</td>\n",
              "    </tr>\n",
              "    <tr>\n",
              "      <th>1995-01-05</th>\n",
              "      <td>15.37500</td>\n",
              "      <td>15.43750</td>\n",
              "      <td>15.21875</td>\n",
              "      <td>15.25000</td>\n",
              "      <td>7.599948</td>\n",
              "      <td>2319600</td>\n",
              "    </tr>\n",
              "    <tr>\n",
              "      <th>1995-01-06</th>\n",
              "      <td>15.15625</td>\n",
              "      <td>15.40625</td>\n",
              "      <td>15.15625</td>\n",
              "      <td>15.28125</td>\n",
              "      <td>7.615521</td>\n",
              "      <td>3438000</td>\n",
              "    </tr>\n",
              "    <tr>\n",
              "      <th>1995-01-09</th>\n",
              "      <td>15.34375</td>\n",
              "      <td>15.40625</td>\n",
              "      <td>15.18750</td>\n",
              "      <td>15.21875</td>\n",
              "      <td>7.584374</td>\n",
              "      <td>1795200</td>\n",
              "    </tr>\n",
              "  </tbody>\n",
              "</table>\n",
              "</div>\n",
              "      <button class=\"colab-df-convert\" onclick=\"convertToInteractive('df-71fda020-95a2-4da2-b4f4-7b565f1e5706')\"\n",
              "              title=\"Convert this dataframe to an interactive table.\"\n",
              "              style=\"display:none;\">\n",
              "        \n",
              "  <svg xmlns=\"http://www.w3.org/2000/svg\" height=\"24px\"viewBox=\"0 0 24 24\"\n",
              "       width=\"24px\">\n",
              "    <path d=\"M0 0h24v24H0V0z\" fill=\"none\"/>\n",
              "    <path d=\"M18.56 5.44l.94 2.06.94-2.06 2.06-.94-2.06-.94-.94-2.06-.94 2.06-2.06.94zm-11 1L8.5 8.5l.94-2.06 2.06-.94-2.06-.94L8.5 2.5l-.94 2.06-2.06.94zm10 10l.94 2.06.94-2.06 2.06-.94-2.06-.94-.94-2.06-.94 2.06-2.06.94z\"/><path d=\"M17.41 7.96l-1.37-1.37c-.4-.4-.92-.59-1.43-.59-.52 0-1.04.2-1.43.59L10.3 9.45l-7.72 7.72c-.78.78-.78 2.05 0 2.83L4 21.41c.39.39.9.59 1.41.59.51 0 1.02-.2 1.41-.59l7.78-7.78 2.81-2.81c.8-.78.8-2.07 0-2.86zM5.41 20L4 18.59l7.72-7.72 1.47 1.35L5.41 20z\"/>\n",
              "  </svg>\n",
              "      </button>\n",
              "      \n",
              "  <style>\n",
              "    .colab-df-container {\n",
              "      display:flex;\n",
              "      flex-wrap:wrap;\n",
              "      gap: 12px;\n",
              "    }\n",
              "\n",
              "    .colab-df-convert {\n",
              "      background-color: #E8F0FE;\n",
              "      border: none;\n",
              "      border-radius: 50%;\n",
              "      cursor: pointer;\n",
              "      display: none;\n",
              "      fill: #1967D2;\n",
              "      height: 32px;\n",
              "      padding: 0 0 0 0;\n",
              "      width: 32px;\n",
              "    }\n",
              "\n",
              "    .colab-df-convert:hover {\n",
              "      background-color: #E2EBFA;\n",
              "      box-shadow: 0px 1px 2px rgba(60, 64, 67, 0.3), 0px 1px 3px 1px rgba(60, 64, 67, 0.15);\n",
              "      fill: #174EA6;\n",
              "    }\n",
              "\n",
              "    [theme=dark] .colab-df-convert {\n",
              "      background-color: #3B4455;\n",
              "      fill: #D2E3FC;\n",
              "    }\n",
              "\n",
              "    [theme=dark] .colab-df-convert:hover {\n",
              "      background-color: #434B5C;\n",
              "      box-shadow: 0px 1px 3px 1px rgba(0, 0, 0, 0.15);\n",
              "      filter: drop-shadow(0px 1px 2px rgba(0, 0, 0, 0.3));\n",
              "      fill: #FFFFFF;\n",
              "    }\n",
              "  </style>\n",
              "\n",
              "      <script>\n",
              "        const buttonEl =\n",
              "          document.querySelector('#df-71fda020-95a2-4da2-b4f4-7b565f1e5706 button.colab-df-convert');\n",
              "        buttonEl.style.display =\n",
              "          google.colab.kernel.accessAllowed ? 'block' : 'none';\n",
              "\n",
              "        async function convertToInteractive(key) {\n",
              "          const element = document.querySelector('#df-71fda020-95a2-4da2-b4f4-7b565f1e5706');\n",
              "          const dataTable =\n",
              "            await google.colab.kernel.invokeFunction('convertToInteractive',\n",
              "                                                     [key], {});\n",
              "          if (!dataTable) return;\n",
              "\n",
              "          const docLinkHtml = 'Like what you see? Visit the ' +\n",
              "            '<a target=\"_blank\" href=https://colab.research.google.com/notebooks/data_table.ipynb>data table notebook</a>'\n",
              "            + ' to learn more about interactive tables.';\n",
              "          element.innerHTML = '';\n",
              "          dataTable['output_type'] = 'display_data';\n",
              "          await google.colab.output.renderOutput(dataTable, element);\n",
              "          const docLink = document.createElement('div');\n",
              "          docLink.innerHTML = docLinkHtml;\n",
              "          element.appendChild(docLink);\n",
              "        }\n",
              "      </script>\n",
              "    </div>\n",
              "  </div>\n",
              "  "
            ]
          },
          "metadata": {},
          "execution_count": 4
        }
      ]
    },
    {
      "cell_type": "code",
      "source": [
        "PG.tail()"
      ],
      "metadata": {
        "colab": {
          "base_uri": "https://localhost:8080/",
          "height": 238
        },
        "id": "BbT5k7bFKDcb",
        "outputId": "bb3c1246-5a82-48cd-9b67-e64763bb341c"
      },
      "execution_count": 5,
      "outputs": [
        {
          "output_type": "execute_result",
          "data": {
            "text/plain": [
              "                  Open        High         Low       Close   Adj Close  \\\n",
              "Date                                                                     \n",
              "2023-01-30  140.960007  142.119995  140.279999  141.009995  141.009995   \n",
              "2023-01-31  141.229996  142.470001  140.759995  142.380005  142.380005   \n",
              "2023-02-01  142.080002  144.100006  141.350006  143.190002  143.190002   \n",
              "2023-02-02  142.169998  142.710007  141.210007  142.169998  142.169998   \n",
              "2023-02-03  142.779999  143.380005  141.169998  142.610001  142.610001   \n",
              "\n",
              "             Volume  \n",
              "Date                 \n",
              "2023-01-30  6369300  \n",
              "2023-01-31  9373400  \n",
              "2023-02-01  7207900  \n",
              "2023-02-02  6444300  \n",
              "2023-02-03  5993100  "
            ],
            "text/html": [
              "\n",
              "  <div id=\"df-d4c4e4d2-6aff-4e05-882b-dc8f1a225761\">\n",
              "    <div class=\"colab-df-container\">\n",
              "      <div>\n",
              "<style scoped>\n",
              "    .dataframe tbody tr th:only-of-type {\n",
              "        vertical-align: middle;\n",
              "    }\n",
              "\n",
              "    .dataframe tbody tr th {\n",
              "        vertical-align: top;\n",
              "    }\n",
              "\n",
              "    .dataframe thead th {\n",
              "        text-align: right;\n",
              "    }\n",
              "</style>\n",
              "<table border=\"1\" class=\"dataframe\">\n",
              "  <thead>\n",
              "    <tr style=\"text-align: right;\">\n",
              "      <th></th>\n",
              "      <th>Open</th>\n",
              "      <th>High</th>\n",
              "      <th>Low</th>\n",
              "      <th>Close</th>\n",
              "      <th>Adj Close</th>\n",
              "      <th>Volume</th>\n",
              "    </tr>\n",
              "    <tr>\n",
              "      <th>Date</th>\n",
              "      <th></th>\n",
              "      <th></th>\n",
              "      <th></th>\n",
              "      <th></th>\n",
              "      <th></th>\n",
              "      <th></th>\n",
              "    </tr>\n",
              "  </thead>\n",
              "  <tbody>\n",
              "    <tr>\n",
              "      <th>2023-01-30</th>\n",
              "      <td>140.960007</td>\n",
              "      <td>142.119995</td>\n",
              "      <td>140.279999</td>\n",
              "      <td>141.009995</td>\n",
              "      <td>141.009995</td>\n",
              "      <td>6369300</td>\n",
              "    </tr>\n",
              "    <tr>\n",
              "      <th>2023-01-31</th>\n",
              "      <td>141.229996</td>\n",
              "      <td>142.470001</td>\n",
              "      <td>140.759995</td>\n",
              "      <td>142.380005</td>\n",
              "      <td>142.380005</td>\n",
              "      <td>9373400</td>\n",
              "    </tr>\n",
              "    <tr>\n",
              "      <th>2023-02-01</th>\n",
              "      <td>142.080002</td>\n",
              "      <td>144.100006</td>\n",
              "      <td>141.350006</td>\n",
              "      <td>143.190002</td>\n",
              "      <td>143.190002</td>\n",
              "      <td>7207900</td>\n",
              "    </tr>\n",
              "    <tr>\n",
              "      <th>2023-02-02</th>\n",
              "      <td>142.169998</td>\n",
              "      <td>142.710007</td>\n",
              "      <td>141.210007</td>\n",
              "      <td>142.169998</td>\n",
              "      <td>142.169998</td>\n",
              "      <td>6444300</td>\n",
              "    </tr>\n",
              "    <tr>\n",
              "      <th>2023-02-03</th>\n",
              "      <td>142.779999</td>\n",
              "      <td>143.380005</td>\n",
              "      <td>141.169998</td>\n",
              "      <td>142.610001</td>\n",
              "      <td>142.610001</td>\n",
              "      <td>5993100</td>\n",
              "    </tr>\n",
              "  </tbody>\n",
              "</table>\n",
              "</div>\n",
              "      <button class=\"colab-df-convert\" onclick=\"convertToInteractive('df-d4c4e4d2-6aff-4e05-882b-dc8f1a225761')\"\n",
              "              title=\"Convert this dataframe to an interactive table.\"\n",
              "              style=\"display:none;\">\n",
              "        \n",
              "  <svg xmlns=\"http://www.w3.org/2000/svg\" height=\"24px\"viewBox=\"0 0 24 24\"\n",
              "       width=\"24px\">\n",
              "    <path d=\"M0 0h24v24H0V0z\" fill=\"none\"/>\n",
              "    <path d=\"M18.56 5.44l.94 2.06.94-2.06 2.06-.94-2.06-.94-.94-2.06-.94 2.06-2.06.94zm-11 1L8.5 8.5l.94-2.06 2.06-.94-2.06-.94L8.5 2.5l-.94 2.06-2.06.94zm10 10l.94 2.06.94-2.06 2.06-.94-2.06-.94-.94-2.06-.94 2.06-2.06.94z\"/><path d=\"M17.41 7.96l-1.37-1.37c-.4-.4-.92-.59-1.43-.59-.52 0-1.04.2-1.43.59L10.3 9.45l-7.72 7.72c-.78.78-.78 2.05 0 2.83L4 21.41c.39.39.9.59 1.41.59.51 0 1.02-.2 1.41-.59l7.78-7.78 2.81-2.81c.8-.78.8-2.07 0-2.86zM5.41 20L4 18.59l7.72-7.72 1.47 1.35L5.41 20z\"/>\n",
              "  </svg>\n",
              "      </button>\n",
              "      \n",
              "  <style>\n",
              "    .colab-df-container {\n",
              "      display:flex;\n",
              "      flex-wrap:wrap;\n",
              "      gap: 12px;\n",
              "    }\n",
              "\n",
              "    .colab-df-convert {\n",
              "      background-color: #E8F0FE;\n",
              "      border: none;\n",
              "      border-radius: 50%;\n",
              "      cursor: pointer;\n",
              "      display: none;\n",
              "      fill: #1967D2;\n",
              "      height: 32px;\n",
              "      padding: 0 0 0 0;\n",
              "      width: 32px;\n",
              "    }\n",
              "\n",
              "    .colab-df-convert:hover {\n",
              "      background-color: #E2EBFA;\n",
              "      box-shadow: 0px 1px 2px rgba(60, 64, 67, 0.3), 0px 1px 3px 1px rgba(60, 64, 67, 0.15);\n",
              "      fill: #174EA6;\n",
              "    }\n",
              "\n",
              "    [theme=dark] .colab-df-convert {\n",
              "      background-color: #3B4455;\n",
              "      fill: #D2E3FC;\n",
              "    }\n",
              "\n",
              "    [theme=dark] .colab-df-convert:hover {\n",
              "      background-color: #434B5C;\n",
              "      box-shadow: 0px 1px 3px 1px rgba(0, 0, 0, 0.15);\n",
              "      filter: drop-shadow(0px 1px 2px rgba(0, 0, 0, 0.3));\n",
              "      fill: #FFFFFF;\n",
              "    }\n",
              "  </style>\n",
              "\n",
              "      <script>\n",
              "        const buttonEl =\n",
              "          document.querySelector('#df-d4c4e4d2-6aff-4e05-882b-dc8f1a225761 button.colab-df-convert');\n",
              "        buttonEl.style.display =\n",
              "          google.colab.kernel.accessAllowed ? 'block' : 'none';\n",
              "\n",
              "        async function convertToInteractive(key) {\n",
              "          const element = document.querySelector('#df-d4c4e4d2-6aff-4e05-882b-dc8f1a225761');\n",
              "          const dataTable =\n",
              "            await google.colab.kernel.invokeFunction('convertToInteractive',\n",
              "                                                     [key], {});\n",
              "          if (!dataTable) return;\n",
              "\n",
              "          const docLinkHtml = 'Like what you see? Visit the ' +\n",
              "            '<a target=\"_blank\" href=https://colab.research.google.com/notebooks/data_table.ipynb>data table notebook</a>'\n",
              "            + ' to learn more about interactive tables.';\n",
              "          element.innerHTML = '';\n",
              "          dataTable['output_type'] = 'display_data';\n",
              "          await google.colab.output.renderOutput(dataTable, element);\n",
              "          const docLink = document.createElement('div');\n",
              "          docLink.innerHTML = docLinkHtml;\n",
              "          element.appendChild(docLink);\n",
              "        }\n",
              "      </script>\n",
              "    </div>\n",
              "  </div>\n",
              "  "
            ]
          },
          "metadata": {},
          "execution_count": 5
        }
      ]
    },
    {
      "cell_type": "markdown",
      "source": [
        "<font color='green'>\n",
        "We will be using Adjusted Close price to compute the Simple return\n",
        "\n",
        "$P_0$ = Price on Day 0 (the first day we buy the stock)\n",
        "<br>\n",
        "$P_1$ = Price on Day 1\n",
        "\n",
        "\n",
        "> $ SimpleRetrun = \\frac{P_1-P_0}{P_0}$\n",
        "\n",
        "$=> SimpleRetrun= \\frac{P_1}{P_0} - 1$"
      ],
      "metadata": {
        "id": "XqL0K4WYKogP"
      }
    },
    {
      "cell_type": "code",
      "source": [
        "PG['Simple_Return'] = (PG['Adj Close']/ PG['Adj Close'].shift(1))-1"
      ],
      "metadata": {
        "id": "nYRxEXj1KvXn"
      },
      "execution_count": null,
      "outputs": []
    },
    {
      "cell_type": "code",
      "source": [
        "PG['Simple_Return']"
      ],
      "metadata": {
        "colab": {
          "base_uri": "https://localhost:8080/"
        },
        "id": "p5gnrJ2wRgMV",
        "outputId": "41108dfd-b677-44ab-dadb-cd66ea1c5c65"
      },
      "execution_count": null,
      "outputs": [
        {
          "output_type": "execute_result",
          "data": {
            "text/plain": [
              "Date\n",
              "1995-01-03         NaN\n",
              "1995-01-04   -0.008016\n",
              "1995-01-05   -0.014141\n",
              "1995-01-06    0.002049\n",
              "1995-01-09   -0.004090\n",
              "                ...   \n",
              "2023-01-23   -0.013429\n",
              "2023-01-24    0.005459\n",
              "2023-01-25   -0.000705\n",
              "2023-01-26   -0.004022\n",
              "2023-01-27   -0.004109\n",
              "Name: Simple_Return, Length: 7068, dtype: float64"
            ]
          },
          "metadata": {},
          "execution_count": 54
        }
      ]
    },
    {
      "cell_type": "code",
      "source": [
        "PG['Simple_Return'].plot(figsize=(8,5))\n",
        "plt.show()"
      ],
      "metadata": {
        "id": "3ndSmDSIRjUF"
      },
      "execution_count": null,
      "outputs": []
    },
    {
      "cell_type": "code",
      "source": [
        "PG['Simple_Return'].plot(figsize=(8,5))"
      ],
      "metadata": {
        "colab": {
          "base_uri": "https://localhost:8080/",
          "height": 352
        },
        "id": "fOSERMR5SMkB",
        "outputId": "f81b1059-8046-40ec-d8a5-c132ec609c5a"
      },
      "execution_count": null,
      "outputs": [
        {
          "output_type": "execute_result",
          "data": {
            "text/plain": [
              "<matplotlib.axes._subplots.AxesSubplot at 0x7f45b3d43730>"
            ]
          },
          "metadata": {},
          "execution_count": 65
        },
        {
          "output_type": "display_data",
          "data": {
            "text/plain": [
              "<Figure size 576x360 with 1 Axes>"
            ],
            "image/png": "[encoded data removed]"
          },
          "metadata": {
            "needs_background": "light"
          }
        }
      ]
    },
    {
      "cell_type": "markdown",
      "source": [
        "#### Average retruns on daily basis"
      ],
      "metadata": {
        "id": "eXE3lDcZTzrj"
      }
    },
    {
      "cell_type": "code",
      "source": [
        "avg_returns_d = PG['Simple_Return'].mean()\n",
        "avg_returns_d"
      ],
      "metadata": {
        "colab": {
          "base_uri": "https://localhost:8080/"
        },
        "id": "svza6-NaSXQS",
        "outputId": "fb959097-c22a-4075-92e0-b65b104c5b3a"
      },
      "execution_count": null,
      "outputs": [
        {
          "output_type": "execute_result",
          "data": {
            "text/plain": [
              "0.00050968267865591588"
            ]
          },
          "metadata": {},
          "execution_count": 66
        }
      ]
    },
    {
      "cell_type": "markdown",
      "source": [
        "#### Average return on Annual basis"
      ],
      "metadata": {
        "id": "izNSDoLBUQ-z"
      }
    },
    {
      "cell_type": "code",
      "source": [
        "avg_returns_a = PG['Simple_Return'].mean()*250 #250 is because just by considering working days\n",
        "avg_returns_a"
      ],
      "metadata": {
        "colab": {
          "base_uri": "https://localhost:8080/"
        },
        "id": "h5T7R70uUCoz",
        "outputId": "e4fff2a9-1522-42d7-ae76-b81fc0317e73"
      },
      "execution_count": null,
      "outputs": [
        {
          "output_type": "execute_result",
          "data": {
            "text/plain": [
              "0.12742066966397897"
            ]
          },
          "metadata": {},
          "execution_count": 67
        }
      ]
    },
    {
      "cell_type": "code",
      "source": [
        "print(f\"Annual rate of return for PG is {str(round(avg_returns_a, 5)*100)+'%'}\")"
      ],
      "metadata": {
        "colab": {
          "base_uri": "https://localhost:8080/"
        },
        "id": "ghSxrpjMUsmP",
        "outputId": "d814c0b7-d481-4b9e-a8ae-3ead85d421e0"
      },
      "execution_count": null,
      "outputs": [
        {
          "output_type": "stream",
          "name": "stdout",
          "text": [
            "Annual rate of return for PG is 12.742%\n"
          ]
        }
      ]
    },
    {
      "cell_type": "markdown",
      "source": [
        "##<font color='blue'> Log Returns </font>"
      ],
      "metadata": {
        "id": "ZawTVnN8Y3xP"
      }
    },
    {
      "cell_type": "markdown",
      "source": [
        "$ LogRetrun = \\ln (\\frac{P_t}{P_{t-1}})$\n",
        "### <font color=\"Red\"> Note \n",
        "\n",
        "\n",
        "*   We see that Log rate of retrun extensively resembles the simple rate of return. \n",
        "*   In general, it is preferable to use simple returns when we calculate the returns of multiple securites over a same period.\n",
        "\n",
        "*   Log retruns are a better choice when we have only one security and calculated its retrun over multiple time periods.\n",
        "\n",
        "\n",
        "\n",
        "\n",
        "\n"
      ],
      "metadata": {
        "id": "5EWf-DjedqzD"
      }
    },
    {
      "cell_type": "code",
      "source": [
        "PG['Log_return'] = np.log(PG['Adj Close']/PG['Adj Close'].shift(1))\n",
        "PG['Log_return']"
      ],
      "metadata": {
        "colab": {
          "base_uri": "https://localhost:8080/"
        },
        "id": "kLGFEH1vVEyt",
        "outputId": "37ebdcf1-6c33-479e-9a02-9cc51ac403f0"
      },
      "execution_count": null,
      "outputs": [
        {
          "output_type": "execute_result",
          "data": {
            "text/plain": [
              "Date\n",
              "1995-01-03         NaN\n",
              "1995-01-04   -0.008049\n",
              "1995-01-05   -0.014242\n",
              "1995-01-06    0.002047\n",
              "1995-01-09   -0.004099\n",
              "                ...   \n",
              "2023-01-23   -0.013520\n",
              "2023-01-24    0.005444\n",
              "2023-01-25   -0.000705\n",
              "2023-01-26   -0.004030\n",
              "2023-01-27   -0.004117\n",
              "Name: Log_return, Length: 7068, dtype: float64"
            ]
          },
          "metadata": {},
          "execution_count": 72
        }
      ]
    },
    {
      "cell_type": "code",
      "source": [
        "PG['Log_return'].plot(figsize=(8,5))"
      ],
      "metadata": {
        "colab": {
          "base_uri": "https://localhost:8080/",
          "height": 352
        },
        "id": "jRSRllkIcuo_",
        "outputId": "8d8b80cf-bc3b-4eca-bdd5-a63787ab22b8"
      },
      "execution_count": null,
      "outputs": [
        {
          "output_type": "execute_result",
          "data": {
            "text/plain": [
              "<matplotlib.axes._subplots.AxesSubplot at 0x7f45b3d06a90>"
            ]
          },
          "metadata": {},
          "execution_count": 73
        },
        {
          "output_type": "display_data",
          "data": {
            "text/plain": [
              "<Figure size 576x360 with 1 Axes>"
            ],
            "image/png": "[encoded data removed]"
          },
          "metadata": {
            "needs_background": "light"
          }
        }
      ]
    },
    {
      "cell_type": "code",
      "source": [
        "# Daily Log Return\n",
        "log_returns_d = PG['Log_return'].mean()\n",
        "log_returns_d"
      ],
      "metadata": {
        "colab": {
          "base_uri": "https://localhost:8080/"
        },
        "id": "C3aZ9LN9dH2h",
        "outputId": "f312e467-61c1-4e56-9cf1-dbf7ddd20501"
      },
      "execution_count": null,
      "outputs": [
        {
          "output_type": "execute_result",
          "data": {
            "text/plain": [
              "0.00040968916396576553"
            ]
          },
          "metadata": {},
          "execution_count": 74
        }
      ]
    },
    {
      "cell_type": "code",
      "source": [
        "#Anual Log return\n",
        "log_returns_a = PG['Log_return'].mean()*250\n",
        "log_returns_a"
      ],
      "metadata": {
        "colab": {
          "base_uri": "https://localhost:8080/"
        },
        "id": "-jyMAbebdTgq",
        "outputId": "62a17410-bc57-402d-867c-3a7cb611fbaa"
      },
      "execution_count": null,
      "outputs": [
        {
          "output_type": "execute_result",
          "data": {
            "text/plain": [
              "0.10242229099144139"
            ]
          },
          "metadata": {},
          "execution_count": 75
        }
      ]
    },
    {
      "cell_type": "code",
      "source": [
        "print(f\"Annual rate of return for PG is {str(round(log_returns_a, 5)*100)+'%'}\")"
      ],
      "metadata": {
        "colab": {
          "base_uri": "https://localhost:8080/"
        },
        "id": "IjpghbP8diK9",
        "outputId": "656a2ccc-d0e2-4e28-daa1-b4f4cf03c513"
      },
      "execution_count": null,
      "outputs": [
        {
          "output_type": "stream",
          "name": "stdout",
          "text": [
            "Annual rate of return for PG is 10.242%\n"
          ]
        }
      ]
    },
    {
      "cell_type": "markdown",
      "source": [
        "## <font color=\"Blue\">Calculating the Returns on a portifoli of securities"
      ],
      "metadata": {
        "id": "hBhyT0ReiiUC"
      }
    },
    {
      "cell_type": "code",
      "source": [
        "start = calendar.timegm(datetime.datetime(year = 1995, month = 1, day = 1).timetuple())\n",
        "end = calendar.timegm(time.gmtime()) #current epoch time"
      ],
      "metadata": {
        "id": "U9i78bhujbo7"
      },
      "execution_count": 6,
      "outputs": []
    },
    {
      "cell_type": "code",
      "source": [
        "tickers = ['PG', 'MSFT', 'F', 'GE']\n",
        "mydata = pd.DataFrame()\n",
        "mydata['Date'] = hitYahooFinance('PG', start, end)['Date'] #doing this just for getting the date column\n",
        "for t in tickers:\n",
        "  mydata[t] = hitYahooFinance(t, start, end)['Adj Close']"
      ],
      "metadata": {
        "id": "p9qIilpydp9F"
      },
      "execution_count": 7,
      "outputs": []
    },
    {
      "cell_type": "code",
      "source": [
        "mydata.set_index('Date', inplace = True)"
      ],
      "metadata": {
        "id": "fYZK-PeOk0YP"
      },
      "execution_count": 8,
      "outputs": []
    },
    {
      "cell_type": "code",
      "source": [
        "mydata.info()"
      ],
      "metadata": {
        "colab": {
          "base_uri": "https://localhost:8080/"
        },
        "id": "qTEXEjbnjrb7",
        "outputId": "12a50a8f-713e-411d-892e-f390175075ef"
      },
      "execution_count": 9,
      "outputs": [
        {
          "output_type": "stream",
          "name": "stdout",
          "text": [
            "<class 'pandas.core.frame.DataFrame'>\n",
            "Index: 7073 entries, 1995-01-03 to 2023-02-03\n",
            "Data columns (total 4 columns):\n",
            " #   Column  Non-Null Count  Dtype  \n",
            "---  ------  --------------  -----  \n",
            " 0   PG      7073 non-null   float64\n",
            " 1   MSFT    7073 non-null   float64\n",
            " 2   F       7073 non-null   float64\n",
            " 3   GE      7073 non-null   float64\n",
            "dtypes: float64(4)\n",
            "memory usage: 276.3+ KB\n"
          ]
        }
      ]
    },
    {
      "cell_type": "code",
      "source": [
        "mydata.head()"
      ],
      "metadata": {
        "colab": {
          "base_uri": "https://localhost:8080/",
          "height": 238
        },
        "id": "yL696DTAjumn",
        "outputId": "d1a52868-7de6-4d59-bdc8-cb6760a29350"
      },
      "execution_count": 10,
      "outputs": [
        {
          "output_type": "execute_result",
          "data": {
            "text/plain": [
              "                  PG      MSFT         F         GE\n",
              "Date                                               \n",
              "1995-01-03  7.771257  2.352808  4.220634  25.555304\n",
              "1995-01-04  7.708967  2.369910  4.334193  25.555304\n",
              "1995-01-05  7.599949  2.330821  4.296340  25.617952\n",
              "1995-01-06  7.615520  2.369910  4.296340  25.492676\n",
              "1995-01-09  7.584372  2.355251  4.372048  25.242121"
            ],
            "text/html": [
              "\n",
              "  <div id=\"df-b49e0eea-76d8-45b9-8602-35ff4a07622d\">\n",
              "    <div class=\"colab-df-container\">\n",
              "      <div>\n",
              "<style scoped>\n",
              "    .dataframe tbody tr th:only-of-type {\n",
              "        vertical-align: middle;\n",
              "    }\n",
              "\n",
              "    .dataframe tbody tr th {\n",
              "        vertical-align: top;\n",
              "    }\n",
              "\n",
              "    .dataframe thead th {\n",
              "        text-align: right;\n",
              "    }\n",
              "</style>\n",
              "<table border=\"1\" class=\"dataframe\">\n",
              "  <thead>\n",
              "    <tr style=\"text-align: right;\">\n",
              "      <th></th>\n",
              "      <th>PG</th>\n",
              "      <th>MSFT</th>\n",
              "      <th>F</th>\n",
              "      <th>GE</th>\n",
              "    </tr>\n",
              "    <tr>\n",
              "      <th>Date</th>\n",
              "      <th></th>\n",
              "      <th></th>\n",
              "      <th></th>\n",
              "      <th></th>\n",
              "    </tr>\n",
              "  </thead>\n",
              "  <tbody>\n",
              "    <tr>\n",
              "      <th>1995-01-03</th>\n",
              "      <td>7.771257</td>\n",
              "      <td>2.352808</td>\n",
              "      <td>4.220634</td>\n",
              "      <td>25.555304</td>\n",
              "    </tr>\n",
              "    <tr>\n",
              "      <th>1995-01-04</th>\n",
              "      <td>7.708967</td>\n",
              "      <td>2.369910</td>\n",
              "      <td>4.334193</td>\n",
              "      <td>25.555304</td>\n",
              "    </tr>\n",
              "    <tr>\n",
              "      <th>1995-01-05</th>\n",
              "      <td>7.599949</td>\n",
              "      <td>2.330821</td>\n",
              "      <td>4.296340</td>\n",
              "      <td>25.617952</td>\n",
              "    </tr>\n",
              "    <tr>\n",
              "      <th>1995-01-06</th>\n",
              "      <td>7.615520</td>\n",
              "      <td>2.369910</td>\n",
              "      <td>4.296340</td>\n",
              "      <td>25.492676</td>\n",
              "    </tr>\n",
              "    <tr>\n",
              "      <th>1995-01-09</th>\n",
              "      <td>7.584372</td>\n",
              "      <td>2.355251</td>\n",
              "      <td>4.372048</td>\n",
              "      <td>25.242121</td>\n",
              "    </tr>\n",
              "  </tbody>\n",
              "</table>\n",
              "</div>\n",
              "      <button class=\"colab-df-convert\" onclick=\"convertToInteractive('df-b49e0eea-76d8-45b9-8602-35ff4a07622d')\"\n",
              "              title=\"Convert this dataframe to an interactive table.\"\n",
              "              style=\"display:none;\">\n",
              "        \n",
              "  <svg xmlns=\"http://www.w3.org/2000/svg\" height=\"24px\"viewBox=\"0 0 24 24\"\n",
              "       width=\"24px\">\n",
              "    <path d=\"M0 0h24v24H0V0z\" fill=\"none\"/>\n",
              "    <path d=\"M18.56 5.44l.94 2.06.94-2.06 2.06-.94-2.06-.94-.94-2.06-.94 2.06-2.06.94zm-11 1L8.5 8.5l.94-2.06 2.06-.94-2.06-.94L8.5 2.5l-.94 2.06-2.06.94zm10 10l.94 2.06.94-2.06 2.06-.94-2.06-.94-.94-2.06-.94 2.06-2.06.94z\"/><path d=\"M17.41 7.96l-1.37-1.37c-.4-.4-.92-.59-1.43-.59-.52 0-1.04.2-1.43.59L10.3 9.45l-7.72 7.72c-.78.78-.78 2.05 0 2.83L4 21.41c.39.39.9.59 1.41.59.51 0 1.02-.2 1.41-.59l7.78-7.78 2.81-2.81c.8-.78.8-2.07 0-2.86zM5.41 20L4 18.59l7.72-7.72 1.47 1.35L5.41 20z\"/>\n",
              "  </svg>\n",
              "      </button>\n",
              "      \n",
              "  <style>\n",
              "    .colab-df-container {\n",
              "      display:flex;\n",
              "      flex-wrap:wrap;\n",
              "      gap: 12px;\n",
              "    }\n",
              "\n",
              "    .colab-df-convert {\n",
              "      background-color: #E8F0FE;\n",
              "      border: none;\n",
              "      border-radius: 50%;\n",
              "      cursor: pointer;\n",
              "      display: none;\n",
              "      fill: #1967D2;\n",
              "      height: 32px;\n",
              "      padding: 0 0 0 0;\n",
              "      width: 32px;\n",
              "    }\n",
              "\n",
              "    .colab-df-convert:hover {\n",
              "      background-color: #E2EBFA;\n",
              "      box-shadow: 0px 1px 2px rgba(60, 64, 67, 0.3), 0px 1px 3px 1px rgba(60, 64, 67, 0.15);\n",
              "      fill: #174EA6;\n",
              "    }\n",
              "\n",
              "    [theme=dark] .colab-df-convert {\n",
              "      background-color: #3B4455;\n",
              "      fill: #D2E3FC;\n",
              "    }\n",
              "\n",
              "    [theme=dark] .colab-df-convert:hover {\n",
              "      background-color: #434B5C;\n",
              "      box-shadow: 0px 1px 3px 1px rgba(0, 0, 0, 0.15);\n",
              "      filter: drop-shadow(0px 1px 2px rgba(0, 0, 0, 0.3));\n",
              "      fill: #FFFFFF;\n",
              "    }\n",
              "  </style>\n",
              "\n",
              "      <script>\n",
              "        const buttonEl =\n",
              "          document.querySelector('#df-b49e0eea-76d8-45b9-8602-35ff4a07622d button.colab-df-convert');\n",
              "        buttonEl.style.display =\n",
              "          google.colab.kernel.accessAllowed ? 'block' : 'none';\n",
              "\n",
              "        async function convertToInteractive(key) {\n",
              "          const element = document.querySelector('#df-b49e0eea-76d8-45b9-8602-35ff4a07622d');\n",
              "          const dataTable =\n",
              "            await google.colab.kernel.invokeFunction('convertToInteractive',\n",
              "                                                     [key], {});\n",
              "          if (!dataTable) return;\n",
              "\n",
              "          const docLinkHtml = 'Like what you see? Visit the ' +\n",
              "            '<a target=\"_blank\" href=https://colab.research.google.com/notebooks/data_table.ipynb>data table notebook</a>'\n",
              "            + ' to learn more about interactive tables.';\n",
              "          element.innerHTML = '';\n",
              "          dataTable['output_type'] = 'display_data';\n",
              "          await google.colab.output.renderOutput(dataTable, element);\n",
              "          const docLink = document.createElement('div');\n",
              "          docLink.innerHTML = docLinkHtml;\n",
              "          element.appendChild(docLink);\n",
              "        }\n",
              "      </script>\n",
              "    </div>\n",
              "  </div>\n",
              "  "
            ]
          },
          "metadata": {},
          "execution_count": 10
        }
      ]
    },
    {
      "cell_type": "code",
      "source": [
        "mydata.tail()"
      ],
      "metadata": {
        "colab": {
          "base_uri": "https://localhost:8080/",
          "height": 238
        },
        "id": "kXHDGYe2lM0Z",
        "outputId": "88bdcdfc-5c52-4a8e-aac6-6e736d462557"
      },
      "execution_count": 11,
      "outputs": [
        {
          "output_type": "execute_result",
          "data": {
            "text/plain": [
              "                    PG        MSFT      F         GE\n",
              "Date                                                \n",
              "2023-01-30  141.009995  242.710007  12.89  80.830002\n",
              "2023-01-31  142.380005  247.809998  13.51  80.480003\n",
              "2023-02-01  143.190002  252.750000  13.79  82.320000\n",
              "2023-02-02  142.169998  264.600006  14.32  83.940002\n",
              "2023-02-03  142.610001  258.350006  13.23  81.959999"
            ],
            "text/html": [
              "\n",
              "  <div id=\"df-5e504b4a-851b-48e5-886c-f953f1d4a614\">\n",
              "    <div class=\"colab-df-container\">\n",
              "      <div>\n",
              "<style scoped>\n",
              "    .dataframe tbody tr th:only-of-type {\n",
              "        vertical-align: middle;\n",
              "    }\n",
              "\n",
              "    .dataframe tbody tr th {\n",
              "        vertical-align: top;\n",
              "    }\n",
              "\n",
              "    .dataframe thead th {\n",
              "        text-align: right;\n",
              "    }\n",
              "</style>\n",
              "<table border=\"1\" class=\"dataframe\">\n",
              "  <thead>\n",
              "    <tr style=\"text-align: right;\">\n",
              "      <th></th>\n",
              "      <th>PG</th>\n",
              "      <th>MSFT</th>\n",
              "      <th>F</th>\n",
              "      <th>GE</th>\n",
              "    </tr>\n",
              "    <tr>\n",
              "      <th>Date</th>\n",
              "      <th></th>\n",
              "      <th></th>\n",
              "      <th></th>\n",
              "      <th></th>\n",
              "    </tr>\n",
              "  </thead>\n",
              "  <tbody>\n",
              "    <tr>\n",
              "      <th>2023-01-30</th>\n",
              "      <td>141.009995</td>\n",
              "      <td>242.710007</td>\n",
              "      <td>12.89</td>\n",
              "      <td>80.830002</td>\n",
              "    </tr>\n",
              "    <tr>\n",
              "      <th>2023-01-31</th>\n",
              "      <td>142.380005</td>\n",
              "      <td>247.809998</td>\n",
              "      <td>13.51</td>\n",
              "      <td>80.480003</td>\n",
              "    </tr>\n",
              "    <tr>\n",
              "      <th>2023-02-01</th>\n",
              "      <td>143.190002</td>\n",
              "      <td>252.750000</td>\n",
              "      <td>13.79</td>\n",
              "      <td>82.320000</td>\n",
              "    </tr>\n",
              "    <tr>\n",
              "      <th>2023-02-02</th>\n",
              "      <td>142.169998</td>\n",
              "      <td>264.600006</td>\n",
              "      <td>14.32</td>\n",
              "      <td>83.940002</td>\n",
              "    </tr>\n",
              "    <tr>\n",
              "      <th>2023-02-03</th>\n",
              "      <td>142.610001</td>\n",
              "      <td>258.350006</td>\n",
              "      <td>13.23</td>\n",
              "      <td>81.959999</td>\n",
              "    </tr>\n",
              "  </tbody>\n",
              "</table>\n",
              "</div>\n",
              "      <button class=\"colab-df-convert\" onclick=\"convertToInteractive('df-5e504b4a-851b-48e5-886c-f953f1d4a614')\"\n",
              "              title=\"Convert this dataframe to an interactive table.\"\n",
              "              style=\"display:none;\">\n",
              "        \n",
              "  <svg xmlns=\"http://www.w3.org/2000/svg\" height=\"24px\"viewBox=\"0 0 24 24\"\n",
              "       width=\"24px\">\n",
              "    <path d=\"M0 0h24v24H0V0z\" fill=\"none\"/>\n",
              "    <path d=\"M18.56 5.44l.94 2.06.94-2.06 2.06-.94-2.06-.94-.94-2.06-.94 2.06-2.06.94zm-11 1L8.5 8.5l.94-2.06 2.06-.94-2.06-.94L8.5 2.5l-.94 2.06-2.06.94zm10 10l.94 2.06.94-2.06 2.06-.94-2.06-.94-.94-2.06-.94 2.06-2.06.94z\"/><path d=\"M17.41 7.96l-1.37-1.37c-.4-.4-.92-.59-1.43-.59-.52 0-1.04.2-1.43.59L10.3 9.45l-7.72 7.72c-.78.78-.78 2.05 0 2.83L4 21.41c.39.39.9.59 1.41.59.51 0 1.02-.2 1.41-.59l7.78-7.78 2.81-2.81c.8-.78.8-2.07 0-2.86zM5.41 20L4 18.59l7.72-7.72 1.47 1.35L5.41 20z\"/>\n",
              "  </svg>\n",
              "      </button>\n",
              "      \n",
              "  <style>\n",
              "    .colab-df-container {\n",
              "      display:flex;\n",
              "      flex-wrap:wrap;\n",
              "      gap: 12px;\n",
              "    }\n",
              "\n",
              "    .colab-df-convert {\n",
              "      background-color: #E8F0FE;\n",
              "      border: none;\n",
              "      border-radius: 50%;\n",
              "      cursor: pointer;\n",
              "      display: none;\n",
              "      fill: #1967D2;\n",
              "      height: 32px;\n",
              "      padding: 0 0 0 0;\n",
              "      width: 32px;\n",
              "    }\n",
              "\n",
              "    .colab-df-convert:hover {\n",
              "      background-color: #E2EBFA;\n",
              "      box-shadow: 0px 1px 2px rgba(60, 64, 67, 0.3), 0px 1px 3px 1px rgba(60, 64, 67, 0.15);\n",
              "      fill: #174EA6;\n",
              "    }\n",
              "\n",
              "    [theme=dark] .colab-df-convert {\n",
              "      background-color: #3B4455;\n",
              "      fill: #D2E3FC;\n",
              "    }\n",
              "\n",
              "    [theme=dark] .colab-df-convert:hover {\n",
              "      background-color: #434B5C;\n",
              "      box-shadow: 0px 1px 3px 1px rgba(0, 0, 0, 0.15);\n",
              "      filter: drop-shadow(0px 1px 2px rgba(0, 0, 0, 0.3));\n",
              "      fill: #FFFFFF;\n",
              "    }\n",
              "  </style>\n",
              "\n",
              "      <script>\n",
              "        const buttonEl =\n",
              "          document.querySelector('#df-5e504b4a-851b-48e5-886c-f953f1d4a614 button.colab-df-convert');\n",
              "        buttonEl.style.display =\n",
              "          google.colab.kernel.accessAllowed ? 'block' : 'none';\n",
              "\n",
              "        async function convertToInteractive(key) {\n",
              "          const element = document.querySelector('#df-5e504b4a-851b-48e5-886c-f953f1d4a614');\n",
              "          const dataTable =\n",
              "            await google.colab.kernel.invokeFunction('convertToInteractive',\n",
              "                                                     [key], {});\n",
              "          if (!dataTable) return;\n",
              "\n",
              "          const docLinkHtml = 'Like what you see? Visit the ' +\n",
              "            '<a target=\"_blank\" href=https://colab.research.google.com/notebooks/data_table.ipynb>data table notebook</a>'\n",
              "            + ' to learn more about interactive tables.';\n",
              "          element.innerHTML = '';\n",
              "          dataTable['output_type'] = 'display_data';\n",
              "          await google.colab.output.renderOutput(dataTable, element);\n",
              "          const docLink = document.createElement('div');\n",
              "          docLink.innerHTML = docLinkHtml;\n",
              "          element.appendChild(docLink);\n",
              "        }\n",
              "      </script>\n",
              "    </div>\n",
              "  </div>\n",
              "  "
            ]
          },
          "metadata": {},
          "execution_count": 11
        }
      ]
    },
    {
      "cell_type": "markdown",
      "source": [
        "#### Normalization to 100\n",
        "$\\frac{P_t}{P_0}*100$"
      ],
      "metadata": {
        "id": "Bz8LiuXCmaHU"
      }
    },
    {
      "cell_type": "code",
      "source": [
        "mydata.iloc[0]"
      ],
      "metadata": {
        "colab": {
          "base_uri": "https://localhost:8080/"
        },
        "id": "cN9h2SxQj0Jv",
        "outputId": "f4e507b7-5945-4f26-c5b8-bb7dc3e2f36a"
      },
      "execution_count": 12,
      "outputs": [
        {
          "output_type": "execute_result",
          "data": {
            "text/plain": [
              "PG       7.771257\n",
              "MSFT     2.352808\n",
              "F        4.220634\n",
              "GE      25.555304\n",
              "Name: 1995-01-03, dtype: float64"
            ]
          },
          "metadata": {},
          "execution_count": 12
        }
      ]
    },
    {
      "cell_type": "code",
      "source": [
        "(mydata/ mydata.iloc[0]*100).plot(figsize = (15, 6))"
      ],
      "metadata": {
        "colab": {
          "base_uri": "https://localhost:8080/",
          "height": 406
        },
        "id": "h5zZMhmpm8aY",
        "outputId": "2aab9b66-a30b-434a-ce62-aa4b3ed4608d"
      },
      "execution_count": 13,
      "outputs": [
        {
          "output_type": "execute_result",
          "data": {
            "text/plain": [
              "<matplotlib.axes._subplots.AxesSubplot at 0x7f52f3234130>"
            ]
          },
          "metadata": {},
          "execution_count": 13
        },
        {
          "output_type": "display_data",
          "data": {
            "text/plain": [
              "<Figure size 1080x432 with 1 Axes>"
            ],
            "image/png": "[encoded data removed]"
          },
          "metadata": {
            "needs_background": "light"
          }
        }
      ]
    },
    {
      "cell_type": "markdown",
      "source": [
        "The reason behind Normalizing is, all the graphs are starting at 100 on Y-axis (it seems like 0 but, it is 100 on Y-axis). This allows us to compare the behaviour of the 4 different stocks, as if they all starting from same value 100. If we dont do this, we will see the Adjusted closing prices of all the companies plotted directed as seen below. By that, we will not have a good landmark"
      ],
      "metadata": {
        "id": "rplLGx2In95X"
      }
    },
    {
      "cell_type": "code",
      "source": [
        "mydata.plot(figsize = (15, 6))"
      ],
      "metadata": {
        "colab": {
          "base_uri": "https://localhost:8080/",
          "height": 406
        },
        "id": "G3TN0uXFnQfI",
        "outputId": "35a1c19f-9b2a-4d14-d228-22666b6e1d93"
      },
      "execution_count": 14,
      "outputs": [
        {
          "output_type": "execute_result",
          "data": {
            "text/plain": [
              "<matplotlib.axes._subplots.AxesSubplot at 0x7f52f2cd3cd0>"
            ]
          },
          "metadata": {},
          "execution_count": 14
        },
        {
          "output_type": "display_data",
          "data": {
            "text/plain": [
              "<Figure size 1080x432 with 1 Axes>"
            ],
            "image/png": "[encoded data removed]"
          },
          "metadata": {
            "needs_background": "light"
          }
        }
      ]
    },
    {
      "cell_type": "code",
      "source": [
        "returns = (mydata/mydata.shift(1)) - 1\n",
        "returns.head()"
      ],
      "metadata": {
        "colab": {
          "base_uri": "https://localhost:8080/",
          "height": 238
        },
        "id": "Qtt0_xWuZUJ7",
        "outputId": "f0cb950a-e76a-4f39-f608-77077bc9db06"
      },
      "execution_count": 15,
      "outputs": [
        {
          "output_type": "execute_result",
          "data": {
            "text/plain": [
              "                  PG      MSFT         F        GE\n",
              "Date                                              \n",
              "1995-01-03       NaN       NaN       NaN       NaN\n",
              "1995-01-04 -0.008015  0.007269  0.026906  0.000000\n",
              "1995-01-05 -0.014142 -0.016494 -0.008734  0.002451\n",
              "1995-01-06  0.002049  0.016770  0.000000 -0.004890\n",
              "1995-01-09 -0.004090 -0.006185  0.017622 -0.009829"
            ],
            "text/html": [
              "\n",
              "  <div id=\"df-c3712eba-83ce-48cb-9448-f4dbaf70b4e0\">\n",
              "    <div class=\"colab-df-container\">\n",
              "      <div>\n",
              "<style scoped>\n",
              "    .dataframe tbody tr th:only-of-type {\n",
              "        vertical-align: middle;\n",
              "    }\n",
              "\n",
              "    .dataframe tbody tr th {\n",
              "        vertical-align: top;\n",
              "    }\n",
              "\n",
              "    .dataframe thead th {\n",
              "        text-align: right;\n",
              "    }\n",
              "</style>\n",
              "<table border=\"1\" class=\"dataframe\">\n",
              "  <thead>\n",
              "    <tr style=\"text-align: right;\">\n",
              "      <th></th>\n",
              "      <th>PG</th>\n",
              "      <th>MSFT</th>\n",
              "      <th>F</th>\n",
              "      <th>GE</th>\n",
              "    </tr>\n",
              "    <tr>\n",
              "      <th>Date</th>\n",
              "      <th></th>\n",
              "      <th></th>\n",
              "      <th></th>\n",
              "      <th></th>\n",
              "    </tr>\n",
              "  </thead>\n",
              "  <tbody>\n",
              "    <tr>\n",
              "      <th>1995-01-03</th>\n",
              "      <td>NaN</td>\n",
              "      <td>NaN</td>\n",
              "      <td>NaN</td>\n",
              "      <td>NaN</td>\n",
              "    </tr>\n",
              "    <tr>\n",
              "      <th>1995-01-04</th>\n",
              "      <td>-0.008015</td>\n",
              "      <td>0.007269</td>\n",
              "      <td>0.026906</td>\n",
              "      <td>0.000000</td>\n",
              "    </tr>\n",
              "    <tr>\n",
              "      <th>1995-01-05</th>\n",
              "      <td>-0.014142</td>\n",
              "      <td>-0.016494</td>\n",
              "      <td>-0.008734</td>\n",
              "      <td>0.002451</td>\n",
              "    </tr>\n",
              "    <tr>\n",
              "      <th>1995-01-06</th>\n",
              "      <td>0.002049</td>\n",
              "      <td>0.016770</td>\n",
              "      <td>0.000000</td>\n",
              "      <td>-0.004890</td>\n",
              "    </tr>\n",
              "    <tr>\n",
              "      <th>1995-01-09</th>\n",
              "      <td>-0.004090</td>\n",
              "      <td>-0.006185</td>\n",
              "      <td>0.017622</td>\n",
              "      <td>-0.009829</td>\n",
              "    </tr>\n",
              "  </tbody>\n",
              "</table>\n",
              "</div>\n",
              "      <button class=\"colab-df-convert\" onclick=\"convertToInteractive('df-c3712eba-83ce-48cb-9448-f4dbaf70b4e0')\"\n",
              "              title=\"Convert this dataframe to an interactive table.\"\n",
              "              style=\"display:none;\">\n",
              "        \n",
              "  <svg xmlns=\"http://www.w3.org/2000/svg\" height=\"24px\"viewBox=\"0 0 24 24\"\n",
              "       width=\"24px\">\n",
              "    <path d=\"M0 0h24v24H0V0z\" fill=\"none\"/>\n",
              "    <path d=\"M18.56 5.44l.94 2.06.94-2.06 2.06-.94-2.06-.94-.94-2.06-.94 2.06-2.06.94zm-11 1L8.5 8.5l.94-2.06 2.06-.94-2.06-.94L8.5 2.5l-.94 2.06-2.06.94zm10 10l.94 2.06.94-2.06 2.06-.94-2.06-.94-.94-2.06-.94 2.06-2.06.94z\"/><path d=\"M17.41 7.96l-1.37-1.37c-.4-.4-.92-.59-1.43-.59-.52 0-1.04.2-1.43.59L10.3 9.45l-7.72 7.72c-.78.78-.78 2.05 0 2.83L4 21.41c.39.39.9.59 1.41.59.51 0 1.02-.2 1.41-.59l7.78-7.78 2.81-2.81c.8-.78.8-2.07 0-2.86zM5.41 20L4 18.59l7.72-7.72 1.47 1.35L5.41 20z\"/>\n",
              "  </svg>\n",
              "      </button>\n",
              "      \n",
              "  <style>\n",
              "    .colab-df-container {\n",
              "      display:flex;\n",
              "      flex-wrap:wrap;\n",
              "      gap: 12px;\n",
              "    }\n",
              "\n",
              "    .colab-df-convert {\n",
              "      background-color: #E8F0FE;\n",
              "      border: none;\n",
              "      border-radius: 50%;\n",
              "      cursor: pointer;\n",
              "      display: none;\n",
              "      fill: #1967D2;\n",
              "      height: 32px;\n",
              "      padding: 0 0 0 0;\n",
              "      width: 32px;\n",
              "    }\n",
              "\n",
              "    .colab-df-convert:hover {\n",
              "      background-color: #E2EBFA;\n",
              "      box-shadow: 0px 1px 2px rgba(60, 64, 67, 0.3), 0px 1px 3px 1px rgba(60, 64, 67, 0.15);\n",
              "      fill: #174EA6;\n",
              "    }\n",
              "\n",
              "    [theme=dark] .colab-df-convert {\n",
              "      background-color: #3B4455;\n",
              "      fill: #D2E3FC;\n",
              "    }\n",
              "\n",
              "    [theme=dark] .colab-df-convert:hover {\n",
              "      background-color: #434B5C;\n",
              "      box-shadow: 0px 1px 3px 1px rgba(0, 0, 0, 0.15);\n",
              "      filter: drop-shadow(0px 1px 2px rgba(0, 0, 0, 0.3));\n",
              "      fill: #FFFFFF;\n",
              "    }\n",
              "  </style>\n",
              "\n",
              "      <script>\n",
              "        const buttonEl =\n",
              "          document.querySelector('#df-c3712eba-83ce-48cb-9448-f4dbaf70b4e0 button.colab-df-convert');\n",
              "        buttonEl.style.display =\n",
              "          google.colab.kernel.accessAllowed ? 'block' : 'none';\n",
              "\n",
              "        async function convertToInteractive(key) {\n",
              "          const element = document.querySelector('#df-c3712eba-83ce-48cb-9448-f4dbaf70b4e0');\n",
              "          const dataTable =\n",
              "            await google.colab.kernel.invokeFunction('convertToInteractive',\n",
              "                                                     [key], {});\n",
              "          if (!dataTable) return;\n",
              "\n",
              "          const docLinkHtml = 'Like what you see? Visit the ' +\n",
              "            '<a target=\"_blank\" href=https://colab.research.google.com/notebooks/data_table.ipynb>data table notebook</a>'\n",
              "            + ' to learn more about interactive tables.';\n",
              "          element.innerHTML = '';\n",
              "          dataTable['output_type'] = 'display_data';\n",
              "          await google.colab.output.renderOutput(dataTable, element);\n",
              "          const docLink = document.createElement('div');\n",
              "          docLink.innerHTML = docLinkHtml;\n",
              "          element.appendChild(docLink);\n",
              "        }\n",
              "      </script>\n",
              "    </div>\n",
              "  </div>\n",
              "  "
            ]
          },
          "metadata": {},
          "execution_count": 15
        }
      ]
    },
    {
      "cell_type": "markdown",
      "source": [
        "We are using simple retruns, as, it is preferred if we are working with multiple stocks over same period"
      ],
      "metadata": {
        "id": "ZdWMXRd6akOU"
      }
    },
    {
      "cell_type": "markdown",
      "source": [
        "### Portfolio_1"
      ],
      "metadata": {
        "id": "BZ6BRn1Xcnw1"
      }
    },
    {
      "cell_type": "code",
      "source": [
        "weights = np.array([0.25, 0.25, 0.25, 0.25]) #Portifolio weights should always sum up to 1"
      ],
      "metadata": {
        "id": "WGv9fstkZcgQ"
      },
      "execution_count": 16,
      "outputs": []
    },
    {
      "cell_type": "code",
      "source": [
        "annual_returns = returns.mean()*250\n",
        "annual_returns"
      ],
      "metadata": {
        "colab": {
          "base_uri": "https://localhost:8080/"
        },
        "id": "zfcriY2mbO2n",
        "outputId": "053903ad-257a-43cc-cd85-1d5057fa940f"
      },
      "execution_count": 18,
      "outputs": [
        {
          "output_type": "execute_result",
          "data": {
            "text/plain": [
              "PG      0.127843\n",
              "MSFT    0.215568\n",
              "F       0.121673\n",
              "GE      0.092864\n",
              "dtype: float64"
            ]
          },
          "metadata": {},
          "execution_count": 18
        }
      ]
    },
    {
      "cell_type": "code",
      "source": [
        "np.dot(annual_returns, weights)"
      ],
      "metadata": {
        "colab": {
          "base_uri": "https://localhost:8080/"
        },
        "id": "cidrKp6cbI-x",
        "outputId": "6b39fd2e-b9ce-4e36-dbbd-3dbdefd5a127"
      },
      "execution_count": 19,
      "outputs": [
        {
          "output_type": "execute_result",
          "data": {
            "text/plain": [
              "0.13948705458892896"
            ]
          },
          "metadata": {},
          "execution_count": 19
        }
      ]
    },
    {
      "cell_type": "code",
      "source": [
        "pfolio_1 = str(round(np.dot(annual_returns, weights), 5)*100)+'%'\n",
        "print(f\"Portifoli_1 return : {pfolio_1}\")"
      ],
      "metadata": {
        "colab": {
          "base_uri": "https://localhost:8080/"
        },
        "id": "Ewo8G4nHbpm1",
        "outputId": "cc25eb24-8bfc-4f22-c82f-7f498b210694"
      },
      "execution_count": 21,
      "outputs": [
        {
          "output_type": "stream",
          "name": "stdout",
          "text": [
            "Portifoli_1 return : 13.949%\n"
          ]
        }
      ]
    },
    {
      "cell_type": "markdown",
      "source": [
        "### Portfolio_2"
      ],
      "metadata": {
        "id": "Zp_PMMa6cxnS"
      }
    },
    {
      "cell_type": "code",
      "source": [
        "weights_2 = np.array([0.4, 0.4, 0.15, 0.05])\n",
        "pfolio_2 = str(round(np.dot(annual_returns, weights_2), 5)*100)+'%'\n",
        "print(f\"Portifoli_1 return : {pfolio_2}\")"
      ],
      "metadata": {
        "colab": {
          "base_uri": "https://localhost:8080/"
        },
        "id": "8uJNx0rbcfPc",
        "outputId": "340501f6-8143-41f3-8d0e-e5c04e303e21"
      },
      "execution_count": 22,
      "outputs": [
        {
          "output_type": "stream",
          "name": "stdout",
          "text": [
            "Portifoli_1 return : 16.026%\n"
          ]
        }
      ]
    },
    {
      "cell_type": "markdown",
      "source": [
        "# <font color=\"Blue\"> Calculating the Returns of Indices"
      ],
      "metadata": {
        "id": "aFwY8VKHdmYP"
      }
    },
    {
      "cell_type": "markdown",
      "source": [
        "Top US Market indices are \n",
        "\n",
        "*   S&P 500 (True approximation of US stock market)\n",
        "*   Dowjones Industrial average (It has 30 large equally weighted public stocks; Not a true represetation of US stock market)\n",
        "*   NASDAQ composite index (Most of them are IT companies)\n",
        "\n",
        "\n",
        "\n",
        "> Morgan Stanley MSCI is a global indices that icludes stocks from all developed markets in the world.\n",
        "\n",
        "If you think your stock is performing well, compare it with a stock indices (S&P 500) to observe how really good your stock is performing.\n",
        "\n",
        "\n",
        "\n",
        "\n",
        "\n"
      ],
      "metadata": {
        "id": "xWALTkEqd0Oh"
      }
    },
    {
      "cell_type": "code",
      "source": [
        "start = calendar.timegm(datetime.datetime(year = 1997, month = 1, day = 1).timetuple())\n",
        "end = calendar.timegm(time.gmtime()) #current epoch time"
      ],
      "metadata": {
        "id": "cO-_twDGgkyK"
      },
      "execution_count": 23,
      "outputs": []
    },
    {
      "cell_type": "code",
      "source": [
        "# \"%5EGSPC\" is S&P 500\n",
        "# \"^IXIC\" is NASDAQ Composite\n",
        "# \"%5EGDAXI\" is DAX PERFORMANCE-INDEX (^GDAXI)\n",
        "# \"^FTSE\" is FTSE 100\n",
        "\n",
        "tickers = ['%5EGSPC', '^IXIC', '%5EGDAXI', '^FTSE']\n",
        "\n",
        "ind_data = pd.DataFrame()\n",
        "ind_data['Date'] = hitYahooFinance('PG', start, end)['Date'] #doing this just for getting the date column\n",
        "for t in tickers:\n",
        "  ind_data[t] = hitYahooFinance(t, start, end)['Adj Close']"
      ],
      "metadata": {
        "id": "whvQmhy_dK6z"
      },
      "execution_count": 29,
      "outputs": []
    },
    {
      "cell_type": "code",
      "source": [
        "ind_data.set_index('Date', inplace = True)"
      ],
      "metadata": {
        "id": "jYlhnxBMp1B7"
      },
      "execution_count": 41,
      "outputs": []
    },
    {
      "cell_type": "code",
      "source": [
        "ind_data.head()"
      ],
      "metadata": {
        "colab": {
          "base_uri": "https://localhost:8080/",
          "height": 238
        },
        "id": "gaVHQ8Z4gny-",
        "outputId": "e9d9c2a3-19cf-4336-bd09-ddf6414cadb5"
      },
      "execution_count": 42,
      "outputs": [
        {
          "output_type": "execute_result",
          "data": {
            "text/plain": [
              "               %5EGSPC        ^IXIC     %5EGDAXI        ^FTSE\n",
              "Date                                                         \n",
              "1997-01-02  737.010010  1280.699951  2820.810059  4057.399902\n",
              "1997-01-03  748.030029  1310.680054  2863.260010  4089.500000\n",
              "1997-01-06  747.650024  1316.400024  2890.199951  4106.500000\n",
              "1997-01-07  753.229980  1327.729980  2876.340088  4078.800049\n",
              "1997-01-08  748.409973  1320.349976  2904.080078  4087.500000"
            ],
            "text/html": [
              "\n",
              "  <div id=\"df-ceca8288-b416-4a08-abf0-08ea0980a51d\">\n",
              "    <div class=\"colab-df-container\">\n",
              "      <div>\n",
              "<style scoped>\n",
              "    .dataframe tbody tr th:only-of-type {\n",
              "        vertical-align: middle;\n",
              "    }\n",
              "\n",
              "    .dataframe tbody tr th {\n",
              "        vertical-align: top;\n",
              "    }\n",
              "\n",
              "    .dataframe thead th {\n",
              "        text-align: right;\n",
              "    }\n",
              "</style>\n",
              "<table border=\"1\" class=\"dataframe\">\n",
              "  <thead>\n",
              "    <tr style=\"text-align: right;\">\n",
              "      <th></th>\n",
              "      <th>%5EGSPC</th>\n",
              "      <th>^IXIC</th>\n",
              "      <th>%5EGDAXI</th>\n",
              "      <th>^FTSE</th>\n",
              "    </tr>\n",
              "    <tr>\n",
              "      <th>Date</th>\n",
              "      <th></th>\n",
              "      <th></th>\n",
              "      <th></th>\n",
              "      <th></th>\n",
              "    </tr>\n",
              "  </thead>\n",
              "  <tbody>\n",
              "    <tr>\n",
              "      <th>1997-01-02</th>\n",
              "      <td>737.010010</td>\n",
              "      <td>1280.699951</td>\n",
              "      <td>2820.810059</td>\n",
              "      <td>4057.399902</td>\n",
              "    </tr>\n",
              "    <tr>\n",
              "      <th>1997-01-03</th>\n",
              "      <td>748.030029</td>\n",
              "      <td>1310.680054</td>\n",
              "      <td>2863.260010</td>\n",
              "      <td>4089.500000</td>\n",
              "    </tr>\n",
              "    <tr>\n",
              "      <th>1997-01-06</th>\n",
              "      <td>747.650024</td>\n",
              "      <td>1316.400024</td>\n",
              "      <td>2890.199951</td>\n",
              "      <td>4106.500000</td>\n",
              "    </tr>\n",
              "    <tr>\n",
              "      <th>1997-01-07</th>\n",
              "      <td>753.229980</td>\n",
              "      <td>1327.729980</td>\n",
              "      <td>2876.340088</td>\n",
              "      <td>4078.800049</td>\n",
              "    </tr>\n",
              "    <tr>\n",
              "      <th>1997-01-08</th>\n",
              "      <td>748.409973</td>\n",
              "      <td>1320.349976</td>\n",
              "      <td>2904.080078</td>\n",
              "      <td>4087.500000</td>\n",
              "    </tr>\n",
              "  </tbody>\n",
              "</table>\n",
              "</div>\n",
              "      <button class=\"colab-df-convert\" onclick=\"convertToInteractive('df-ceca8288-b416-4a08-abf0-08ea0980a51d')\"\n",
              "              title=\"Convert this dataframe to an interactive table.\"\n",
              "              style=\"display:none;\">\n",
              "        \n",
              "  <svg xmlns=\"http://www.w3.org/2000/svg\" height=\"24px\"viewBox=\"0 0 24 24\"\n",
              "       width=\"24px\">\n",
              "    <path d=\"M0 0h24v24H0V0z\" fill=\"none\"/>\n",
              "    <path d=\"M18.56 5.44l.94 2.06.94-2.06 2.06-.94-2.06-.94-.94-2.06-.94 2.06-2.06.94zm-11 1L8.5 8.5l.94-2.06 2.06-.94-2.06-.94L8.5 2.5l-.94 2.06-2.06.94zm10 10l.94 2.06.94-2.06 2.06-.94-2.06-.94-.94-2.06-.94 2.06-2.06.94z\"/><path d=\"M17.41 7.96l-1.37-1.37c-.4-.4-.92-.59-1.43-.59-.52 0-1.04.2-1.43.59L10.3 9.45l-7.72 7.72c-.78.78-.78 2.05 0 2.83L4 21.41c.39.39.9.59 1.41.59.51 0 1.02-.2 1.41-.59l7.78-7.78 2.81-2.81c.8-.78.8-2.07 0-2.86zM5.41 20L4 18.59l7.72-7.72 1.47 1.35L5.41 20z\"/>\n",
              "  </svg>\n",
              "      </button>\n",
              "      \n",
              "  <style>\n",
              "    .colab-df-container {\n",
              "      display:flex;\n",
              "      flex-wrap:wrap;\n",
              "      gap: 12px;\n",
              "    }\n",
              "\n",
              "    .colab-df-convert {\n",
              "      background-color: #E8F0FE;\n",
              "      border: none;\n",
              "      border-radius: 50%;\n",
              "      cursor: pointer;\n",
              "      display: none;\n",
              "      fill: #1967D2;\n",
              "      height: 32px;\n",
              "      padding: 0 0 0 0;\n",
              "      width: 32px;\n",
              "    }\n",
              "\n",
              "    .colab-df-convert:hover {\n",
              "      background-color: #E2EBFA;\n",
              "      box-shadow: 0px 1px 2px rgba(60, 64, 67, 0.3), 0px 1px 3px 1px rgba(60, 64, 67, 0.15);\n",
              "      fill: #174EA6;\n",
              "    }\n",
              "\n",
              "    [theme=dark] .colab-df-convert {\n",
              "      background-color: #3B4455;\n",
              "      fill: #D2E3FC;\n",
              "    }\n",
              "\n",
              "    [theme=dark] .colab-df-convert:hover {\n",
              "      background-color: #434B5C;\n",
              "      box-shadow: 0px 1px 3px 1px rgba(0, 0, 0, 0.15);\n",
              "      filter: drop-shadow(0px 1px 2px rgba(0, 0, 0, 0.3));\n",
              "      fill: #FFFFFF;\n",
              "    }\n",
              "  </style>\n",
              "\n",
              "      <script>\n",
              "        const buttonEl =\n",
              "          document.querySelector('#df-ceca8288-b416-4a08-abf0-08ea0980a51d button.colab-df-convert');\n",
              "        buttonEl.style.display =\n",
              "          google.colab.kernel.accessAllowed ? 'block' : 'none';\n",
              "\n",
              "        async function convertToInteractive(key) {\n",
              "          const element = document.querySelector('#df-ceca8288-b416-4a08-abf0-08ea0980a51d');\n",
              "          const dataTable =\n",
              "            await google.colab.kernel.invokeFunction('convertToInteractive',\n",
              "                                                     [key], {});\n",
              "          if (!dataTable) return;\n",
              "\n",
              "          const docLinkHtml = 'Like what you see? Visit the ' +\n",
              "            '<a target=\"_blank\" href=https://colab.research.google.com/notebooks/data_table.ipynb>data table notebook</a>'\n",
              "            + ' to learn more about interactive tables.';\n",
              "          element.innerHTML = '';\n",
              "          dataTable['output_type'] = 'display_data';\n",
              "          await google.colab.output.renderOutput(dataTable, element);\n",
              "          const docLink = document.createElement('div');\n",
              "          docLink.innerHTML = docLinkHtml;\n",
              "          element.appendChild(docLink);\n",
              "        }\n",
              "      </script>\n",
              "    </div>\n",
              "  </div>\n",
              "  "
            ]
          },
          "metadata": {},
          "execution_count": 42
        }
      ]
    },
    {
      "cell_type": "code",
      "source": [
        "ind_data.tail()"
      ],
      "metadata": {
        "colab": {
          "base_uri": "https://localhost:8080/",
          "height": 238
        },
        "id": "dWPzRov1iP7d",
        "outputId": "e6a8b808-53d6-41f0-b03d-aac87ffa6bc6"
      },
      "execution_count": 43,
      "outputs": [
        {
          "output_type": "execute_result",
          "data": {
            "text/plain": [
              "                %5EGSPC         ^IXIC      %5EGDAXI        ^FTSE\n",
              "Date                                                            \n",
              "2023-01-30  4017.770020  11393.809570  13700.929688  7237.799805\n",
              "2023-01-31  4076.600098  11584.549805  13694.509766  7262.100098\n",
              "2023-02-01  4119.209961  11816.320313  13795.849609  7351.100098\n",
              "2023-02-02  4179.759766  12200.820313  13816.610352  7473.000000\n",
              "2023-02-03  4136.479980  12006.950195  13910.120117  7385.899902"
            ],
            "text/html": [
              "\n",
              "  <div id=\"df-1aeba01c-f27b-48b2-9b48-5d9a9e891d03\">\n",
              "    <div class=\"colab-df-container\">\n",
              "      <div>\n",
              "<style scoped>\n",
              "    .dataframe tbody tr th:only-of-type {\n",
              "        vertical-align: middle;\n",
              "    }\n",
              "\n",
              "    .dataframe tbody tr th {\n",
              "        vertical-align: top;\n",
              "    }\n",
              "\n",
              "    .dataframe thead th {\n",
              "        text-align: right;\n",
              "    }\n",
              "</style>\n",
              "<table border=\"1\" class=\"dataframe\">\n",
              "  <thead>\n",
              "    <tr style=\"text-align: right;\">\n",
              "      <th></th>\n",
              "      <th>%5EGSPC</th>\n",
              "      <th>^IXIC</th>\n",
              "      <th>%5EGDAXI</th>\n",
              "      <th>^FTSE</th>\n",
              "    </tr>\n",
              "    <tr>\n",
              "      <th>Date</th>\n",
              "      <th></th>\n",
              "      <th></th>\n",
              "      <th></th>\n",
              "      <th></th>\n",
              "    </tr>\n",
              "  </thead>\n",
              "  <tbody>\n",
              "    <tr>\n",
              "      <th>2023-01-30</th>\n",
              "      <td>4017.770020</td>\n",
              "      <td>11393.809570</td>\n",
              "      <td>13700.929688</td>\n",
              "      <td>7237.799805</td>\n",
              "    </tr>\n",
              "    <tr>\n",
              "      <th>2023-01-31</th>\n",
              "      <td>4076.600098</td>\n",
              "      <td>11584.549805</td>\n",
              "      <td>13694.509766</td>\n",
              "      <td>7262.100098</td>\n",
              "    </tr>\n",
              "    <tr>\n",
              "      <th>2023-02-01</th>\n",
              "      <td>4119.209961</td>\n",
              "      <td>11816.320313</td>\n",
              "      <td>13795.849609</td>\n",
              "      <td>7351.100098</td>\n",
              "    </tr>\n",
              "    <tr>\n",
              "      <th>2023-02-02</th>\n",
              "      <td>4179.759766</td>\n",
              "      <td>12200.820313</td>\n",
              "      <td>13816.610352</td>\n",
              "      <td>7473.000000</td>\n",
              "    </tr>\n",
              "    <tr>\n",
              "      <th>2023-02-03</th>\n",
              "      <td>4136.479980</td>\n",
              "      <td>12006.950195</td>\n",
              "      <td>13910.120117</td>\n",
              "      <td>7385.899902</td>\n",
              "    </tr>\n",
              "  </tbody>\n",
              "</table>\n",
              "</div>\n",
              "      <button class=\"colab-df-convert\" onclick=\"convertToInteractive('df-1aeba01c-f27b-48b2-9b48-5d9a9e891d03')\"\n",
              "              title=\"Convert this dataframe to an interactive table.\"\n",
              "              style=\"display:none;\">\n",
              "        \n",
              "  <svg xmlns=\"http://www.w3.org/2000/svg\" height=\"24px\"viewBox=\"0 0 24 24\"\n",
              "       width=\"24px\">\n",
              "    <path d=\"M0 0h24v24H0V0z\" fill=\"none\"/>\n",
              "    <path d=\"M18.56 5.44l.94 2.06.94-2.06 2.06-.94-2.06-.94-.94-2.06-.94 2.06-2.06.94zm-11 1L8.5 8.5l.94-2.06 2.06-.94-2.06-.94L8.5 2.5l-.94 2.06-2.06.94zm10 10l.94 2.06.94-2.06 2.06-.94-2.06-.94-.94-2.06-.94 2.06-2.06.94z\"/><path d=\"M17.41 7.96l-1.37-1.37c-.4-.4-.92-.59-1.43-.59-.52 0-1.04.2-1.43.59L10.3 9.45l-7.72 7.72c-.78.78-.78 2.05 0 2.83L4 21.41c.39.39.9.59 1.41.59.51 0 1.02-.2 1.41-.59l7.78-7.78 2.81-2.81c.8-.78.8-2.07 0-2.86zM5.41 20L4 18.59l7.72-7.72 1.47 1.35L5.41 20z\"/>\n",
              "  </svg>\n",
              "      </button>\n",
              "      \n",
              "  <style>\n",
              "    .colab-df-container {\n",
              "      display:flex;\n",
              "      flex-wrap:wrap;\n",
              "      gap: 12px;\n",
              "    }\n",
              "\n",
              "    .colab-df-convert {\n",
              "      background-color: #E8F0FE;\n",
              "      border: none;\n",
              "      border-radius: 50%;\n",
              "      cursor: pointer;\n",
              "      display: none;\n",
              "      fill: #1967D2;\n",
              "      height: 32px;\n",
              "      padding: 0 0 0 0;\n",
              "      width: 32px;\n",
              "    }\n",
              "\n",
              "    .colab-df-convert:hover {\n",
              "      background-color: #E2EBFA;\n",
              "      box-shadow: 0px 1px 2px rgba(60, 64, 67, 0.3), 0px 1px 3px 1px rgba(60, 64, 67, 0.15);\n",
              "      fill: #174EA6;\n",
              "    }\n",
              "\n",
              "    [theme=dark] .colab-df-convert {\n",
              "      background-color: #3B4455;\n",
              "      fill: #D2E3FC;\n",
              "    }\n",
              "\n",
              "    [theme=dark] .colab-df-convert:hover {\n",
              "      background-color: #434B5C;\n",
              "      box-shadow: 0px 1px 3px 1px rgba(0, 0, 0, 0.15);\n",
              "      filter: drop-shadow(0px 1px 2px rgba(0, 0, 0, 0.3));\n",
              "      fill: #FFFFFF;\n",
              "    }\n",
              "  </style>\n",
              "\n",
              "      <script>\n",
              "        const buttonEl =\n",
              "          document.querySelector('#df-1aeba01c-f27b-48b2-9b48-5d9a9e891d03 button.colab-df-convert');\n",
              "        buttonEl.style.display =\n",
              "          google.colab.kernel.accessAllowed ? 'block' : 'none';\n",
              "\n",
              "        async function convertToInteractive(key) {\n",
              "          const element = document.querySelector('#df-1aeba01c-f27b-48b2-9b48-5d9a9e891d03');\n",
              "          const dataTable =\n",
              "            await google.colab.kernel.invokeFunction('convertToInteractive',\n",
              "                                                     [key], {});\n",
              "          if (!dataTable) return;\n",
              "\n",
              "          const docLinkHtml = 'Like what you see? Visit the ' +\n",
              "            '<a target=\"_blank\" href=https://colab.research.google.com/notebooks/data_table.ipynb>data table notebook</a>'\n",
              "            + ' to learn more about interactive tables.';\n",
              "          element.innerHTML = '';\n",
              "          dataTable['output_type'] = 'display_data';\n",
              "          await google.colab.output.renderOutput(dataTable, element);\n",
              "          const docLink = document.createElement('div');\n",
              "          docLink.innerHTML = docLinkHtml;\n",
              "          element.appendChild(docLink);\n",
              "        }\n",
              "      </script>\n",
              "    </div>\n",
              "  </div>\n",
              "  "
            ]
          },
          "metadata": {},
          "execution_count": 43
        }
      ]
    },
    {
      "cell_type": "code",
      "source": [
        "(ind_data/ ind_data.iloc[0]*100).plot(figsize = (15, 6))"
      ],
      "metadata": {
        "colab": {
          "base_uri": "https://localhost:8080/",
          "height": 406
        },
        "id": "R2kvKP3joN10",
        "outputId": "73727ee2-fbd4-4335-adb0-2d3c3dce9190"
      },
      "execution_count": 44,
      "outputs": [
        {
          "output_type": "execute_result",
          "data": {
            "text/plain": [
              "<matplotlib.axes._subplots.AxesSubplot at 0x7f52ebdc4a60>"
            ]
          },
          "metadata": {},
          "execution_count": 44
        },
        {
          "output_type": "display_data",
          "data": {
            "text/plain": [
              "<Figure size 1080x432 with 1 Axes>"
            ],
            "image/png": "[encoded data removed]"
          },
          "metadata": {
            "needs_background": "light"
          }
        }
      ]
    },
    {
      "cell_type": "code",
      "source": [
        "ind_returns = (ind_data/ ind_data.shift(1))-1\n",
        "ind_returns.tail()"
      ],
      "metadata": {
        "colab": {
          "base_uri": "https://localhost:8080/",
          "height": 238
        },
        "id": "3ArygiIRo2R4",
        "outputId": "e59c1bb0-f5d1-4f47-de3b-5cc93bb7d230"
      },
      "execution_count": 45,
      "outputs": [
        {
          "output_type": "execute_result",
          "data": {
            "text/plain": [
              "             %5EGSPC     ^IXIC  %5EGDAXI     ^FTSE\n",
              "Date                                              \n",
              "2023-01-30 -0.012969 -0.019610  0.012262 -0.008575\n",
              "2023-01-31  0.014642  0.016741 -0.000469  0.003357\n",
              "2023-02-01  0.010452  0.020007  0.007400  0.012255\n",
              "2023-02-02  0.014699  0.032540  0.001505  0.016583\n",
              "2023-02-03 -0.010355 -0.015890  0.006768 -0.011655"
            ],
            "text/html": [
              "\n",
              "  <div id=\"df-655a11a8-e7ac-4d41-8125-f566b934bcae\">\n",
              "    <div class=\"colab-df-container\">\n",
              "      <div>\n",
              "<style scoped>\n",
              "    .dataframe tbody tr th:only-of-type {\n",
              "        vertical-align: middle;\n",
              "    }\n",
              "\n",
              "    .dataframe tbody tr th {\n",
              "        vertical-align: top;\n",
              "    }\n",
              "\n",
              "    .dataframe thead th {\n",
              "        text-align: right;\n",
              "    }\n",
              "</style>\n",
              "<table border=\"1\" class=\"dataframe\">\n",
              "  <thead>\n",
              "    <tr style=\"text-align: right;\">\n",
              "      <th></th>\n",
              "      <th>%5EGSPC</th>\n",
              "      <th>^IXIC</th>\n",
              "      <th>%5EGDAXI</th>\n",
              "      <th>^FTSE</th>\n",
              "    </tr>\n",
              "    <tr>\n",
              "      <th>Date</th>\n",
              "      <th></th>\n",
              "      <th></th>\n",
              "      <th></th>\n",
              "      <th></th>\n",
              "    </tr>\n",
              "  </thead>\n",
              "  <tbody>\n",
              "    <tr>\n",
              "      <th>2023-01-30</th>\n",
              "      <td>-0.012969</td>\n",
              "      <td>-0.019610</td>\n",
              "      <td>0.012262</td>\n",
              "      <td>-0.008575</td>\n",
              "    </tr>\n",
              "    <tr>\n",
              "      <th>2023-01-31</th>\n",
              "      <td>0.014642</td>\n",
              "      <td>0.016741</td>\n",
              "      <td>-0.000469</td>\n",
              "      <td>0.003357</td>\n",
              "    </tr>\n",
              "    <tr>\n",
              "      <th>2023-02-01</th>\n",
              "      <td>0.010452</td>\n",
              "      <td>0.020007</td>\n",
              "      <td>0.007400</td>\n",
              "      <td>0.012255</td>\n",
              "    </tr>\n",
              "    <tr>\n",
              "      <th>2023-02-02</th>\n",
              "      <td>0.014699</td>\n",
              "      <td>0.032540</td>\n",
              "      <td>0.001505</td>\n",
              "      <td>0.016583</td>\n",
              "    </tr>\n",
              "    <tr>\n",
              "      <th>2023-02-03</th>\n",
              "      <td>-0.010355</td>\n",
              "      <td>-0.015890</td>\n",
              "      <td>0.006768</td>\n",
              "      <td>-0.011655</td>\n",
              "    </tr>\n",
              "  </tbody>\n",
              "</table>\n",
              "</div>\n",
              "      <button class=\"colab-df-convert\" onclick=\"convertToInteractive('df-655a11a8-e7ac-4d41-8125-f566b934bcae')\"\n",
              "              title=\"Convert this dataframe to an interactive table.\"\n",
              "              style=\"display:none;\">\n",
              "        \n",
              "  <svg xmlns=\"http://www.w3.org/2000/svg\" height=\"24px\"viewBox=\"0 0 24 24\"\n",
              "       width=\"24px\">\n",
              "    <path d=\"M0 0h24v24H0V0z\" fill=\"none\"/>\n",
              "    <path d=\"M18.56 5.44l.94 2.06.94-2.06 2.06-.94-2.06-.94-.94-2.06-.94 2.06-2.06.94zm-11 1L8.5 8.5l.94-2.06 2.06-.94-2.06-.94L8.5 2.5l-.94 2.06-2.06.94zm10 10l.94 2.06.94-2.06 2.06-.94-2.06-.94-.94-2.06-.94 2.06-2.06.94z\"/><path d=\"M17.41 7.96l-1.37-1.37c-.4-.4-.92-.59-1.43-.59-.52 0-1.04.2-1.43.59L10.3 9.45l-7.72 7.72c-.78.78-.78 2.05 0 2.83L4 21.41c.39.39.9.59 1.41.59.51 0 1.02-.2 1.41-.59l7.78-7.78 2.81-2.81c.8-.78.8-2.07 0-2.86zM5.41 20L4 18.59l7.72-7.72 1.47 1.35L5.41 20z\"/>\n",
              "  </svg>\n",
              "      </button>\n",
              "      \n",
              "  <style>\n",
              "    .colab-df-container {\n",
              "      display:flex;\n",
              "      flex-wrap:wrap;\n",
              "      gap: 12px;\n",
              "    }\n",
              "\n",
              "    .colab-df-convert {\n",
              "      background-color: #E8F0FE;\n",
              "      border: none;\n",
              "      border-radius: 50%;\n",
              "      cursor: pointer;\n",
              "      display: none;\n",
              "      fill: #1967D2;\n",
              "      height: 32px;\n",
              "      padding: 0 0 0 0;\n",
              "      width: 32px;\n",
              "    }\n",
              "\n",
              "    .colab-df-convert:hover {\n",
              "      background-color: #E2EBFA;\n",
              "      box-shadow: 0px 1px 2px rgba(60, 64, 67, 0.3), 0px 1px 3px 1px rgba(60, 64, 67, 0.15);\n",
              "      fill: #174EA6;\n",
              "    }\n",
              "\n",
              "    [theme=dark] .colab-df-convert {\n",
              "      background-color: #3B4455;\n",
              "      fill: #D2E3FC;\n",
              "    }\n",
              "\n",
              "    [theme=dark] .colab-df-convert:hover {\n",
              "      background-color: #434B5C;\n",
              "      box-shadow: 0px 1px 3px 1px rgba(0, 0, 0, 0.15);\n",
              "      filter: drop-shadow(0px 1px 2px rgba(0, 0, 0, 0.3));\n",
              "      fill: #FFFFFF;\n",
              "    }\n",
              "  </style>\n",
              "\n",
              "      <script>\n",
              "        const buttonEl =\n",
              "          document.querySelector('#df-655a11a8-e7ac-4d41-8125-f566b934bcae button.colab-df-convert');\n",
              "        buttonEl.style.display =\n",
              "          google.colab.kernel.accessAllowed ? 'block' : 'none';\n",
              "\n",
              "        async function convertToInteractive(key) {\n",
              "          const element = document.querySelector('#df-655a11a8-e7ac-4d41-8125-f566b934bcae');\n",
              "          const dataTable =\n",
              "            await google.colab.kernel.invokeFunction('convertToInteractive',\n",
              "                                                     [key], {});\n",
              "          if (!dataTable) return;\n",
              "\n",
              "          const docLinkHtml = 'Like what you see? Visit the ' +\n",
              "            '<a target=\"_blank\" href=https://colab.research.google.com/notebooks/data_table.ipynb>data table notebook</a>'\n",
              "            + ' to learn more about interactive tables.';\n",
              "          element.innerHTML = '';\n",
              "          dataTable['output_type'] = 'display_data';\n",
              "          await google.colab.output.renderOutput(dataTable, element);\n",
              "          const docLink = document.createElement('div');\n",
              "          docLink.innerHTML = docLinkHtml;\n",
              "          element.appendChild(docLink);\n",
              "        }\n",
              "      </script>\n",
              "    </div>\n",
              "  </div>\n",
              "  "
            ]
          },
          "metadata": {},
          "execution_count": 45
        }
      ]
    },
    {
      "cell_type": "code",
      "source": [
        "annual_ind_returns = ind_returns.mean() * 250\n",
        "annual_ind_returns"
      ],
      "metadata": {
        "colab": {
          "base_uri": "https://localhost:8080/"
        },
        "id": "Svhi9eteqrYS",
        "outputId": "5e87894d-4eab-458c-e698-bd0a992f985b"
      },
      "execution_count": 46,
      "outputs": [
        {
          "output_type": "execute_result",
          "data": {
            "text/plain": [
              "%5EGSPC     0.085039\n",
              "^IXIC       0.117105\n",
              "%5EGDAXI    0.081293\n",
              "^FTSE       0.037802\n",
              "dtype: float64"
            ]
          },
          "metadata": {},
          "execution_count": 46
        }
      ]
    },
    {
      "cell_type": "markdown",
      "source": [
        "### Now lets compare our stock performance with Indices"
      ],
      "metadata": {
        "id": "17diwmsYq_qm"
      }
    },
    {
      "cell_type": "code",
      "source": [
        "start = calendar.timegm(datetime.datetime(year = 2007, month = 1, day = 1).timetuple())\n",
        "end = calendar.timegm(time.gmtime()) #current epoch time\n",
        "\n",
        "tickers = [\"PG\", \"%5EGSPC\", \"^DJI\"] #DJI is Dow Jones\n",
        "\n",
        "data_2 = pd.DataFrame()\n",
        "data_2['Date'] = hitYahooFinance('PG', start, end)['Date'] #doing this just for getting the date column\n",
        "for t in tickers:\n",
        "  data_2[t] = hitYahooFinance(t, start, end)['Adj Close']\n",
        "\n",
        "data_2.set_index('Date', inplace = True)"
      ],
      "metadata": {
        "id": "4wrRwRlJq0gA"
      },
      "execution_count": 51,
      "outputs": []
    },
    {
      "cell_type": "code",
      "source": [
        "data_2.tail()"
      ],
      "metadata": {
        "colab": {
          "base_uri": "https://localhost:8080/",
          "height": 238
        },
        "id": "MXoIGjpfrr3y",
        "outputId": "aa32fdc4-dbec-4d04-9e5b-6133c06c5825"
      },
      "execution_count": 52,
      "outputs": [
        {
          "output_type": "execute_result",
          "data": {
            "text/plain": [
              "                    PG      %5EGSPC          ^DJI\n",
              "Date                                             \n",
              "2023-01-30  141.009995  4017.770020  33717.089844\n",
              "2023-01-31  142.380005  4076.600098  34086.039063\n",
              "2023-02-01  143.190002  4119.209961  34092.960938\n",
              "2023-02-02  142.169998  4179.759766  34053.941406\n",
              "2023-02-03  142.610001  4136.479980  33926.011719"
            ],
            "text/html": [
              "\n",
              "  <div id=\"df-792e45b6-15e3-4bb1-9e18-bfdc462541c3\">\n",
              "    <div class=\"colab-df-container\">\n",
              "      <div>\n",
              "<style scoped>\n",
              "    .dataframe tbody tr th:only-of-type {\n",
              "        vertical-align: middle;\n",
              "    }\n",
              "\n",
              "    .dataframe tbody tr th {\n",
              "        vertical-align: top;\n",
              "    }\n",
              "\n",
              "    .dataframe thead th {\n",
              "        text-align: right;\n",
              "    }\n",
              "</style>\n",
              "<table border=\"1\" class=\"dataframe\">\n",
              "  <thead>\n",
              "    <tr style=\"text-align: right;\">\n",
              "      <th></th>\n",
              "      <th>PG</th>\n",
              "      <th>%5EGSPC</th>\n",
              "      <th>^DJI</th>\n",
              "    </tr>\n",
              "    <tr>\n",
              "      <th>Date</th>\n",
              "      <th></th>\n",
              "      <th></th>\n",
              "      <th></th>\n",
              "    </tr>\n",
              "  </thead>\n",
              "  <tbody>\n",
              "    <tr>\n",
              "      <th>2023-01-30</th>\n",
              "      <td>141.009995</td>\n",
              "      <td>4017.770020</td>\n",
              "      <td>33717.089844</td>\n",
              "    </tr>\n",
              "    <tr>\n",
              "      <th>2023-01-31</th>\n",
              "      <td>142.380005</td>\n",
              "      <td>4076.600098</td>\n",
              "      <td>34086.039063</td>\n",
              "    </tr>\n",
              "    <tr>\n",
              "      <th>2023-02-01</th>\n",
              "      <td>143.190002</td>\n",
              "      <td>4119.209961</td>\n",
              "      <td>34092.960938</td>\n",
              "    </tr>\n",
              "    <tr>\n",
              "      <th>2023-02-02</th>\n",
              "      <td>142.169998</td>\n",
              "      <td>4179.759766</td>\n",
              "      <td>34053.941406</td>\n",
              "    </tr>\n",
              "    <tr>\n",
              "      <th>2023-02-03</th>\n",
              "      <td>142.610001</td>\n",
              "      <td>4136.479980</td>\n",
              "      <td>33926.011719</td>\n",
              "    </tr>\n",
              "  </tbody>\n",
              "</table>\n",
              "</div>\n",
              "      <button class=\"colab-df-convert\" onclick=\"convertToInteractive('df-792e45b6-15e3-4bb1-9e18-bfdc462541c3')\"\n",
              "              title=\"Convert this dataframe to an interactive table.\"\n",
              "              style=\"display:none;\">\n",
              "        \n",
              "  <svg xmlns=\"http://www.w3.org/2000/svg\" height=\"24px\"viewBox=\"0 0 24 24\"\n",
              "       width=\"24px\">\n",
              "    <path d=\"M0 0h24v24H0V0z\" fill=\"none\"/>\n",
              "    <path d=\"M18.56 5.44l.94 2.06.94-2.06 2.06-.94-2.06-.94-.94-2.06-.94 2.06-2.06.94zm-11 1L8.5 8.5l.94-2.06 2.06-.94-2.06-.94L8.5 2.5l-.94 2.06-2.06.94zm10 10l.94 2.06.94-2.06 2.06-.94-2.06-.94-.94-2.06-.94 2.06-2.06.94z\"/><path d=\"M17.41 7.96l-1.37-1.37c-.4-.4-.92-.59-1.43-.59-.52 0-1.04.2-1.43.59L10.3 9.45l-7.72 7.72c-.78.78-.78 2.05 0 2.83L4 21.41c.39.39.9.59 1.41.59.51 0 1.02-.2 1.41-.59l7.78-7.78 2.81-2.81c.8-.78.8-2.07 0-2.86zM5.41 20L4 18.59l7.72-7.72 1.47 1.35L5.41 20z\"/>\n",
              "  </svg>\n",
              "      </button>\n",
              "      \n",
              "  <style>\n",
              "    .colab-df-container {\n",
              "      display:flex;\n",
              "      flex-wrap:wrap;\n",
              "      gap: 12px;\n",
              "    }\n",
              "\n",
              "    .colab-df-convert {\n",
              "      background-color: #E8F0FE;\n",
              "      border: none;\n",
              "      border-radius: 50%;\n",
              "      cursor: pointer;\n",
              "      display: none;\n",
              "      fill: #1967D2;\n",
              "      height: 32px;\n",
              "      padding: 0 0 0 0;\n",
              "      width: 32px;\n",
              "    }\n",
              "\n",
              "    .colab-df-convert:hover {\n",
              "      background-color: #E2EBFA;\n",
              "      box-shadow: 0px 1px 2px rgba(60, 64, 67, 0.3), 0px 1px 3px 1px rgba(60, 64, 67, 0.15);\n",
              "      fill: #174EA6;\n",
              "    }\n",
              "\n",
              "    [theme=dark] .colab-df-convert {\n",
              "      background-color: #3B4455;\n",
              "      fill: #D2E3FC;\n",
              "    }\n",
              "\n",
              "    [theme=dark] .colab-df-convert:hover {\n",
              "      background-color: #434B5C;\n",
              "      box-shadow: 0px 1px 3px 1px rgba(0, 0, 0, 0.15);\n",
              "      filter: drop-shadow(0px 1px 2px rgba(0, 0, 0, 0.3));\n",
              "      fill: #FFFFFF;\n",
              "    }\n",
              "  </style>\n",
              "\n",
              "      <script>\n",
              "        const buttonEl =\n",
              "          document.querySelector('#df-792e45b6-15e3-4bb1-9e18-bfdc462541c3 button.colab-df-convert');\n",
              "        buttonEl.style.display =\n",
              "          google.colab.kernel.accessAllowed ? 'block' : 'none';\n",
              "\n",
              "        async function convertToInteractive(key) {\n",
              "          const element = document.querySelector('#df-792e45b6-15e3-4bb1-9e18-bfdc462541c3');\n",
              "          const dataTable =\n",
              "            await google.colab.kernel.invokeFunction('convertToInteractive',\n",
              "                                                     [key], {});\n",
              "          if (!dataTable) return;\n",
              "\n",
              "          const docLinkHtml = 'Like what you see? Visit the ' +\n",
              "            '<a target=\"_blank\" href=https://colab.research.google.com/notebooks/data_table.ipynb>data table notebook</a>'\n",
              "            + ' to learn more about interactive tables.';\n",
              "          element.innerHTML = '';\n",
              "          dataTable['output_type'] = 'display_data';\n",
              "          await google.colab.output.renderOutput(dataTable, element);\n",
              "          const docLink = document.createElement('div');\n",
              "          docLink.innerHTML = docLinkHtml;\n",
              "          element.appendChild(docLink);\n",
              "        }\n",
              "      </script>\n",
              "    </div>\n",
              "  </div>\n",
              "  "
            ]
          },
          "metadata": {},
          "execution_count": 52
        }
      ]
    },
    {
      "cell_type": "code",
      "source": [
        "(data_2 / data_2.iloc[0]*100).plot(figsize = (15,6))"
      ],
      "metadata": {
        "colab": {
          "base_uri": "https://localhost:8080/",
          "height": 406
        },
        "id": "8X2JS2s3r5mU",
        "outputId": "66233369-39f8-4436-dff5-b5dc03c8fb18"
      },
      "execution_count": 53,
      "outputs": [
        {
          "output_type": "execute_result",
          "data": {
            "text/plain": [
              "<matplotlib.axes._subplots.AxesSubplot at 0x7f52ebbcc910>"
            ]
          },
          "metadata": {},
          "execution_count": 53
        },
        {
          "output_type": "display_data",
          "data": {
            "text/plain": [
              "<Figure size 1080x432 with 1 Axes>"
            ],
            "image/png": "[encoded data removed]"
          },
          "metadata": {
            "needs_background": "light"
          }
        }
      ]
    },
    {
      "cell_type": "markdown",
      "source": [
        "# <font color = \"blue\"> Measuring security Risk"
      ],
      "metadata": {
        "id": "kyjn6oPLPFPB"
      }
    },
    {
      "cell_type": "markdown",
      "source": [
        "Risk and Returns are the two important dimensions in the investment decision making.\n",
        "\n",
        "\n",
        "> Example: If you invested $1000 on a stock exchange and you know that on average, it makes 15% returns, you would want to know how the average was made? <br> \n",
        ">*   Scenario 1: Over the last 4 years its  rate of returns looks like **+14%, +16%, +13% and +17%**\n",
        ">*   Scenario 2: Over the last 4 years its  rate of returns looks like **+50%, -20%, -20%, +50%**\n",
        "\n",
        "\n",
        "\n",
        "*   In the scenario 1, your money will earn a stable amount over time. The rate of return is always 13 to 17%\n",
        "\n",
        "*   In scenario 2, there is a huge variablity between two consecutive years even though the average returns are same. If you were an invester who hold this stock during years 2 and 3, you lost 40% of the stock value.\n",
        "\n",
        "**Variability is the best measure of risk**\n",
        "\n",
        "Investers don't like surprises and risks. Their main goal is to measure the risk they may face and reduce it as much as possible.\n",
        "\n",
        "\n",
        "\n",
        "> <font color = \"Green\"> Statestical measures to quantify the risk are **Variance** and **Standard Deviation**</font>\n",
        "\n",
        "**Variance** ($S^{2}$) : It measures the dispersion of a set of data points around the mean\n",
        "\n",
        "\n",
        "$ S^{2} = \\frac{\\sum (X - \\bar{X})^{2}}{N-1} $\n",
        "<br>\n",
        "$\\bar{X} $ is the Mean(X) \n",
        "\n",
        "**Standard Deviation** : $S = \\sqrt{S^{2}}$\n",
        "\n",
        "*   Variance of Scenario 1 is 0.00033, Standard deviation is 1.8%\n",
        "*   Variance of Scenario 2 is 0.16, Standard deviation is 40%. --> <font color = \"Red\"> It is lot riskier\n",
        "\n",
        "\n",
        "\n",
        "\n"
      ],
      "metadata": {
        "id": "y668qGaKPQng"
      }
    },
    {
      "cell_type": "code",
      "source": [
        "start = calendar.timegm(datetime.datetime(year = 2007, month = 1, day = 1).timetuple())\n",
        "end = calendar.timegm(time.gmtime()) #current epoch time\n",
        "\n",
        "tickers = ['PG', 'BEI.DE']\n",
        "\n",
        "sec_data = pd.DataFrame()\n",
        "sec_data['Date'] = hitYahooFinance('PG', start, end)['Date'] #doing this just for getting the date column\n",
        "for t in tickers:\n",
        "  sec_data[t] = hitYahooFinance(t, start, end)['Adj Close']\n",
        "\n",
        "sec_data.set_index('Date', inplace = True)"
      ],
      "metadata": {
        "id": "XXUd6AafPOHF"
      },
      "execution_count": 4,
      "outputs": []
    },
    {
      "cell_type": "code",
      "source": [
        "sec_data.tail()"
      ],
      "metadata": {
        "colab": {
          "base_uri": "https://localhost:8080/",
          "height": 238
        },
        "id": "VqrODbk4X1fG",
        "outputId": "ba86f84d-98ce-433e-ed3d-d6d217d0ccdf"
      },
      "execution_count": 6,
      "outputs": [
        {
          "output_type": "execute_result",
          "data": {
            "text/plain": [
              "                    PG      BEI.DE\n",
              "Date                              \n",
              "2023-01-30  141.009995  106.800003\n",
              "2023-01-31  142.380005  105.949997\n",
              "2023-02-01  143.190002  107.449997\n",
              "2023-02-02  142.169998  106.599998\n",
              "2023-02-03  142.610001  108.500000"
            ],
            "text/html": [
              "\n",
              "  <div id=\"df-119a32df-9fb0-4668-9bca-204b17d47325\">\n",
              "    <div class=\"colab-df-container\">\n",
              "      <div>\n",
              "<style scoped>\n",
              "    .dataframe tbody tr th:only-of-type {\n",
              "        vertical-align: middle;\n",
              "    }\n",
              "\n",
              "    .dataframe tbody tr th {\n",
              "        vertical-align: top;\n",
              "    }\n",
              "\n",
              "    .dataframe thead th {\n",
              "        text-align: right;\n",
              "    }\n",
              "</style>\n",
              "<table border=\"1\" class=\"dataframe\">\n",
              "  <thead>\n",
              "    <tr style=\"text-align: right;\">\n",
              "      <th></th>\n",
              "      <th>PG</th>\n",
              "      <th>BEI.DE</th>\n",
              "    </tr>\n",
              "    <tr>\n",
              "      <th>Date</th>\n",
              "      <th></th>\n",
              "      <th></th>\n",
              "    </tr>\n",
              "  </thead>\n",
              "  <tbody>\n",
              "    <tr>\n",
              "      <th>2023-01-30</th>\n",
              "      <td>141.009995</td>\n",
              "      <td>106.800003</td>\n",
              "    </tr>\n",
              "    <tr>\n",
              "      <th>2023-01-31</th>\n",
              "      <td>142.380005</td>\n",
              "      <td>105.949997</td>\n",
              "    </tr>\n",
              "    <tr>\n",
              "      <th>2023-02-01</th>\n",
              "      <td>143.190002</td>\n",
              "      <td>107.449997</td>\n",
              "    </tr>\n",
              "    <tr>\n",
              "      <th>2023-02-02</th>\n",
              "      <td>142.169998</td>\n",
              "      <td>106.599998</td>\n",
              "    </tr>\n",
              "    <tr>\n",
              "      <th>2023-02-03</th>\n",
              "      <td>142.610001</td>\n",
              "      <td>108.500000</td>\n",
              "    </tr>\n",
              "  </tbody>\n",
              "</table>\n",
              "</div>\n",
              "      <button class=\"colab-df-convert\" onclick=\"convertToInteractive('df-119a32df-9fb0-4668-9bca-204b17d47325')\"\n",
              "              title=\"Convert this dataframe to an interactive table.\"\n",
              "              style=\"display:none;\">\n",
              "        \n",
              "  <svg xmlns=\"http://www.w3.org/2000/svg\" height=\"24px\"viewBox=\"0 0 24 24\"\n",
              "       width=\"24px\">\n",
              "    <path d=\"M0 0h24v24H0V0z\" fill=\"none\"/>\n",
              "    <path d=\"M18.56 5.44l.94 2.06.94-2.06 2.06-.94-2.06-.94-.94-2.06-.94 2.06-2.06.94zm-11 1L8.5 8.5l.94-2.06 2.06-.94-2.06-.94L8.5 2.5l-.94 2.06-2.06.94zm10 10l.94 2.06.94-2.06 2.06-.94-2.06-.94-.94-2.06-.94 2.06-2.06.94z\"/><path d=\"M17.41 7.96l-1.37-1.37c-.4-.4-.92-.59-1.43-.59-.52 0-1.04.2-1.43.59L10.3 9.45l-7.72 7.72c-.78.78-.78 2.05 0 2.83L4 21.41c.39.39.9.59 1.41.59.51 0 1.02-.2 1.41-.59l7.78-7.78 2.81-2.81c.8-.78.8-2.07 0-2.86zM5.41 20L4 18.59l7.72-7.72 1.47 1.35L5.41 20z\"/>\n",
              "  </svg>\n",
              "      </button>\n",
              "      \n",
              "  <style>\n",
              "    .colab-df-container {\n",
              "      display:flex;\n",
              "      flex-wrap:wrap;\n",
              "      gap: 12px;\n",
              "    }\n",
              "\n",
              "    .colab-df-convert {\n",
              "      background-color: #E8F0FE;\n",
              "      border: none;\n",
              "      border-radius: 50%;\n",
              "      cursor: pointer;\n",
              "      display: none;\n",
              "      fill: #1967D2;\n",
              "      height: 32px;\n",
              "      padding: 0 0 0 0;\n",
              "      width: 32px;\n",
              "    }\n",
              "\n",
              "    .colab-df-convert:hover {\n",
              "      background-color: #E2EBFA;\n",
              "      box-shadow: 0px 1px 2px rgba(60, 64, 67, 0.3), 0px 1px 3px 1px rgba(60, 64, 67, 0.15);\n",
              "      fill: #174EA6;\n",
              "    }\n",
              "\n",
              "    [theme=dark] .colab-df-convert {\n",
              "      background-color: #3B4455;\n",
              "      fill: #D2E3FC;\n",
              "    }\n",
              "\n",
              "    [theme=dark] .colab-df-convert:hover {\n",
              "      background-color: #434B5C;\n",
              "      box-shadow: 0px 1px 3px 1px rgba(0, 0, 0, 0.15);\n",
              "      filter: drop-shadow(0px 1px 2px rgba(0, 0, 0, 0.3));\n",
              "      fill: #FFFFFF;\n",
              "    }\n",
              "  </style>\n",
              "\n",
              "      <script>\n",
              "        const buttonEl =\n",
              "          document.querySelector('#df-119a32df-9fb0-4668-9bca-204b17d47325 button.colab-df-convert');\n",
              "        buttonEl.style.display =\n",
              "          google.colab.kernel.accessAllowed ? 'block' : 'none';\n",
              "\n",
              "        async function convertToInteractive(key) {\n",
              "          const element = document.querySelector('#df-119a32df-9fb0-4668-9bca-204b17d47325');\n",
              "          const dataTable =\n",
              "            await google.colab.kernel.invokeFunction('convertToInteractive',\n",
              "                                                     [key], {});\n",
              "          if (!dataTable) return;\n",
              "\n",
              "          const docLinkHtml = 'Like what you see? Visit the ' +\n",
              "            '<a target=\"_blank\" href=https://colab.research.google.com/notebooks/data_table.ipynb>data table notebook</a>'\n",
              "            + ' to learn more about interactive tables.';\n",
              "          element.innerHTML = '';\n",
              "          dataTable['output_type'] = 'display_data';\n",
              "          await google.colab.output.renderOutput(dataTable, element);\n",
              "          const docLink = document.createElement('div');\n",
              "          docLink.innerHTML = docLinkHtml;\n",
              "          element.appendChild(docLink);\n",
              "        }\n",
              "      </script>\n",
              "    </div>\n",
              "  </div>\n",
              "  "
            ]
          },
          "metadata": {},
          "execution_count": 6
        }
      ]
    },
    {
      "cell_type": "markdown",
      "source": [
        "we are using logerthimatic returns as we will examine each company seperately in a given time frame and this approach will tell us more about the behaviour of the stock"
      ],
      "metadata": {
        "id": "G4qrHtb-YxnR"
      }
    },
    {
      "cell_type": "code",
      "source": [
        "sec_returns = np.log(sec_data / sec_data.shift(1))\n",
        "sec_returns"
      ],
      "metadata": {
        "colab": {
          "base_uri": "https://localhost:8080/",
          "height": 455
        },
        "id": "mryJ1iKVX4m1",
        "outputId": "20ac7830-2bdf-493f-9868-f2d467a280b5"
      },
      "execution_count": 5,
      "outputs": [
        {
          "output_type": "execute_result",
          "data": {
            "text/plain": [
              "                  PG    BEI.DE\n",
              "Date                          \n",
              "2007-01-03       NaN       NaN\n",
              "2007-01-04 -0.007621  0.002191\n",
              "2007-01-05 -0.008625  0.006545\n",
              "2007-01-08  0.002202 -0.020772\n",
              "2007-01-09 -0.002517  0.000202\n",
              "...              ...       ...\n",
              "2023-01-30  0.003125  0.013195\n",
              "2023-01-31  0.009669 -0.007991\n",
              "2023-02-01  0.005673  0.014058\n",
              "2023-02-02 -0.007149 -0.007942\n",
              "2023-02-03  0.003090  0.017667\n",
              "\n",
              "[4051 rows x 2 columns]"
            ],
            "text/html": [
              "\n",
              "  <div id=\"df-04b83669-a072-448f-beb2-c9ad70f81c75\">\n",
              "    <div class=\"colab-df-container\">\n",
              "      <div>\n",
              "<style scoped>\n",
              "    .dataframe tbody tr th:only-of-type {\n",
              "        vertical-align: middle;\n",
              "    }\n",
              "\n",
              "    .dataframe tbody tr th {\n",
              "        vertical-align: top;\n",
              "    }\n",
              "\n",
              "    .dataframe thead th {\n",
              "        text-align: right;\n",
              "    }\n",
              "</style>\n",
              "<table border=\"1\" class=\"dataframe\">\n",
              "  <thead>\n",
              "    <tr style=\"text-align: right;\">\n",
              "      <th></th>\n",
              "      <th>PG</th>\n",
              "      <th>BEI.DE</th>\n",
              "    </tr>\n",
              "    <tr>\n",
              "      <th>Date</th>\n",
              "      <th></th>\n",
              "      <th></th>\n",
              "    </tr>\n",
              "  </thead>\n",
              "  <tbody>\n",
              "    <tr>\n",
              "      <th>2007-01-03</th>\n",
              "      <td>NaN</td>\n",
              "      <td>NaN</td>\n",
              "    </tr>\n",
              "    <tr>\n",
              "      <th>2007-01-04</th>\n",
              "      <td>-0.007621</td>\n",
              "      <td>0.002191</td>\n",
              "    </tr>\n",
              "    <tr>\n",
              "      <th>2007-01-05</th>\n",
              "      <td>-0.008625</td>\n",
              "      <td>0.006545</td>\n",
              "    </tr>\n",
              "    <tr>\n",
              "      <th>2007-01-08</th>\n",
              "      <td>0.002202</td>\n",
              "      <td>-0.020772</td>\n",
              "    </tr>\n",
              "    <tr>\n",
              "      <th>2007-01-09</th>\n",
              "      <td>-0.002517</td>\n",
              "      <td>0.000202</td>\n",
              "    </tr>\n",
              "    <tr>\n",
              "      <th>...</th>\n",
              "      <td>...</td>\n",
              "      <td>...</td>\n",
              "    </tr>\n",
              "    <tr>\n",
              "      <th>2023-01-30</th>\n",
              "      <td>0.003125</td>\n",
              "      <td>0.013195</td>\n",
              "    </tr>\n",
              "    <tr>\n",
              "      <th>2023-01-31</th>\n",
              "      <td>0.009669</td>\n",
              "      <td>-0.007991</td>\n",
              "    </tr>\n",
              "    <tr>\n",
              "      <th>2023-02-01</th>\n",
              "      <td>0.005673</td>\n",
              "      <td>0.014058</td>\n",
              "    </tr>\n",
              "    <tr>\n",
              "      <th>2023-02-02</th>\n",
              "      <td>-0.007149</td>\n",
              "      <td>-0.007942</td>\n",
              "    </tr>\n",
              "    <tr>\n",
              "      <th>2023-02-03</th>\n",
              "      <td>0.003090</td>\n",
              "      <td>0.017667</td>\n",
              "    </tr>\n",
              "  </tbody>\n",
              "</table>\n",
              "<p>4051 rows × 2 columns</p>\n",
              "</div>\n",
              "      <button class=\"colab-df-convert\" onclick=\"convertToInteractive('df-04b83669-a072-448f-beb2-c9ad70f81c75')\"\n",
              "              title=\"Convert this dataframe to an interactive table.\"\n",
              "              style=\"display:none;\">\n",
              "        \n",
              "  <svg xmlns=\"http://www.w3.org/2000/svg\" height=\"24px\"viewBox=\"0 0 24 24\"\n",
              "       width=\"24px\">\n",
              "    <path d=\"M0 0h24v24H0V0z\" fill=\"none\"/>\n",
              "    <path d=\"M18.56 5.44l.94 2.06.94-2.06 2.06-.94-2.06-.94-.94-2.06-.94 2.06-2.06.94zm-11 1L8.5 8.5l.94-2.06 2.06-.94-2.06-.94L8.5 2.5l-.94 2.06-2.06.94zm10 10l.94 2.06.94-2.06 2.06-.94-2.06-.94-.94-2.06-.94 2.06-2.06.94z\"/><path d=\"M17.41 7.96l-1.37-1.37c-.4-.4-.92-.59-1.43-.59-.52 0-1.04.2-1.43.59L10.3 9.45l-7.72 7.72c-.78.78-.78 2.05 0 2.83L4 21.41c.39.39.9.59 1.41.59.51 0 1.02-.2 1.41-.59l7.78-7.78 2.81-2.81c.8-.78.8-2.07 0-2.86zM5.41 20L4 18.59l7.72-7.72 1.47 1.35L5.41 20z\"/>\n",
              "  </svg>\n",
              "      </button>\n",
              "      \n",
              "  <style>\n",
              "    .colab-df-container {\n",
              "      display:flex;\n",
              "      flex-wrap:wrap;\n",
              "      gap: 12px;\n",
              "    }\n",
              "\n",
              "    .colab-df-convert {\n",
              "      background-color: #E8F0FE;\n",
              "      border: none;\n",
              "      border-radius: 50%;\n",
              "      cursor: pointer;\n",
              "      display: none;\n",
              "      fill: #1967D2;\n",
              "      height: 32px;\n",
              "      padding: 0 0 0 0;\n",
              "      width: 32px;\n",
              "    }\n",
              "\n",
              "    .colab-df-convert:hover {\n",
              "      background-color: #E2EBFA;\n",
              "      box-shadow: 0px 1px 2px rgba(60, 64, 67, 0.3), 0px 1px 3px 1px rgba(60, 64, 67, 0.15);\n",
              "      fill: #174EA6;\n",
              "    }\n",
              "\n",
              "    [theme=dark] .colab-df-convert {\n",
              "      background-color: #3B4455;\n",
              "      fill: #D2E3FC;\n",
              "    }\n",
              "\n",
              "    [theme=dark] .colab-df-convert:hover {\n",
              "      background-color: #434B5C;\n",
              "      box-shadow: 0px 1px 3px 1px rgba(0, 0, 0, 0.15);\n",
              "      filter: drop-shadow(0px 1px 2px rgba(0, 0, 0, 0.3));\n",
              "      fill: #FFFFFF;\n",
              "    }\n",
              "  </style>\n",
              "\n",
              "      <script>\n",
              "        const buttonEl =\n",
              "          document.querySelector('#df-04b83669-a072-448f-beb2-c9ad70f81c75 button.colab-df-convert');\n",
              "        buttonEl.style.display =\n",
              "          google.colab.kernel.accessAllowed ? 'block' : 'none';\n",
              "\n",
              "        async function convertToInteractive(key) {\n",
              "          const element = document.querySelector('#df-04b83669-a072-448f-beb2-c9ad70f81c75');\n",
              "          const dataTable =\n",
              "            await google.colab.kernel.invokeFunction('convertToInteractive',\n",
              "                                                     [key], {});\n",
              "          if (!dataTable) return;\n",
              "\n",
              "          const docLinkHtml = 'Like what you see? Visit the ' +\n",
              "            '<a target=\"_blank\" href=https://colab.research.google.com/notebooks/data_table.ipynb>data table notebook</a>'\n",
              "            + ' to learn more about interactive tables.';\n",
              "          element.innerHTML = '';\n",
              "          dataTable['output_type'] = 'display_data';\n",
              "          await google.colab.output.renderOutput(dataTable, element);\n",
              "          const docLink = document.createElement('div');\n",
              "          docLink.innerHTML = docLinkHtml;\n",
              "          element.appendChild(docLink);\n",
              "        }\n",
              "      </script>\n",
              "    </div>\n",
              "  </div>\n",
              "  "
            ]
          },
          "metadata": {},
          "execution_count": 5
        }
      ]
    },
    {
      "cell_type": "markdown",
      "source": [
        "### PG"
      ],
      "metadata": {
        "id": "6_Z-odEZY7jE"
      }
    },
    {
      "cell_type": "code",
      "source": [
        "sec_returns['PG'].mean()"
      ],
      "metadata": {
        "colab": {
          "base_uri": "https://localhost:8080/"
        },
        "id": "ZZNCUUnIY0h6",
        "outputId": "6f171893-dc83-4260-f2e5-55b6a3d4a5be"
      },
      "execution_count": 8,
      "outputs": [
        {
          "output_type": "execute_result",
          "data": {
            "text/plain": [
              "0.00031185986689490487"
            ]
          },
          "metadata": {},
          "execution_count": 8
        }
      ]
    },
    {
      "cell_type": "code",
      "source": [
        "sec_returns['PG'].mean() * 250"
      ],
      "metadata": {
        "colab": {
          "base_uri": "https://localhost:8080/"
        },
        "id": "orjpaidkZCnk",
        "outputId": "b681535d-a1ac-42c6-8fe4-0d4fa8bc71c1"
      },
      "execution_count": 9,
      "outputs": [
        {
          "output_type": "execute_result",
          "data": {
            "text/plain": [
              "0.07796496672372621"
            ]
          },
          "metadata": {},
          "execution_count": 9
        }
      ]
    },
    {
      "cell_type": "code",
      "source": [
        "sec_returns['PG'].std()"
      ],
      "metadata": {
        "colab": {
          "base_uri": "https://localhost:8080/"
        },
        "id": "fsnsD4HZZEtj",
        "outputId": "298dae8f-0365-4fa5-c399-30a93a3920dd"
      },
      "execution_count": 10,
      "outputs": [
        {
          "output_type": "execute_result",
          "data": {
            "text/plain": [
              "0.01185385585719417"
            ]
          },
          "metadata": {},
          "execution_count": 10
        }
      ]
    },
    {
      "cell_type": "code",
      "source": [
        "sec_returns['PG'].std()*250**0.5 #square root"
      ],
      "metadata": {
        "colab": {
          "base_uri": "https://localhost:8080/"
        },
        "id": "PyyPKAN1ZHuc",
        "outputId": "03bf37d2-64f8-43b8-8757-b8c4a1be90f8"
      },
      "execution_count": 11,
      "outputs": [
        {
          "output_type": "execute_result",
          "data": {
            "text/plain": [
              "0.18742591782030607"
            ]
          },
          "metadata": {},
          "execution_count": 11
        }
      ]
    },
    {
      "cell_type": "markdown",
      "source": [
        "### Beiersdorf"
      ],
      "metadata": {
        "id": "yzMdU8AnZRJp"
      }
    },
    {
      "cell_type": "code",
      "source": [
        "sec_returns['BEI.DE'].mean()"
      ],
      "metadata": {
        "colab": {
          "base_uri": "https://localhost:8080/"
        },
        "id": "YUNE2Vb2ZOy9",
        "outputId": "321b21ee-cc46-41bb-fa08-7b887d75cadf"
      },
      "execution_count": 12,
      "outputs": [
        {
          "output_type": "execute_result",
          "data": {
            "text/plain": [
              "0.0002468416560326579"
            ]
          },
          "metadata": {},
          "execution_count": 12
        }
      ]
    },
    {
      "cell_type": "code",
      "source": [
        "sec_returns['BEI.DE'].mean()*250"
      ],
      "metadata": {
        "colab": {
          "base_uri": "https://localhost:8080/"
        },
        "id": "2RBZwOtFZcIz",
        "outputId": "6409127b-a2ec-4157-d771-6172684fac5a"
      },
      "execution_count": 13,
      "outputs": [
        {
          "output_type": "execute_result",
          "data": {
            "text/plain": [
              "0.06171041400816448"
            ]
          },
          "metadata": {},
          "execution_count": 13
        }
      ]
    },
    {
      "cell_type": "code",
      "source": [
        "sec_returns['BEI.DE'].std()"
      ],
      "metadata": {
        "colab": {
          "base_uri": "https://localhost:8080/"
        },
        "id": "Tm_l5JcxZjEj",
        "outputId": "4f7ba246-2d97-4e31-8a80-ac28707aec4c"
      },
      "execution_count": 14,
      "outputs": [
        {
          "output_type": "execute_result",
          "data": {
            "text/plain": [
              "0.013643659905812228"
            ]
          },
          "metadata": {},
          "execution_count": 14
        }
      ]
    },
    {
      "cell_type": "code",
      "source": [
        "sec_returns['BEI.DE'].std()*250**0.5 #square root"
      ],
      "metadata": {
        "colab": {
          "base_uri": "https://localhost:8080/"
        },
        "id": "AmwdV5qpZlZa",
        "outputId": "30ac51e6-be3f-4805-f82c-6936bc1943ca"
      },
      "execution_count": 15,
      "outputs": [
        {
          "output_type": "execute_result",
          "data": {
            "text/plain": [
              "0.2157252046154251"
            ]
          },
          "metadata": {},
          "execution_count": 15
        }
      ]
    },
    {
      "cell_type": "markdown",
      "source": [
        "Beiersdorf has higher volatility"
      ],
      "metadata": {
        "id": "A2QfFYTpaTfV"
      }
    },
    {
      "cell_type": "markdown",
      "source": [
        "# <font color = \"blue\">Benifits of Diversification "
      ],
      "metadata": {
        "id": "98L6g7FoabCV"
      }
    },
    {
      "cell_type": "markdown",
      "source": [
        "Share prices are influenced by state of the economy. But, different industries are infulenced in a different way. \n",
        "<br>*For instance, at the time of crisis, who will suffer most between car makers or super markerts.. People can easily postpone buying a new car but can't postpone their grocery Shopping*\n",
        "\n",
        "**Its better to invest in companies operating in different industries**\n",
        "\n",
        "\n",
        "\n",
        "> There is a relationship between the prices of different companies. It is very importnat to understand what causes this relationship. This activity helps us optimize investment portfolios.\n",
        "\n"
      ],
      "metadata": {
        "id": "0PSfyQYJauIy"
      }
    },
    {
      "cell_type": "markdown",
      "source": [
        "### Measuring the relationship between stocks\n",
        "\n",
        "\n",
        "> The correlation coefficient measures the relationship between two stocks\n",
        "<br>\n",
        "$\\rho _{x, y} = \\frac{(x-\\bar{x})*(y-\\bar{y})}{\\sigma _{x}\\sigma _{y}}$\n",
        "*  x, y are two stocks\n",
        "*  $\\bar{x}, \\bar{y}$ are mean values\n"
      ],
      "metadata": {
        "id": "c8dHE7iXcUQm"
      }
    },
    {
      "cell_type": "markdown",
      "source": [
        "### Covariance and Correlation"
      ],
      "metadata": {
        "id": "-1nELqRj29NB"
      }
    },
    {
      "cell_type": "code",
      "source": [
        "PG_var = sec_returns['PG'].var()\n",
        "PG_var"
      ],
      "metadata": {
        "colab": {
          "base_uri": "https://localhost:8080/"
        },
        "id": "9C2u4bj1Zwvx",
        "outputId": "27e97665-4c99-4d31-eef9-e969e62b40c3"
      },
      "execution_count": 6,
      "outputs": [
        {
          "output_type": "execute_result",
          "data": {
            "text/plain": [
              "0.0001405138913581061"
            ]
          },
          "metadata": {},
          "execution_count": 6
        }
      ]
    },
    {
      "cell_type": "code",
      "source": [
        "BEI_var = sec_returns['BEI.DE'].var()\n",
        "BEI_var"
      ],
      "metadata": {
        "colab": {
          "base_uri": "https://localhost:8080/"
        },
        "id": "mmuRNlb73YuL",
        "outputId": "74087660-0b63-4380-8872-44306ec6b7d6"
      },
      "execution_count": 7,
      "outputs": [
        {
          "output_type": "execute_result",
          "data": {
            "text/plain": [
              "0.00018614949782778055"
            ]
          },
          "metadata": {},
          "execution_count": 7
        }
      ]
    },
    {
      "cell_type": "code",
      "source": [
        "PG_var_a = sec_returns['PG'].var()*250\n",
        "PG_var_a"
      ],
      "metadata": {
        "colab": {
          "base_uri": "https://localhost:8080/"
        },
        "id": "vfOfAewO3mgp",
        "outputId": "19ae6777-5169-4bc7-ecf8-948c410bdbf2"
      },
      "execution_count": 8,
      "outputs": [
        {
          "output_type": "execute_result",
          "data": {
            "text/plain": [
              "0.035128472839526526"
            ]
          },
          "metadata": {},
          "execution_count": 8
        }
      ]
    },
    {
      "cell_type": "code",
      "source": [
        "BEI_var_a = sec_returns['BEI.DE'].var()*250\n",
        "BEI_var_a"
      ],
      "metadata": {
        "colab": {
          "base_uri": "https://localhost:8080/"
        },
        "id": "yHjGuOQb3t1M",
        "outputId": "495e2216-9382-49f2-bef2-86ec5caddabd"
      },
      "execution_count": 9,
      "outputs": [
        {
          "output_type": "execute_result",
          "data": {
            "text/plain": [
              "0.04653737445694514"
            ]
          },
          "metadata": {},
          "execution_count": 9
        }
      ]
    },
    {
      "cell_type": "code",
      "source": [
        "cov_matrix = sec_returns.cov()\n",
        "cov_matrix"
      ],
      "metadata": {
        "colab": {
          "base_uri": "https://localhost:8080/",
          "height": 112
        },
        "id": "oFLYL1O13yve",
        "outputId": "80ceae76-c02c-4d87-f59b-ea95ed3e3438"
      },
      "execution_count": 10,
      "outputs": [
        {
          "output_type": "execute_result",
          "data": {
            "text/plain": [
              "                  PG        BEI.DE\n",
              "PG      1.405139e-04 -2.319855e-07\n",
              "BEI.DE -2.319855e-07  1.861495e-04"
            ],
            "text/html": [
              "\n",
              "  <div id=\"df-b0d5804c-2d30-473c-bea2-08f4bf0b3678\">\n",
              "    <div class=\"colab-df-container\">\n",
              "      <div>\n",
              "<style scoped>\n",
              "    .dataframe tbody tr th:only-of-type {\n",
              "        vertical-align: middle;\n",
              "    }\n",
              "\n",
              "    .dataframe tbody tr th {\n",
              "        vertical-align: top;\n",
              "    }\n",
              "\n",
              "    .dataframe thead th {\n",
              "        text-align: right;\n",
              "    }\n",
              "</style>\n",
              "<table border=\"1\" class=\"dataframe\">\n",
              "  <thead>\n",
              "    <tr style=\"text-align: right;\">\n",
              "      <th></th>\n",
              "      <th>PG</th>\n",
              "      <th>BEI.DE</th>\n",
              "    </tr>\n",
              "  </thead>\n",
              "  <tbody>\n",
              "    <tr>\n",
              "      <th>PG</th>\n",
              "      <td>1.405139e-04</td>\n",
              "      <td>-2.319855e-07</td>\n",
              "    </tr>\n",
              "    <tr>\n",
              "      <th>BEI.DE</th>\n",
              "      <td>-2.319855e-07</td>\n",
              "      <td>1.861495e-04</td>\n",
              "    </tr>\n",
              "  </tbody>\n",
              "</table>\n",
              "</div>\n",
              "      <button class=\"colab-df-convert\" onclick=\"convertToInteractive('df-b0d5804c-2d30-473c-bea2-08f4bf0b3678')\"\n",
              "              title=\"Convert this dataframe to an interactive table.\"\n",
              "              style=\"display:none;\">\n",
              "        \n",
              "  <svg xmlns=\"http://www.w3.org/2000/svg\" height=\"24px\"viewBox=\"0 0 24 24\"\n",
              "       width=\"24px\">\n",
              "    <path d=\"M0 0h24v24H0V0z\" fill=\"none\"/>\n",
              "    <path d=\"M18.56 5.44l.94 2.06.94-2.06 2.06-.94-2.06-.94-.94-2.06-.94 2.06-2.06.94zm-11 1L8.5 8.5l.94-2.06 2.06-.94-2.06-.94L8.5 2.5l-.94 2.06-2.06.94zm10 10l.94 2.06.94-2.06 2.06-.94-2.06-.94-.94-2.06-.94 2.06-2.06.94z\"/><path d=\"M17.41 7.96l-1.37-1.37c-.4-.4-.92-.59-1.43-.59-.52 0-1.04.2-1.43.59L10.3 9.45l-7.72 7.72c-.78.78-.78 2.05 0 2.83L4 21.41c.39.39.9.59 1.41.59.51 0 1.02-.2 1.41-.59l7.78-7.78 2.81-2.81c.8-.78.8-2.07 0-2.86zM5.41 20L4 18.59l7.72-7.72 1.47 1.35L5.41 20z\"/>\n",
              "  </svg>\n",
              "      </button>\n",
              "      \n",
              "  <style>\n",
              "    .colab-df-container {\n",
              "      display:flex;\n",
              "      flex-wrap:wrap;\n",
              "      gap: 12px;\n",
              "    }\n",
              "\n",
              "    .colab-df-convert {\n",
              "      background-color: #E8F0FE;\n",
              "      border: none;\n",
              "      border-radius: 50%;\n",
              "      cursor: pointer;\n",
              "      display: none;\n",
              "      fill: #1967D2;\n",
              "      height: 32px;\n",
              "      padding: 0 0 0 0;\n",
              "      width: 32px;\n",
              "    }\n",
              "\n",
              "    .colab-df-convert:hover {\n",
              "      background-color: #E2EBFA;\n",
              "      box-shadow: 0px 1px 2px rgba(60, 64, 67, 0.3), 0px 1px 3px 1px rgba(60, 64, 67, 0.15);\n",
              "      fill: #174EA6;\n",
              "    }\n",
              "\n",
              "    [theme=dark] .colab-df-convert {\n",
              "      background-color: #3B4455;\n",
              "      fill: #D2E3FC;\n",
              "    }\n",
              "\n",
              "    [theme=dark] .colab-df-convert:hover {\n",
              "      background-color: #434B5C;\n",
              "      box-shadow: 0px 1px 3px 1px rgba(0, 0, 0, 0.15);\n",
              "      filter: drop-shadow(0px 1px 2px rgba(0, 0, 0, 0.3));\n",
              "      fill: #FFFFFF;\n",
              "    }\n",
              "  </style>\n",
              "\n",
              "      <script>\n",
              "        const buttonEl =\n",
              "          document.querySelector('#df-b0d5804c-2d30-473c-bea2-08f4bf0b3678 button.colab-df-convert');\n",
              "        buttonEl.style.display =\n",
              "          google.colab.kernel.accessAllowed ? 'block' : 'none';\n",
              "\n",
              "        async function convertToInteractive(key) {\n",
              "          const element = document.querySelector('#df-b0d5804c-2d30-473c-bea2-08f4bf0b3678');\n",
              "          const dataTable =\n",
              "            await google.colab.kernel.invokeFunction('convertToInteractive',\n",
              "                                                     [key], {});\n",
              "          if (!dataTable) return;\n",
              "\n",
              "          const docLinkHtml = 'Like what you see? Visit the ' +\n",
              "            '<a target=\"_blank\" href=https://colab.research.google.com/notebooks/data_table.ipynb>data table notebook</a>'\n",
              "            + ' to learn more about interactive tables.';\n",
              "          element.innerHTML = '';\n",
              "          dataTable['output_type'] = 'display_data';\n",
              "          await google.colab.output.renderOutput(dataTable, element);\n",
              "          const docLink = document.createElement('div');\n",
              "          docLink.innerHTML = docLinkHtml;\n",
              "          element.appendChild(docLink);\n",
              "        }\n",
              "      </script>\n",
              "    </div>\n",
              "  </div>\n",
              "  "
            ]
          },
          "metadata": {},
          "execution_count": 10
        }
      ]
    },
    {
      "cell_type": "code",
      "source": [
        "cov_matrix_a = sec_returns.cov()*250\n",
        "cov_matrix_a"
      ],
      "metadata": {
        "colab": {
          "base_uri": "https://localhost:8080/",
          "height": 112
        },
        "id": "u2e9GhBW4MfJ",
        "outputId": "f6cd1a41-b48f-4383-81d5-cf9d5792d619"
      },
      "execution_count": 11,
      "outputs": [
        {
          "output_type": "execute_result",
          "data": {
            "text/plain": [
              "              PG    BEI.DE\n",
              "PG      0.035128 -0.000058\n",
              "BEI.DE -0.000058  0.046537"
            ],
            "text/html": [
              "\n",
              "  <div id=\"df-a65382f8-a197-45c1-a601-18542a529772\">\n",
              "    <div class=\"colab-df-container\">\n",
              "      <div>\n",
              "<style scoped>\n",
              "    .dataframe tbody tr th:only-of-type {\n",
              "        vertical-align: middle;\n",
              "    }\n",
              "\n",
              "    .dataframe tbody tr th {\n",
              "        vertical-align: top;\n",
              "    }\n",
              "\n",
              "    .dataframe thead th {\n",
              "        text-align: right;\n",
              "    }\n",
              "</style>\n",
              "<table border=\"1\" class=\"dataframe\">\n",
              "  <thead>\n",
              "    <tr style=\"text-align: right;\">\n",
              "      <th></th>\n",
              "      <th>PG</th>\n",
              "      <th>BEI.DE</th>\n",
              "    </tr>\n",
              "  </thead>\n",
              "  <tbody>\n",
              "    <tr>\n",
              "      <th>PG</th>\n",
              "      <td>0.035128</td>\n",
              "      <td>-0.000058</td>\n",
              "    </tr>\n",
              "    <tr>\n",
              "      <th>BEI.DE</th>\n",
              "      <td>-0.000058</td>\n",
              "      <td>0.046537</td>\n",
              "    </tr>\n",
              "  </tbody>\n",
              "</table>\n",
              "</div>\n",
              "      <button class=\"colab-df-convert\" onclick=\"convertToInteractive('df-a65382f8-a197-45c1-a601-18542a529772')\"\n",
              "              title=\"Convert this dataframe to an interactive table.\"\n",
              "              style=\"display:none;\">\n",
              "        \n",
              "  <svg xmlns=\"http://www.w3.org/2000/svg\" height=\"24px\"viewBox=\"0 0 24 24\"\n",
              "       width=\"24px\">\n",
              "    <path d=\"M0 0h24v24H0V0z\" fill=\"none\"/>\n",
              "    <path d=\"M18.56 5.44l.94 2.06.94-2.06 2.06-.94-2.06-.94-.94-2.06-.94 2.06-2.06.94zm-11 1L8.5 8.5l.94-2.06 2.06-.94-2.06-.94L8.5 2.5l-.94 2.06-2.06.94zm10 10l.94 2.06.94-2.06 2.06-.94-2.06-.94-.94-2.06-.94 2.06-2.06.94z\"/><path d=\"M17.41 7.96l-1.37-1.37c-.4-.4-.92-.59-1.43-.59-.52 0-1.04.2-1.43.59L10.3 9.45l-7.72 7.72c-.78.78-.78 2.05 0 2.83L4 21.41c.39.39.9.59 1.41.59.51 0 1.02-.2 1.41-.59l7.78-7.78 2.81-2.81c.8-.78.8-2.07 0-2.86zM5.41 20L4 18.59l7.72-7.72 1.47 1.35L5.41 20z\"/>\n",
              "  </svg>\n",
              "      </button>\n",
              "      \n",
              "  <style>\n",
              "    .colab-df-container {\n",
              "      display:flex;\n",
              "      flex-wrap:wrap;\n",
              "      gap: 12px;\n",
              "    }\n",
              "\n",
              "    .colab-df-convert {\n",
              "      background-color: #E8F0FE;\n",
              "      border: none;\n",
              "      border-radius: 50%;\n",
              "      cursor: pointer;\n",
              "      display: none;\n",
              "      fill: #1967D2;\n",
              "      height: 32px;\n",
              "      padding: 0 0 0 0;\n",
              "      width: 32px;\n",
              "    }\n",
              "\n",
              "    .colab-df-convert:hover {\n",
              "      background-color: #E2EBFA;\n",
              "      box-shadow: 0px 1px 2px rgba(60, 64, 67, 0.3), 0px 1px 3px 1px rgba(60, 64, 67, 0.15);\n",
              "      fill: #174EA6;\n",
              "    }\n",
              "\n",
              "    [theme=dark] .colab-df-convert {\n",
              "      background-color: #3B4455;\n",
              "      fill: #D2E3FC;\n",
              "    }\n",
              "\n",
              "    [theme=dark] .colab-df-convert:hover {\n",
              "      background-color: #434B5C;\n",
              "      box-shadow: 0px 1px 3px 1px rgba(0, 0, 0, 0.15);\n",
              "      filter: drop-shadow(0px 1px 2px rgba(0, 0, 0, 0.3));\n",
              "      fill: #FFFFFF;\n",
              "    }\n",
              "  </style>\n",
              "\n",
              "      <script>\n",
              "        const buttonEl =\n",
              "          document.querySelector('#df-a65382f8-a197-45c1-a601-18542a529772 button.colab-df-convert');\n",
              "        buttonEl.style.display =\n",
              "          google.colab.kernel.accessAllowed ? 'block' : 'none';\n",
              "\n",
              "        async function convertToInteractive(key) {\n",
              "          const element = document.querySelector('#df-a65382f8-a197-45c1-a601-18542a529772');\n",
              "          const dataTable =\n",
              "            await google.colab.kernel.invokeFunction('convertToInteractive',\n",
              "                                                     [key], {});\n",
              "          if (!dataTable) return;\n",
              "\n",
              "          const docLinkHtml = 'Like what you see? Visit the ' +\n",
              "            '<a target=\"_blank\" href=https://colab.research.google.com/notebooks/data_table.ipynb>data table notebook</a>'\n",
              "            + ' to learn more about interactive tables.';\n",
              "          element.innerHTML = '';\n",
              "          dataTable['output_type'] = 'display_data';\n",
              "          await google.colab.output.renderOutput(dataTable, element);\n",
              "          const docLink = document.createElement('div');\n",
              "          docLink.innerHTML = docLinkHtml;\n",
              "          element.appendChild(docLink);\n",
              "        }\n",
              "      </script>\n",
              "    </div>\n",
              "  </div>\n",
              "  "
            ]
          },
          "metadata": {},
          "execution_count": 11
        }
      ]
    },
    {
      "cell_type": "code",
      "source": [
        "corr_matrix = sec_returns.corr()\n",
        "corr_matrix"
      ],
      "metadata": {
        "colab": {
          "base_uri": "https://localhost:8080/",
          "height": 112
        },
        "id": "ywiqB72z4U7L",
        "outputId": "5381ed8a-80cc-4f02-b01e-819b005f36e4"
      },
      "execution_count": 12,
      "outputs": [
        {
          "output_type": "execute_result",
          "data": {
            "text/plain": [
              "              PG    BEI.DE\n",
              "PG      1.000000 -0.001434\n",
              "BEI.DE -0.001434  1.000000"
            ],
            "text/html": [
              "\n",
              "  <div id=\"df-6d401bbb-1dde-4f38-90a9-9c1c59457c1e\">\n",
              "    <div class=\"colab-df-container\">\n",
              "      <div>\n",
              "<style scoped>\n",
              "    .dataframe tbody tr th:only-of-type {\n",
              "        vertical-align: middle;\n",
              "    }\n",
              "\n",
              "    .dataframe tbody tr th {\n",
              "        vertical-align: top;\n",
              "    }\n",
              "\n",
              "    .dataframe thead th {\n",
              "        text-align: right;\n",
              "    }\n",
              "</style>\n",
              "<table border=\"1\" class=\"dataframe\">\n",
              "  <thead>\n",
              "    <tr style=\"text-align: right;\">\n",
              "      <th></th>\n",
              "      <th>PG</th>\n",
              "      <th>BEI.DE</th>\n",
              "    </tr>\n",
              "  </thead>\n",
              "  <tbody>\n",
              "    <tr>\n",
              "      <th>PG</th>\n",
              "      <td>1.000000</td>\n",
              "      <td>-0.001434</td>\n",
              "    </tr>\n",
              "    <tr>\n",
              "      <th>BEI.DE</th>\n",
              "      <td>-0.001434</td>\n",
              "      <td>1.000000</td>\n",
              "    </tr>\n",
              "  </tbody>\n",
              "</table>\n",
              "</div>\n",
              "      <button class=\"colab-df-convert\" onclick=\"convertToInteractive('df-6d401bbb-1dde-4f38-90a9-9c1c59457c1e')\"\n",
              "              title=\"Convert this dataframe to an interactive table.\"\n",
              "              style=\"display:none;\">\n",
              "        \n",
              "  <svg xmlns=\"http://www.w3.org/2000/svg\" height=\"24px\"viewBox=\"0 0 24 24\"\n",
              "       width=\"24px\">\n",
              "    <path d=\"M0 0h24v24H0V0z\" fill=\"none\"/>\n",
              "    <path d=\"M18.56 5.44l.94 2.06.94-2.06 2.06-.94-2.06-.94-.94-2.06-.94 2.06-2.06.94zm-11 1L8.5 8.5l.94-2.06 2.06-.94-2.06-.94L8.5 2.5l-.94 2.06-2.06.94zm10 10l.94 2.06.94-2.06 2.06-.94-2.06-.94-.94-2.06-.94 2.06-2.06.94z\"/><path d=\"M17.41 7.96l-1.37-1.37c-.4-.4-.92-.59-1.43-.59-.52 0-1.04.2-1.43.59L10.3 9.45l-7.72 7.72c-.78.78-.78 2.05 0 2.83L4 21.41c.39.39.9.59 1.41.59.51 0 1.02-.2 1.41-.59l7.78-7.78 2.81-2.81c.8-.78.8-2.07 0-2.86zM5.41 20L4 18.59l7.72-7.72 1.47 1.35L5.41 20z\"/>\n",
              "  </svg>\n",
              "      </button>\n",
              "      \n",
              "  <style>\n",
              "    .colab-df-container {\n",
              "      display:flex;\n",
              "      flex-wrap:wrap;\n",
              "      gap: 12px;\n",
              "    }\n",
              "\n",
              "    .colab-df-convert {\n",
              "      background-color: #E8F0FE;\n",
              "      border: none;\n",
              "      border-radius: 50%;\n",
              "      cursor: pointer;\n",
              "      display: none;\n",
              "      fill: #1967D2;\n",
              "      height: 32px;\n",
              "      padding: 0 0 0 0;\n",
              "      width: 32px;\n",
              "    }\n",
              "\n",
              "    .colab-df-convert:hover {\n",
              "      background-color: #E2EBFA;\n",
              "      box-shadow: 0px 1px 2px rgba(60, 64, 67, 0.3), 0px 1px 3px 1px rgba(60, 64, 67, 0.15);\n",
              "      fill: #174EA6;\n",
              "    }\n",
              "\n",
              "    [theme=dark] .colab-df-convert {\n",
              "      background-color: #3B4455;\n",
              "      fill: #D2E3FC;\n",
              "    }\n",
              "\n",
              "    [theme=dark] .colab-df-convert:hover {\n",
              "      background-color: #434B5C;\n",
              "      box-shadow: 0px 1px 3px 1px rgba(0, 0, 0, 0.15);\n",
              "      filter: drop-shadow(0px 1px 2px rgba(0, 0, 0, 0.3));\n",
              "      fill: #FFFFFF;\n",
              "    }\n",
              "  </style>\n",
              "\n",
              "      <script>\n",
              "        const buttonEl =\n",
              "          document.querySelector('#df-6d401bbb-1dde-4f38-90a9-9c1c59457c1e button.colab-df-convert');\n",
              "        buttonEl.style.display =\n",
              "          google.colab.kernel.accessAllowed ? 'block' : 'none';\n",
              "\n",
              "        async function convertToInteractive(key) {\n",
              "          const element = document.querySelector('#df-6d401bbb-1dde-4f38-90a9-9c1c59457c1e');\n",
              "          const dataTable =\n",
              "            await google.colab.kernel.invokeFunction('convertToInteractive',\n",
              "                                                     [key], {});\n",
              "          if (!dataTable) return;\n",
              "\n",
              "          const docLinkHtml = 'Like what you see? Visit the ' +\n",
              "            '<a target=\"_blank\" href=https://colab.research.google.com/notebooks/data_table.ipynb>data table notebook</a>'\n",
              "            + ' to learn more about interactive tables.';\n",
              "          element.innerHTML = '';\n",
              "          dataTable['output_type'] = 'display_data';\n",
              "          await google.colab.output.renderOutput(dataTable, element);\n",
              "          const docLink = document.createElement('div');\n",
              "          docLink.innerHTML = docLinkHtml;\n",
              "          element.appendChild(docLink);\n",
              "        }\n",
              "      </script>\n",
              "    </div>\n",
              "  </div>\n",
              "  "
            ]
          },
          "metadata": {},
          "execution_count": 12
        }
      ]
    },
    {
      "cell_type": "markdown",
      "source": [
        "<font color = \"red\"> Don't fall in the trap of annualizing the correlation table! </font>\n",
        "<br> It does not contain daily average values. it shows us the relation between two variable, we don't need to multiply with 250"
      ],
      "metadata": {
        "id": "789hArIu7w-q"
      }
    },
    {
      "cell_type": "markdown",
      "source": [
        "Above matrix is the correlation between retruns of the PG and BEI.DE stocks. It is not correlation between their prices"
      ],
      "metadata": {
        "id": "tfz9oz3X5MNA"
      }
    },
    {
      "cell_type": "markdown",
      "source": [
        "*  Correlation between stocks Prices : Focuses on stock <b>price levels</b>\n",
        "*  Correlation between stocks returns : Reflects the dependence between prices at different times and focuses on the <b>returns</b> of your portfolio\n",
        "\n",
        "As an investor, return is what we care about!!!\n"
      ],
      "metadata": {
        "id": "f0HIvBzM47Oz"
      }
    },
    {
      "cell_type": "markdown",
      "source": [
        "### Calculating Portfolio Risk"
      ],
      "metadata": {
        "id": "DVKKeLq19Rdr"
      }
    },
    {
      "cell_type": "markdown",
      "source": [
        "Equal weight Scheme"
      ],
      "metadata": {
        "id": "9ytyb4Zx9YAC"
      }
    },
    {
      "cell_type": "markdown",
      "source": [
        "Portifolio Variance"
      ],
      "metadata": {
        "id": "h1NSex5V9ytk"
      }
    },
    {
      "cell_type": "code",
      "source": [
        "weights = np.array([0.5, 0.5])\n",
        "\n",
        "pfolio_var = np.dot(weights.T, np.dot(sec_returns.cov()*250, weights))\n",
        "pfolio_var"
      ],
      "metadata": {
        "colab": {
          "base_uri": "https://localhost:8080/"
        },
        "id": "R15OeW4E4emK",
        "outputId": "fc585d46-1c1e-4a8d-c2aa-579bc5ef3748"
      },
      "execution_count": 13,
      "outputs": [
        {
          "output_type": "execute_result",
          "data": {
            "text/plain": [
              "0.020387463631167817"
            ]
          },
          "metadata": {},
          "execution_count": 13
        }
      ]
    },
    {
      "cell_type": "markdown",
      "source": [
        "Portifolio volatility"
      ],
      "metadata": {
        "id": "hudT5Wrg9-9S"
      }
    },
    {
      "cell_type": "code",
      "source": [
        "pfolio_vol = np.dot(weights.T, np.dot(sec_returns.cov()*250, weights)) ** 0.5\n",
        "pfolio_vol"
      ],
      "metadata": {
        "colab": {
          "base_uri": "https://localhost:8080/"
        },
        "id": "rijYEoy99xGV",
        "outputId": "10e7879e-4c8f-4a23-d89b-61fdd281c858"
      },
      "execution_count": 14,
      "outputs": [
        {
          "output_type": "execute_result",
          "data": {
            "text/plain": [
              "0.14278467575747691"
            ]
          },
          "metadata": {},
          "execution_count": 14
        }
      ]
    },
    {
      "cell_type": "code",
      "source": [
        "print(str(round(pfolio_vol, 5)*100)+'%')"
      ],
      "metadata": {
        "colab": {
          "base_uri": "https://localhost:8080/"
        },
        "id": "_YK20Ovx-M7-",
        "outputId": "80c16a40-1245-4e97-b5ec-424f27736900"
      },
      "execution_count": 15,
      "outputs": [
        {
          "output_type": "stream",
          "name": "stdout",
          "text": [
            "14.277999999999999%\n"
          ]
        }
      ]
    },
    {
      "cell_type": "markdown",
      "source": [
        "Portifolio risk can be defined as sum of two compnonents i.e the variances of the securities contained in that portifolio and the products of the correlation between securities and their standard devations.\n",
        "<br>\n",
        "There are two types of investments risks\n",
        "\n",
        "\n",
        "*   Systematic / un-diversifiable risk\n",
        "*   un-systamatic / Diversifiable risk\n",
        "\n",
        "<u><b>Un-diversifiable Risk</b></u> : This component depends on the variance of each individual security, it is also known as systematic risk. Regardless of the number of securities contained in a portifolio and relationship between these securities, this risk **can not be eliminated**. There are number of systematic risks that can't be diversified like *Recession of the economy, Low consumer spending, Wars, Forces of nature*. We have to accept this when investing. Nothing much can be done on this.\n",
        "\n",
        "<u><b>Diversifiable Risk</b></u> : Idiosyncratic risk (also known as company specific risk). Driven by company specific events or Industry specific events. Academic research has shown that, diversifiable risk can be eliminated if we invest in non-correlated assets. *(Automotive, Construction, Energy, Technology)* S&P 500 is well diversified."
      ],
      "metadata": {
        "id": "fVjbsQFP--qi"
      }
    },
    {
      "cell_type": "code",
      "source": [
        "weights = np.array([0.5, 0.5])"
      ],
      "metadata": {
        "id": "UVuAoNFi-Zlp"
      },
      "execution_count": 16,
      "outputs": []
    },
    {
      "cell_type": "markdown",
      "source": [
        "### Diversifiable risk\n",
        "\n",
        "Diversifiable risk = Portifolio Variance - Weighted annual variances"
      ],
      "metadata": {
        "id": "nNmK8LDpCwii"
      }
    },
    {
      "cell_type": "code",
      "source": [
        "PG_var_a = sec_returns['PG'].var()*250\n",
        "PG_var_a"
      ],
      "metadata": {
        "colab": {
          "base_uri": "https://localhost:8080/"
        },
        "id": "0wPp_UgRCrtJ",
        "outputId": "2dadbc4f-7d56-421d-f853-d2b639d3ccab"
      },
      "execution_count": 19,
      "outputs": [
        {
          "output_type": "execute_result",
          "data": {
            "text/plain": [
              "0.035128472839526526"
            ]
          },
          "metadata": {},
          "execution_count": 19
        }
      ]
    },
    {
      "cell_type": "code",
      "source": [
        "BEI_var_a = sec_returns['BEI.DE'].var()*250\n",
        "BEI_var_a"
      ],
      "metadata": {
        "colab": {
          "base_uri": "https://localhost:8080/"
        },
        "id": "j67xcOGqDKzP",
        "outputId": "5df79e7a-d5b8-4b68-97b4-03c5ac0d008d"
      },
      "execution_count": 20,
      "outputs": [
        {
          "output_type": "execute_result",
          "data": {
            "text/plain": [
              "0.04653737445694514"
            ]
          },
          "metadata": {},
          "execution_count": 20
        }
      ]
    },
    {
      "cell_type": "code",
      "source": [
        "dr = pfolio_var - (weights[0]**2 * PG_var_a) - (weights[1]**2 * BEI_var_a)\n",
        "dr"
      ],
      "metadata": {
        "colab": {
          "base_uri": "https://localhost:8080/"
        },
        "id": "bbVNZujxDT7D",
        "outputId": "a0e68a3b-ec41-43b6-b8fb-abed31ebb899"
      },
      "execution_count": 21,
      "outputs": [
        {
          "output_type": "execute_result",
          "data": {
            "text/plain": [
              "-2.8998192950099172e-05"
            ]
          },
          "metadata": {},
          "execution_count": 21
        }
      ]
    },
    {
      "cell_type": "code",
      "source": [
        "print(f\"Diversifiable risk : {round(dr*100, 3)}%\")"
      ],
      "metadata": {
        "colab": {
          "base_uri": "https://localhost:8080/"
        },
        "id": "Sc1V4eH4D74v",
        "outputId": "c08ae5dd-b4c4-4696-dc2a-64efa8678a72"
      },
      "execution_count": 22,
      "outputs": [
        {
          "output_type": "stream",
          "name": "stdout",
          "text": [
            "Diversifiable risk : -0.003%\n"
          ]
        }
      ]
    },
    {
      "cell_type": "markdown",
      "source": [
        "Non Diversifiable risk"
      ],
      "metadata": {
        "id": "4RmmNzxnE1UM"
      }
    },
    {
      "cell_type": "code",
      "source": [
        "#th reamaining part of portifolio variance is systematic risk\n",
        "n_dr_1 = pfolio_var - dr\n",
        "n_dr_1"
      ],
      "metadata": {
        "colab": {
          "base_uri": "https://localhost:8080/"
        },
        "id": "GoVW6Dq3EOP-",
        "outputId": "cc98388b-772a-4d41-f5f7-21fd4b5a5273"
      },
      "execution_count": 27,
      "outputs": [
        {
          "output_type": "execute_result",
          "data": {
            "text/plain": [
              "0.020416461824117917"
            ]
          },
          "metadata": {},
          "execution_count": 27
        }
      ]
    },
    {
      "cell_type": "code",
      "source": [
        "n_dr_2 = (weights[0] **2 * PG_var_a) + (weights[1] **2 * BEI_var_a)\n",
        "n_dr_2"
      ],
      "metadata": {
        "colab": {
          "base_uri": "https://localhost:8080/"
        },
        "id": "vuZXh4BMFFRm",
        "outputId": "43faeb6c-3967-4065-b612-bc4c65e75fc0"
      },
      "execution_count": 28,
      "outputs": [
        {
          "output_type": "execute_result",
          "data": {
            "text/plain": [
              "0.020416461824117917"
            ]
          },
          "metadata": {},
          "execution_count": 28
        }
      ]
    },
    {
      "cell_type": "code",
      "source": [
        "n_dr_1 == n_dr_2"
      ],
      "metadata": {
        "colab": {
          "base_uri": "https://localhost:8080/"
        },
        "id": "ZLtvcaDsFaDO",
        "outputId": "63d059b0-1de8-4fc1-927e-18cdfc44def5"
      },
      "execution_count": 29,
      "outputs": [
        {
          "output_type": "execute_result",
          "data": {
            "text/plain": [
              "True"
            ]
          },
          "metadata": {},
          "execution_count": 29
        }
      ]
    },
    {
      "cell_type": "markdown",
      "source": [
        "Regardless of we subract unsystematic risk from whole variance or we sum the annual variances, we obtain the same value."
      ],
      "metadata": {
        "id": "DtpAZlgqF51h"
      }
    },
    {
      "cell_type": "markdown",
      "source": [
        "# <font color = \"blue\"> Markowitz Portfolio Theory"
      ],
      "metadata": {
        "id": "aVZ4qOeOG80e"
      }
    },
    {
      "cell_type": "markdown",
      "source": [
        "Investers shouldn’t put all their eggs in one basket. <br> Markowitz proved the existance of an efficient set of portfolios that optimize the investers returns for the amount of risk they are willing to accept. Investment in multiple securities shouldn’t be analysed seperately but should be considered in a portfolio. \n",
        "\n",
        "\n",
        "> The combination of securities with little correlation allows the investors to optimize their return without assuming additional risk\n",
        "\n"
      ],
      "metadata": {
        "id": "tIJANHw2HVRC"
      }
    },
    {
      "cell_type": "code",
      "source": [
        "start = calendar.timegm(datetime.datetime(year = 2010, month = 1, day = 1).timetuple())\n",
        "end = calendar.timegm(time.gmtime()) #current epoch time\n",
        "\n",
        "assets = ['PG', '%5EGSPC']\n",
        "\n",
        "pf_data = pd.DataFrame()\n",
        "pf_data['Date'] = hitYahooFinance('PG', start, end)['Date'] #doing this just for getting the date column\n",
        "for t in assets:\n",
        "  pf_data[t] = hitYahooFinance(t, start, end)['Adj Close']\n",
        "\n",
        "pf_data.set_index('Date', inplace = True)"
      ],
      "metadata": {
        "id": "wbZhhGh4Fg0D"
      },
      "execution_count": 30,
      "outputs": []
    },
    {
      "cell_type": "code",
      "source": [
        "pf_data.tail()"
      ],
      "metadata": {
        "colab": {
          "base_uri": "https://localhost:8080/",
          "height": 238
        },
        "id": "LHXWKVZwJJs4",
        "outputId": "170c46f3-6231-4748-dc4d-ac4a77c13370"
      },
      "execution_count": 31,
      "outputs": [
        {
          "output_type": "execute_result",
          "data": {
            "text/plain": [
              "                    PG      %5EGSPC\n",
              "Date                               \n",
              "2023-01-30  141.009995  4017.770020\n",
              "2023-01-31  142.380005  4076.600098\n",
              "2023-02-01  143.190002  4119.209961\n",
              "2023-02-02  142.169998  4179.759766\n",
              "2023-02-03  142.610001  4136.479980"
            ],
            "text/html": [
              "\n",
              "  <div id=\"df-f26a6bf6-a093-430e-a33c-ee6149a63b86\">\n",
              "    <div class=\"colab-df-container\">\n",
              "      <div>\n",
              "<style scoped>\n",
              "    .dataframe tbody tr th:only-of-type {\n",
              "        vertical-align: middle;\n",
              "    }\n",
              "\n",
              "    .dataframe tbody tr th {\n",
              "        vertical-align: top;\n",
              "    }\n",
              "\n",
              "    .dataframe thead th {\n",
              "        text-align: right;\n",
              "    }\n",
              "</style>\n",
              "<table border=\"1\" class=\"dataframe\">\n",
              "  <thead>\n",
              "    <tr style=\"text-align: right;\">\n",
              "      <th></th>\n",
              "      <th>PG</th>\n",
              "      <th>%5EGSPC</th>\n",
              "    </tr>\n",
              "    <tr>\n",
              "      <th>Date</th>\n",
              "      <th></th>\n",
              "      <th></th>\n",
              "    </tr>\n",
              "  </thead>\n",
              "  <tbody>\n",
              "    <tr>\n",
              "      <th>2023-01-30</th>\n",
              "      <td>141.009995</td>\n",
              "      <td>4017.770020</td>\n",
              "    </tr>\n",
              "    <tr>\n",
              "      <th>2023-01-31</th>\n",
              "      <td>142.380005</td>\n",
              "      <td>4076.600098</td>\n",
              "    </tr>\n",
              "    <tr>\n",
              "      <th>2023-02-01</th>\n",
              "      <td>143.190002</td>\n",
              "      <td>4119.209961</td>\n",
              "    </tr>\n",
              "    <tr>\n",
              "      <th>2023-02-02</th>\n",
              "      <td>142.169998</td>\n",
              "      <td>4179.759766</td>\n",
              "    </tr>\n",
              "    <tr>\n",
              "      <th>2023-02-03</th>\n",
              "      <td>142.610001</td>\n",
              "      <td>4136.479980</td>\n",
              "    </tr>\n",
              "  </tbody>\n",
              "</table>\n",
              "</div>\n",
              "      <button class=\"colab-df-convert\" onclick=\"convertToInteractive('df-f26a6bf6-a093-430e-a33c-ee6149a63b86')\"\n",
              "              title=\"Convert this dataframe to an interactive table.\"\n",
              "              style=\"display:none;\">\n",
              "        \n",
              "  <svg xmlns=\"http://www.w3.org/2000/svg\" height=\"24px\"viewBox=\"0 0 24 24\"\n",
              "       width=\"24px\">\n",
              "    <path d=\"M0 0h24v24H0V0z\" fill=\"none\"/>\n",
              "    <path d=\"M18.56 5.44l.94 2.06.94-2.06 2.06-.94-2.06-.94-.94-2.06-.94 2.06-2.06.94zm-11 1L8.5 8.5l.94-2.06 2.06-.94-2.06-.94L8.5 2.5l-.94 2.06-2.06.94zm10 10l.94 2.06.94-2.06 2.06-.94-2.06-.94-.94-2.06-.94 2.06-2.06.94z\"/><path d=\"M17.41 7.96l-1.37-1.37c-.4-.4-.92-.59-1.43-.59-.52 0-1.04.2-1.43.59L10.3 9.45l-7.72 7.72c-.78.78-.78 2.05 0 2.83L4 21.41c.39.39.9.59 1.41.59.51 0 1.02-.2 1.41-.59l7.78-7.78 2.81-2.81c.8-.78.8-2.07 0-2.86zM5.41 20L4 18.59l7.72-7.72 1.47 1.35L5.41 20z\"/>\n",
              "  </svg>\n",
              "      </button>\n",
              "      \n",
              "  <style>\n",
              "    .colab-df-container {\n",
              "      display:flex;\n",
              "      flex-wrap:wrap;\n",
              "      gap: 12px;\n",
              "    }\n",
              "\n",
              "    .colab-df-convert {\n",
              "      background-color: #E8F0FE;\n",
              "      border: none;\n",
              "      border-radius: 50%;\n",
              "      cursor: pointer;\n",
              "      display: none;\n",
              "      fill: #1967D2;\n",
              "      height: 32px;\n",
              "      padding: 0 0 0 0;\n",
              "      width: 32px;\n",
              "    }\n",
              "\n",
              "    .colab-df-convert:hover {\n",
              "      background-color: #E2EBFA;\n",
              "      box-shadow: 0px 1px 2px rgba(60, 64, 67, 0.3), 0px 1px 3px 1px rgba(60, 64, 67, 0.15);\n",
              "      fill: #174EA6;\n",
              "    }\n",
              "\n",
              "    [theme=dark] .colab-df-convert {\n",
              "      background-color: #3B4455;\n",
              "      fill: #D2E3FC;\n",
              "    }\n",
              "\n",
              "    [theme=dark] .colab-df-convert:hover {\n",
              "      background-color: #434B5C;\n",
              "      box-shadow: 0px 1px 3px 1px rgba(0, 0, 0, 0.15);\n",
              "      filter: drop-shadow(0px 1px 2px rgba(0, 0, 0, 0.3));\n",
              "      fill: #FFFFFF;\n",
              "    }\n",
              "  </style>\n",
              "\n",
              "      <script>\n",
              "        const buttonEl =\n",
              "          document.querySelector('#df-f26a6bf6-a093-430e-a33c-ee6149a63b86 button.colab-df-convert');\n",
              "        buttonEl.style.display =\n",
              "          google.colab.kernel.accessAllowed ? 'block' : 'none';\n",
              "\n",
              "        async function convertToInteractive(key) {\n",
              "          const element = document.querySelector('#df-f26a6bf6-a093-430e-a33c-ee6149a63b86');\n",
              "          const dataTable =\n",
              "            await google.colab.kernel.invokeFunction('convertToInteractive',\n",
              "                                                     [key], {});\n",
              "          if (!dataTable) return;\n",
              "\n",
              "          const docLinkHtml = 'Like what you see? Visit the ' +\n",
              "            '<a target=\"_blank\" href=https://colab.research.google.com/notebooks/data_table.ipynb>data table notebook</a>'\n",
              "            + ' to learn more about interactive tables.';\n",
              "          element.innerHTML = '';\n",
              "          dataTable['output_type'] = 'display_data';\n",
              "          await google.colab.output.renderOutput(dataTable, element);\n",
              "          const docLink = document.createElement('div');\n",
              "          docLink.innerHTML = docLinkHtml;\n",
              "          element.appendChild(docLink);\n",
              "        }\n",
              "      </script>\n",
              "    </div>\n",
              "  </div>\n",
              "  "
            ]
          },
          "metadata": {},
          "execution_count": 31
        }
      ]
    },
    {
      "cell_type": "code",
      "source": [
        "(pf_data/ pf_data.iloc[0] *100).plot(figsize = (10, 5))"
      ],
      "metadata": {
        "colab": {
          "base_uri": "https://localhost:8080/",
          "height": 352
        },
        "id": "9pnKU9IWJLiM",
        "outputId": "40335283-a239-4288-d9aa-ec0bed1626a1"
      },
      "execution_count": 32,
      "outputs": [
        {
          "output_type": "execute_result",
          "data": {
            "text/plain": [
              "<matplotlib.axes._subplots.AxesSubplot at 0x7fe202db26a0>"
            ]
          },
          "metadata": {},
          "execution_count": 32
        },
        {
          "output_type": "display_data",
          "data": {
            "text/plain": [
              "<Figure size 720x360 with 1 Axes>"
            ],
            "image/png": "[encoded data removed]"
          },
          "metadata": {
            "needs_background": "light"
          }
        }
      ]
    },
    {
      "cell_type": "code",
      "source": [
        "log_returns = np.log(pf_data / pf_data.shift(1))"
      ],
      "metadata": {
        "id": "gXF4IgtUJYjp"
      },
      "execution_count": 33,
      "outputs": []
    },
    {
      "cell_type": "code",
      "source": [
        "log_returns.mean()*250"
      ],
      "metadata": {
        "colab": {
          "base_uri": "https://localhost:8080/"
        },
        "id": "6GShEl_xJnu7",
        "outputId": "3a75421b-d1ba-4e32-f80b-ea3060b4d0d5"
      },
      "execution_count": 35,
      "outputs": [
        {
          "output_type": "execute_result",
          "data": {
            "text/plain": [
              "PG         0.094272\n",
              "%5EGSPC    0.098284\n",
              "dtype: float64"
            ]
          },
          "metadata": {},
          "execution_count": 35
        }
      ]
    },
    {
      "cell_type": "code",
      "source": [
        "log_returns.cov()*250"
      ],
      "metadata": {
        "colab": {
          "base_uri": "https://localhost:8080/",
          "height": 112
        },
        "id": "nWg5E0ozJqOw",
        "outputId": "db4a6625-c863-4324-9278-058c95070a8b"
      },
      "execution_count": 36,
      "outputs": [
        {
          "output_type": "execute_result",
          "data": {
            "text/plain": [
              "               PG   %5EGSPC\n",
              "PG       0.029986  0.017646\n",
              "%5EGSPC  0.017646  0.031648"
            ],
            "text/html": [
              "\n",
              "  <div id=\"df-ce5a5ddd-9fb2-485c-a7da-751d4d240c2b\">\n",
              "    <div class=\"colab-df-container\">\n",
              "      <div>\n",
              "<style scoped>\n",
              "    .dataframe tbody tr th:only-of-type {\n",
              "        vertical-align: middle;\n",
              "    }\n",
              "\n",
              "    .dataframe tbody tr th {\n",
              "        vertical-align: top;\n",
              "    }\n",
              "\n",
              "    .dataframe thead th {\n",
              "        text-align: right;\n",
              "    }\n",
              "</style>\n",
              "<table border=\"1\" class=\"dataframe\">\n",
              "  <thead>\n",
              "    <tr style=\"text-align: right;\">\n",
              "      <th></th>\n",
              "      <th>PG</th>\n",
              "      <th>%5EGSPC</th>\n",
              "    </tr>\n",
              "  </thead>\n",
              "  <tbody>\n",
              "    <tr>\n",
              "      <th>PG</th>\n",
              "      <td>0.029986</td>\n",
              "      <td>0.017646</td>\n",
              "    </tr>\n",
              "    <tr>\n",
              "      <th>%5EGSPC</th>\n",
              "      <td>0.017646</td>\n",
              "      <td>0.031648</td>\n",
              "    </tr>\n",
              "  </tbody>\n",
              "</table>\n",
              "</div>\n",
              "      <button class=\"colab-df-convert\" onclick=\"convertToInteractive('df-ce5a5ddd-9fb2-485c-a7da-751d4d240c2b')\"\n",
              "              title=\"Convert this dataframe to an interactive table.\"\n",
              "              style=\"display:none;\">\n",
              "        \n",
              "  <svg xmlns=\"http://www.w3.org/2000/svg\" height=\"24px\"viewBox=\"0 0 24 24\"\n",
              "       width=\"24px\">\n",
              "    <path d=\"M0 0h24v24H0V0z\" fill=\"none\"/>\n",
              "    <path d=\"M18.56 5.44l.94 2.06.94-2.06 2.06-.94-2.06-.94-.94-2.06-.94 2.06-2.06.94zm-11 1L8.5 8.5l.94-2.06 2.06-.94-2.06-.94L8.5 2.5l-.94 2.06-2.06.94zm10 10l.94 2.06.94-2.06 2.06-.94-2.06-.94-.94-2.06-.94 2.06-2.06.94z\"/><path d=\"M17.41 7.96l-1.37-1.37c-.4-.4-.92-.59-1.43-.59-.52 0-1.04.2-1.43.59L10.3 9.45l-7.72 7.72c-.78.78-.78 2.05 0 2.83L4 21.41c.39.39.9.59 1.41.59.51 0 1.02-.2 1.41-.59l7.78-7.78 2.81-2.81c.8-.78.8-2.07 0-2.86zM5.41 20L4 18.59l7.72-7.72 1.47 1.35L5.41 20z\"/>\n",
              "  </svg>\n",
              "      </button>\n",
              "      \n",
              "  <style>\n",
              "    .colab-df-container {\n",
              "      display:flex;\n",
              "      flex-wrap:wrap;\n",
              "      gap: 12px;\n",
              "    }\n",
              "\n",
              "    .colab-df-convert {\n",
              "      background-color: #E8F0FE;\n",
              "      border: none;\n",
              "      border-radius: 50%;\n",
              "      cursor: pointer;\n",
              "      display: none;\n",
              "      fill: #1967D2;\n",
              "      height: 32px;\n",
              "      padding: 0 0 0 0;\n",
              "      width: 32px;\n",
              "    }\n",
              "\n",
              "    .colab-df-convert:hover {\n",
              "      background-color: #E2EBFA;\n",
              "      box-shadow: 0px 1px 2px rgba(60, 64, 67, 0.3), 0px 1px 3px 1px rgba(60, 64, 67, 0.15);\n",
              "      fill: #174EA6;\n",
              "    }\n",
              "\n",
              "    [theme=dark] .colab-df-convert {\n",
              "      background-color: #3B4455;\n",
              "      fill: #D2E3FC;\n",
              "    }\n",
              "\n",
              "    [theme=dark] .colab-df-convert:hover {\n",
              "      background-color: #434B5C;\n",
              "      box-shadow: 0px 1px 3px 1px rgba(0, 0, 0, 0.15);\n",
              "      filter: drop-shadow(0px 1px 2px rgba(0, 0, 0, 0.3));\n",
              "      fill: #FFFFFF;\n",
              "    }\n",
              "  </style>\n",
              "\n",
              "      <script>\n",
              "        const buttonEl =\n",
              "          document.querySelector('#df-ce5a5ddd-9fb2-485c-a7da-751d4d240c2b button.colab-df-convert');\n",
              "        buttonEl.style.display =\n",
              "          google.colab.kernel.accessAllowed ? 'block' : 'none';\n",
              "\n",
              "        async function convertToInteractive(key) {\n",
              "          const element = document.querySelector('#df-ce5a5ddd-9fb2-485c-a7da-751d4d240c2b');\n",
              "          const dataTable =\n",
              "            await google.colab.kernel.invokeFunction('convertToInteractive',\n",
              "                                                     [key], {});\n",
              "          if (!dataTable) return;\n",
              "\n",
              "          const docLinkHtml = 'Like what you see? Visit the ' +\n",
              "            '<a target=\"_blank\" href=https://colab.research.google.com/notebooks/data_table.ipynb>data table notebook</a>'\n",
              "            + ' to learn more about interactive tables.';\n",
              "          element.innerHTML = '';\n",
              "          dataTable['output_type'] = 'display_data';\n",
              "          await google.colab.output.renderOutput(dataTable, element);\n",
              "          const docLink = document.createElement('div');\n",
              "          docLink.innerHTML = docLinkHtml;\n",
              "          element.appendChild(docLink);\n",
              "        }\n",
              "      </script>\n",
              "    </div>\n",
              "  </div>\n",
              "  "
            ]
          },
          "metadata": {},
          "execution_count": 36
        }
      ]
    },
    {
      "cell_type": "code",
      "source": [
        "log_returns.corr()"
      ],
      "metadata": {
        "colab": {
          "base_uri": "https://localhost:8080/",
          "height": 112
        },
        "id": "VNK3JMXeJxDj",
        "outputId": "aa8ce721-1bf0-4bb9-bb28-2f93758ca9f4"
      },
      "execution_count": 37,
      "outputs": [
        {
          "output_type": "execute_result",
          "data": {
            "text/plain": [
              "               PG   %5EGSPC\n",
              "PG       1.000000  0.572815\n",
              "%5EGSPC  0.572815  1.000000"
            ],
            "text/html": [
              "\n",
              "  <div id=\"df-447b4f62-60f3-4470-9f28-11cb8d11b3a0\">\n",
              "    <div class=\"colab-df-container\">\n",
              "      <div>\n",
              "<style scoped>\n",
              "    .dataframe tbody tr th:only-of-type {\n",
              "        vertical-align: middle;\n",
              "    }\n",
              "\n",
              "    .dataframe tbody tr th {\n",
              "        vertical-align: top;\n",
              "    }\n",
              "\n",
              "    .dataframe thead th {\n",
              "        text-align: right;\n",
              "    }\n",
              "</style>\n",
              "<table border=\"1\" class=\"dataframe\">\n",
              "  <thead>\n",
              "    <tr style=\"text-align: right;\">\n",
              "      <th></th>\n",
              "      <th>PG</th>\n",
              "      <th>%5EGSPC</th>\n",
              "    </tr>\n",
              "  </thead>\n",
              "  <tbody>\n",
              "    <tr>\n",
              "      <th>PG</th>\n",
              "      <td>1.000000</td>\n",
              "      <td>0.572815</td>\n",
              "    </tr>\n",
              "    <tr>\n",
              "      <th>%5EGSPC</th>\n",
              "      <td>0.572815</td>\n",
              "      <td>1.000000</td>\n",
              "    </tr>\n",
              "  </tbody>\n",
              "</table>\n",
              "</div>\n",
              "      <button class=\"colab-df-convert\" onclick=\"convertToInteractive('df-447b4f62-60f3-4470-9f28-11cb8d11b3a0')\"\n",
              "              title=\"Convert this dataframe to an interactive table.\"\n",
              "              style=\"display:none;\">\n",
              "        \n",
              "  <svg xmlns=\"http://www.w3.org/2000/svg\" height=\"24px\"viewBox=\"0 0 24 24\"\n",
              "       width=\"24px\">\n",
              "    <path d=\"M0 0h24v24H0V0z\" fill=\"none\"/>\n",
              "    <path d=\"M18.56 5.44l.94 2.06.94-2.06 2.06-.94-2.06-.94-.94-2.06-.94 2.06-2.06.94zm-11 1L8.5 8.5l.94-2.06 2.06-.94-2.06-.94L8.5 2.5l-.94 2.06-2.06.94zm10 10l.94 2.06.94-2.06 2.06-.94-2.06-.94-.94-2.06-.94 2.06-2.06.94z\"/><path d=\"M17.41 7.96l-1.37-1.37c-.4-.4-.92-.59-1.43-.59-.52 0-1.04.2-1.43.59L10.3 9.45l-7.72 7.72c-.78.78-.78 2.05 0 2.83L4 21.41c.39.39.9.59 1.41.59.51 0 1.02-.2 1.41-.59l7.78-7.78 2.81-2.81c.8-.78.8-2.07 0-2.86zM5.41 20L4 18.59l7.72-7.72 1.47 1.35L5.41 20z\"/>\n",
              "  </svg>\n",
              "      </button>\n",
              "      \n",
              "  <style>\n",
              "    .colab-df-container {\n",
              "      display:flex;\n",
              "      flex-wrap:wrap;\n",
              "      gap: 12px;\n",
              "    }\n",
              "\n",
              "    .colab-df-convert {\n",
              "      background-color: #E8F0FE;\n",
              "      border: none;\n",
              "      border-radius: 50%;\n",
              "      cursor: pointer;\n",
              "      display: none;\n",
              "      fill: #1967D2;\n",
              "      height: 32px;\n",
              "      padding: 0 0 0 0;\n",
              "      width: 32px;\n",
              "    }\n",
              "\n",
              "    .colab-df-convert:hover {\n",
              "      background-color: #E2EBFA;\n",
              "      box-shadow: 0px 1px 2px rgba(60, 64, 67, 0.3), 0px 1px 3px 1px rgba(60, 64, 67, 0.15);\n",
              "      fill: #174EA6;\n",
              "    }\n",
              "\n",
              "    [theme=dark] .colab-df-convert {\n",
              "      background-color: #3B4455;\n",
              "      fill: #D2E3FC;\n",
              "    }\n",
              "\n",
              "    [theme=dark] .colab-df-convert:hover {\n",
              "      background-color: #434B5C;\n",
              "      box-shadow: 0px 1px 3px 1px rgba(0, 0, 0, 0.15);\n",
              "      filter: drop-shadow(0px 1px 2px rgba(0, 0, 0, 0.3));\n",
              "      fill: #FFFFFF;\n",
              "    }\n",
              "  </style>\n",
              "\n",
              "      <script>\n",
              "        const buttonEl =\n",
              "          document.querySelector('#df-447b4f62-60f3-4470-9f28-11cb8d11b3a0 button.colab-df-convert');\n",
              "        buttonEl.style.display =\n",
              "          google.colab.kernel.accessAllowed ? 'block' : 'none';\n",
              "\n",
              "        async function convertToInteractive(key) {\n",
              "          const element = document.querySelector('#df-447b4f62-60f3-4470-9f28-11cb8d11b3a0');\n",
              "          const dataTable =\n",
              "            await google.colab.kernel.invokeFunction('convertToInteractive',\n",
              "                                                     [key], {});\n",
              "          if (!dataTable) return;\n",
              "\n",
              "          const docLinkHtml = 'Like what you see? Visit the ' +\n",
              "            '<a target=\"_blank\" href=https://colab.research.google.com/notebooks/data_table.ipynb>data table notebook</a>'\n",
              "            + ' to learn more about interactive tables.';\n",
              "          element.innerHTML = '';\n",
              "          dataTable['output_type'] = 'display_data';\n",
              "          await google.colab.output.renderOutput(dataTable, element);\n",
              "          const docLink = document.createElement('div');\n",
              "          docLink.innerHTML = docLinkHtml;\n",
              "          element.appendChild(docLink);\n",
              "        }\n",
              "      </script>\n",
              "    </div>\n",
              "  </div>\n",
              "  "
            ]
          },
          "metadata": {},
          "execution_count": 37
        }
      ]
    },
    {
      "cell_type": "code",
      "source": [
        "num_assets = len(assets)\n",
        "num_assets"
      ],
      "metadata": {
        "colab": {
          "base_uri": "https://localhost:8080/"
        },
        "id": "1WkeOfjvJ0gX",
        "outputId": "1b0dcaba-23f4-43a0-d02c-5f595f38298d"
      },
      "execution_count": 38,
      "outputs": [
        {
          "output_type": "execute_result",
          "data": {
            "text/plain": [
              "2"
            ]
          },
          "metadata": {},
          "execution_count": 38
        }
      ]
    },
    {
      "cell_type": "code",
      "source": [
        "#generating two random weights whose sum is equal to 1\n",
        "weights = np.random.random(num_assets)\n",
        "weights /= np.sum(weights)\n",
        "weights"
      ],
      "metadata": {
        "colab": {
          "base_uri": "https://localhost:8080/"
        },
        "id": "T8HBzctYKGDT",
        "outputId": "a100a6fc-302a-4a96-ee26-d304ff77f583"
      },
      "execution_count": 46,
      "outputs": [
        {
          "output_type": "execute_result",
          "data": {
            "text/plain": [
              "array([0.1163283, 0.8836717])"
            ]
          },
          "metadata": {},
          "execution_count": 46
        }
      ]
    },
    {
      "cell_type": "code",
      "source": [
        "weights[0]+weights[1]"
      ],
      "metadata": {
        "colab": {
          "base_uri": "https://localhost:8080/"
        },
        "id": "mhRGJ8JmKeRQ",
        "outputId": "130ac983-941d-49c3-859c-e495b2e80723"
      },
      "execution_count": 47,
      "outputs": [
        {
          "output_type": "execute_result",
          "data": {
            "text/plain": [
              "1.0"
            ]
          },
          "metadata": {},
          "execution_count": 47
        }
      ]
    },
    {
      "cell_type": "markdown",
      "source": [
        "Expected portfolio return"
      ],
      "metadata": {
        "id": "REb68lpIK7Sn"
      }
    },
    {
      "cell_type": "markdown",
      "source": [
        "It is given by sum of the weighted annualized average log returns."
      ],
      "metadata": {
        "id": "GGtkkmQsLAvM"
      }
    },
    {
      "cell_type": "code",
      "source": [
        "np.sum(weights*log_returns.mean())*250"
      ],
      "metadata": {
        "colab": {
          "base_uri": "https://localhost:8080/"
        },
        "id": "fThIv5KxKi1X",
        "outputId": "2d3a5434-3349-4d9c-fd02-27aa56e7c8ad"
      },
      "execution_count": 48,
      "outputs": [
        {
          "output_type": "execute_result",
          "data": {
            "text/plain": [
              "0.097816984875042"
            ]
          },
          "metadata": {},
          "execution_count": 48
        }
      ]
    },
    {
      "cell_type": "markdown",
      "source": [
        "Expected Portfolio variance"
      ],
      "metadata": {
        "id": "85GzGup4LXaj"
      }
    },
    {
      "cell_type": "code",
      "source": [
        "np.dot(weights.T, np.dot(log_returns.cov()*250, weights))"
      ],
      "metadata": {
        "colab": {
          "base_uri": "https://localhost:8080/"
        },
        "id": "ecV-pFSuLS3C",
        "outputId": "69ceeb3b-aa63-4b67-978c-91d038556e23"
      },
      "execution_count": 49,
      "outputs": [
        {
          "output_type": "execute_result",
          "data": {
            "text/plain": [
              "0.0287464417813101"
            ]
          },
          "metadata": {},
          "execution_count": 49
        }
      ]
    },
    {
      "cell_type": "markdown",
      "source": [
        "Expected Portfolio voltality"
      ],
      "metadata": {
        "id": "XZYEiz4RLt4a"
      }
    },
    {
      "cell_type": "code",
      "source": [
        "np.sqrt(np.dot(weights.T, np.dot(log_returns.cov()*250, weights)))"
      ],
      "metadata": {
        "colab": {
          "base_uri": "https://localhost:8080/"
        },
        "id": "P8Ls3JBELqxr",
        "outputId": "4a0490bb-05c6-46ad-b30d-173019a0f94d"
      },
      "execution_count": 50,
      "outputs": [
        {
          "output_type": "execute_result",
          "data": {
            "text/plain": [
              "0.16954775663897798"
            ]
          },
          "metadata": {},
          "execution_count": 50
        }
      ]
    },
    {
      "cell_type": "markdown",
      "source": [
        "Now we are going to create 1000 different combinations of weights for the same assets"
      ],
      "metadata": {
        "id": "aO3OuoWHMFhH"
      }
    },
    {
      "cell_type": "code",
      "source": [
        "pfolio_returns = []\n",
        "pfolio_volatilities = []\n",
        "\n",
        "for x in range(1000):\n",
        "  weights = np.random.random(num_assets)\n",
        "  weights /= np.sum(weights)\n",
        "  pfolio_returns.append(np.sum(weights * log_returns.mean()) * 250)\n",
        "  pfolio_volatilities.append(np.sqrt(np.dot(weights.T, np.dot(log_returns.cov() * 250, weights))))\n",
        "\n",
        "pfolio_returns = np.array(pfolio_returns)\n",
        "pfolio_volatilities = np.array(pfolio_volatilities)\n",
        "\n",
        "pfolio_returns, pfolio_volatilities"
      ],
      "metadata": {
        "colab": {
          "base_uri": "https://localhost:8080/"
        },
        "id": "F3cbgJGnL6NZ",
        "outputId": "126a770f-ac99-44f5-8b44-7e9954d50f63"
      },
      "execution_count": 52,
      "outputs": [
        {
          "output_type": "execute_result",
          "data": {
            "text/plain": [
              "(array([0.09778316, 0.09441442, 0.09533014, 0.09578976, 0.09785995,\n",
              "        0.09607419, 0.09700576, 0.09517987, 0.0976583 , 0.0959513 ,\n",
              "        0.09598057, 0.09632944, 0.0964076 , 0.09635855, 0.09747419,\n",
              "        0.09549092, 0.09704582, 0.09578209, 0.09675135, 0.09680597,\n",
              "        0.09530633, 0.09487486, 0.09609609, 0.0964831 , 0.09653316,\n",
              "        0.09617569, 0.09752237, 0.09637429, 0.09665008, 0.09509678,\n",
              "        0.09604946, 0.09568255, 0.09450365, 0.09671709, 0.09639382,\n",
              "        0.09660473, 0.09565257, 0.09649005, 0.09565186, 0.09560549,\n",
              "        0.09708489, 0.09666419, 0.09597057, 0.09540012, 0.0953456 ,\n",
              "        0.09605985, 0.09644323, 0.09655456, 0.09692831, 0.09505825,\n",
              "        0.0944228 , 0.09656657, 0.09433683, 0.09581941, 0.09626162,\n",
              "        0.09536402, 0.09495432, 0.09662776, 0.09796554, 0.09459431,\n",
              "        0.09637431, 0.09640649, 0.0975268 , 0.09444608, 0.09643424,\n",
              "        0.09437597, 0.0945765 , 0.09730093, 0.09804859, 0.09654742,\n",
              "        0.09534003, 0.09642848, 0.09659545, 0.09564339, 0.09654184,\n",
              "        0.09676708, 0.09498909, 0.09516744, 0.09750747, 0.09731451,\n",
              "        0.09432055, 0.09785591, 0.0960411 , 0.09614664, 0.0975108 ,\n",
              "        0.09727429, 0.09436896, 0.09631287, 0.09569508, 0.09647778,\n",
              "        0.09697215, 0.09491354, 0.09802206, 0.09691411, 0.09799413,\n",
              "        0.09807907, 0.09660486, 0.09548514, 0.09740971, 0.09717816,\n",
              "        0.09780299, 0.09664285, 0.09469278, 0.09523331, 0.09787804,\n",
              "        0.09729466, 0.09702027, 0.09618001, 0.09579832, 0.09685633,\n",
              "        0.09740526, 0.09623983, 0.0970471 , 0.09612965, 0.09678904,\n",
              "        0.095736  , 0.09737602, 0.09614289, 0.09726165, 0.0943819 ,\n",
              "        0.09672982, 0.09639376, 0.09652781, 0.09491773, 0.09633901,\n",
              "        0.09453908, 0.09718566, 0.09771252, 0.0951503 , 0.09698784,\n",
              "        0.0963284 , 0.09552306, 0.09565983, 0.09650627, 0.09552466,\n",
              "        0.09477984, 0.09527347, 0.0966341 , 0.09797059, 0.09668087,\n",
              "        0.09497804, 0.09626725, 0.09697757, 0.09606485, 0.09621715,\n",
              "        0.09751576, 0.09598911, 0.0970277 , 0.09547842, 0.09689727,\n",
              "        0.09714601, 0.09608331, 0.09713554, 0.09601528, 0.09650912,\n",
              "        0.09695692, 0.09632658, 0.09674839, 0.09538309, 0.0961757 ,\n",
              "        0.09459195, 0.09570696, 0.09474189, 0.09653511, 0.09686786,\n",
              "        0.0959919 , 0.09704538, 0.09634636, 0.09646371, 0.09430177,\n",
              "        0.09805847, 0.097486  , 0.09666165, 0.09618669, 0.09659334,\n",
              "        0.0962675 , 0.09781853, 0.09752917, 0.09573821, 0.09823571,\n",
              "        0.09616956, 0.096083  , 0.09491056, 0.09645343, 0.09615931,\n",
              "        0.0959019 , 0.09582238, 0.09799695, 0.09589367, 0.09603796,\n",
              "        0.09504724, 0.09700896, 0.09609144, 0.09753979, 0.09462844,\n",
              "        0.09479187, 0.09455339, 0.09686318, 0.09471537, 0.097371  ,\n",
              "        0.0974081 , 0.09617497, 0.09708049, 0.09628157, 0.09703005,\n",
              "        0.09460343, 0.09635663, 0.09586923, 0.09579802, 0.09442493,\n",
              "        0.09788752, 0.09735454, 0.09657039, 0.09522113, 0.0968134 ,\n",
              "        0.09622122, 0.09560257, 0.0974599 , 0.09639   , 0.09642921,\n",
              "        0.09554897, 0.09483681, 0.09563688, 0.09437891, 0.09683668,\n",
              "        0.09535218, 0.09706019, 0.0965725 , 0.09615115, 0.09700128,\n",
              "        0.09691945, 0.09631355, 0.09620259, 0.09431708, 0.09794259,\n",
              "        0.09490236, 0.09648141, 0.09608878, 0.09780749, 0.09622957,\n",
              "        0.09803474, 0.09565089, 0.09457749, 0.09602306, 0.09660438,\n",
              "        0.097704  , 0.0951945 , 0.09788627, 0.09463512, 0.09817401,\n",
              "        0.09638297, 0.09551276, 0.0977211 , 0.09611667, 0.09701533,\n",
              "        0.09573852, 0.09569631, 0.09559687, 0.09702165, 0.09725157,\n",
              "        0.09620262, 0.09495482, 0.09684161, 0.09603751, 0.09627353,\n",
              "        0.09488014, 0.09538252, 0.09686879, 0.09473351, 0.09629601,\n",
              "        0.09638395, 0.09581731, 0.0955272 , 0.09580498, 0.09589115,\n",
              "        0.09677909, 0.09704102, 0.0979603 , 0.09610177, 0.09585992,\n",
              "        0.09606587, 0.09691359, 0.09603599, 0.09662592, 0.09781064,\n",
              "        0.09573182, 0.0975816 , 0.09486235, 0.09641944, 0.09665832,\n",
              "        0.09606525, 0.09604997, 0.09731898, 0.09655763, 0.09636911,\n",
              "        0.09625593, 0.09544214, 0.09643102, 0.09644703, 0.09782606,\n",
              "        0.09590145, 0.09628182, 0.096611  , 0.09672258, 0.09596555,\n",
              "        0.09430028, 0.09543783, 0.09633765, 0.09767813, 0.09639957,\n",
              "        0.09643361, 0.09523228, 0.09711438, 0.09454342, 0.09674461,\n",
              "        0.09449628, 0.09508016, 0.09729566, 0.0973086 , 0.09624645,\n",
              "        0.09631388, 0.09655275, 0.09564555, 0.09718986, 0.09610354,\n",
              "        0.09618498, 0.0965209 , 0.09571806, 0.0963104 , 0.09454627,\n",
              "        0.09601224, 0.09629508, 0.09522866, 0.09660718, 0.09458592,\n",
              "        0.09635582, 0.09503377, 0.09698371, 0.09800703, 0.09593589,\n",
              "        0.09817983, 0.09616562, 0.09655046, 0.09684246, 0.09675376,\n",
              "        0.09637557, 0.09616657, 0.09627041, 0.09682823, 0.09715218,\n",
              "        0.09576309, 0.09651356, 0.09673352, 0.09483638, 0.09619894,\n",
              "        0.09760299, 0.09443522, 0.09732903, 0.09561226, 0.09619184,\n",
              "        0.09766232, 0.09435116, 0.09441628, 0.09591882, 0.09647323,\n",
              "        0.09672085, 0.09822126, 0.09490678, 0.09621034, 0.09627779,\n",
              "        0.09555676, 0.09612241, 0.09650762, 0.09629149, 0.09483786,\n",
              "        0.0957983 , 0.0975923 , 0.09628764, 0.09709516, 0.09586744,\n",
              "        0.09748498, 0.09778777, 0.09561205, 0.09681099, 0.09671058,\n",
              "        0.09678299, 0.09623165, 0.09750465, 0.09637366, 0.09598541,\n",
              "        0.09606691, 0.09550884, 0.09481642, 0.09556841, 0.09661838,\n",
              "        0.09593457, 0.0961847 , 0.0946438 , 0.09774479, 0.09623877,\n",
              "        0.09486331, 0.09561207, 0.09729069, 0.09766444, 0.09590484,\n",
              "        0.0953999 , 0.09566526, 0.09623461, 0.09662998, 0.0977304 ,\n",
              "        0.09753209, 0.09665921, 0.09563635, 0.09756277, 0.0956037 ,\n",
              "        0.09598377, 0.09810859, 0.09717443, 0.09788111, 0.09552951,\n",
              "        0.0966689 , 0.09589082, 0.09678955, 0.09500841, 0.09617416,\n",
              "        0.09598137, 0.09525107, 0.09573775, 0.09609884, 0.09649284,\n",
              "        0.09541195, 0.09443884, 0.09680256, 0.09642803, 0.0958331 ,\n",
              "        0.09485522, 0.0969484 , 0.0974321 , 0.09808529, 0.09672784,\n",
              "        0.09464888, 0.09479037, 0.09679141, 0.09516377, 0.09705491,\n",
              "        0.09605291, 0.0958574 , 0.09578871, 0.0967275 , 0.09797195,\n",
              "        0.09710956, 0.09638654, 0.09676927, 0.09557197, 0.09681548,\n",
              "        0.09630731, 0.09554968, 0.09552442, 0.09699153, 0.09525373,\n",
              "        0.09646578, 0.09601479, 0.09620742, 0.09578473, 0.09765853,\n",
              "        0.09709557, 0.09532403, 0.09714777, 0.09621275, 0.097108  ,\n",
              "        0.09692825, 0.09461953, 0.09595997, 0.09446853, 0.09729639,\n",
              "        0.09665016, 0.09707593, 0.09524848, 0.09764156, 0.09567496,\n",
              "        0.09763052, 0.09565496, 0.0970119 , 0.09735111, 0.0955151 ,\n",
              "        0.0970523 , 0.09723811, 0.096033  , 0.0956353 , 0.09616771,\n",
              "        0.09773063, 0.09526105, 0.09652041, 0.09646954, 0.09795702,\n",
              "        0.09641179, 0.09597879, 0.09547262, 0.09586402, 0.09574062,\n",
              "        0.09794216, 0.09515704, 0.09740992, 0.09811737, 0.09610322,\n",
              "        0.09754065, 0.09793   , 0.09506091, 0.09600909, 0.09729312,\n",
              "        0.09817475, 0.09622115, 0.09506018, 0.095622  , 0.09607348,\n",
              "        0.09619898, 0.09532756, 0.09669955, 0.09585857, 0.09506641,\n",
              "        0.09546762, 0.09794493, 0.09616651, 0.09629517, 0.09453603,\n",
              "        0.09632764, 0.09721454, 0.09776607, 0.09616553, 0.09542861,\n",
              "        0.09753831, 0.09614638, 0.09594706, 0.09542951, 0.09500404,\n",
              "        0.09572202, 0.09648664, 0.09780501, 0.09680918, 0.09592677,\n",
              "        0.09744503, 0.09621323, 0.09776355, 0.09672782, 0.09711522,\n",
              "        0.09625643, 0.0964276 , 0.09799069, 0.09704585, 0.09591873,\n",
              "        0.09610654, 0.09691083, 0.0969753 , 0.09573657, 0.09511326,\n",
              "        0.09581609, 0.09575761, 0.09494785, 0.09677153, 0.09792528,\n",
              "        0.0976857 , 0.09760257, 0.09575694, 0.09582665, 0.09811407,\n",
              "        0.09670621, 0.09660633, 0.09730677, 0.09577019, 0.09670684,\n",
              "        0.09631743, 0.09449082, 0.09694908, 0.09584402, 0.09635927,\n",
              "        0.09585582, 0.09462055, 0.09604435, 0.09548903, 0.09692413,\n",
              "        0.09721653, 0.09589874, 0.0960653 , 0.09668709, 0.09584189,\n",
              "        0.09650268, 0.09520076, 0.09585669, 0.09439296, 0.09654363,\n",
              "        0.09746384, 0.09596855, 0.09676093, 0.09670563, 0.09703446,\n",
              "        0.09572733, 0.09591143, 0.09710276, 0.09482833, 0.09680574,\n",
              "        0.09445723, 0.09657224, 0.0973685 , 0.09641223, 0.0960339 ,\n",
              "        0.09674268, 0.09634424, 0.09804419, 0.09728367, 0.0944843 ,\n",
              "        0.09664214, 0.09573413, 0.09539257, 0.0962776 , 0.09472661,\n",
              "        0.09451609, 0.09667416, 0.09580083, 0.0973738 , 0.09560061,\n",
              "        0.09643718, 0.09656015, 0.09703453, 0.0960089 , 0.0948952 ,\n",
              "        0.09779237, 0.09621327, 0.09520419, 0.09636616, 0.09752357,\n",
              "        0.0946277 , 0.09672448, 0.09626238, 0.09807964, 0.09785236,\n",
              "        0.09583309, 0.09511941, 0.09614183, 0.09791453, 0.09547282,\n",
              "        0.09540296, 0.09828107, 0.0964024 , 0.09753292, 0.0950799 ,\n",
              "        0.09666131, 0.09466625, 0.09636562, 0.09822333, 0.09656305,\n",
              "        0.09683227, 0.09540057, 0.09543118, 0.09621271, 0.09596851,\n",
              "        0.0943455 , 0.0962179 , 0.09657463, 0.09565617, 0.09571134,\n",
              "        0.09510693, 0.09641763, 0.09544983, 0.09628234, 0.09513878,\n",
              "        0.09609626, 0.09706387, 0.09713127, 0.09676734, 0.09673717,\n",
              "        0.09442125, 0.09439864, 0.09565757, 0.09477425, 0.09447823,\n",
              "        0.09734579, 0.0967097 , 0.09576727, 0.09625109, 0.09624394,\n",
              "        0.09528975, 0.09485317, 0.09672188, 0.09656228, 0.09582056,\n",
              "        0.09429029, 0.09796392, 0.0946447 , 0.09621659, 0.09497699,\n",
              "        0.09686848, 0.09567602, 0.09595241, 0.09750246, 0.09512376,\n",
              "        0.09757817, 0.09582293, 0.09635692, 0.09713824, 0.0952107 ,\n",
              "        0.09643679, 0.09652378, 0.09656626, 0.09479053, 0.09497891,\n",
              "        0.0949733 , 0.09576459, 0.09561107, 0.09680756, 0.09634078,\n",
              "        0.0966068 , 0.09590365, 0.09791589, 0.0967789 , 0.0965804 ,\n",
              "        0.09608456, 0.09663779, 0.09718948, 0.09581061, 0.09662122,\n",
              "        0.0978793 , 0.09690522, 0.09686406, 0.09640959, 0.09584222,\n",
              "        0.09579387, 0.09726093, 0.09772918, 0.09661872, 0.09466895,\n",
              "        0.09525483, 0.09557797, 0.09653605, 0.0957639 , 0.09562465,\n",
              "        0.09658809, 0.09707458, 0.09596433, 0.09735741, 0.09574971,\n",
              "        0.097296  , 0.09733417, 0.09686513, 0.09754867, 0.09580389,\n",
              "        0.09659561, 0.09545097, 0.09625855, 0.09490338, 0.09778654,\n",
              "        0.09527247, 0.09601933, 0.09785274, 0.09756057, 0.09790789,\n",
              "        0.09511432, 0.0946295 , 0.09737119, 0.09648913, 0.09672143,\n",
              "        0.09494562, 0.09628622, 0.09774966, 0.0950677 , 0.09511904,\n",
              "        0.09641505, 0.09593399, 0.09571013, 0.09534157, 0.09661574,\n",
              "        0.09508524, 0.09464821, 0.0947518 , 0.09489102, 0.09576249,\n",
              "        0.09699165, 0.09622951, 0.09609098, 0.09686676, 0.096662  ,\n",
              "        0.09464829, 0.09632217, 0.09493918, 0.09816363, 0.09457701,\n",
              "        0.09572698, 0.09641763, 0.0957162 , 0.09550472, 0.09746768,\n",
              "        0.09701455, 0.09448078, 0.09629655, 0.09613757, 0.09517052,\n",
              "        0.09625112, 0.09436957, 0.0964413 , 0.0970799 , 0.09514746,\n",
              "        0.09670109, 0.09710666, 0.09550601, 0.09522866, 0.09756753,\n",
              "        0.09640264, 0.09565621, 0.0963074 , 0.09709605, 0.09622252,\n",
              "        0.09603581, 0.09689052, 0.09581347, 0.09634466, 0.09622083,\n",
              "        0.09603078, 0.09605228, 0.0959571 , 0.0965353 , 0.09542797,\n",
              "        0.09582069, 0.09604914, 0.09571448, 0.09670025, 0.09659021,\n",
              "        0.0959103 , 0.0957938 , 0.09581547, 0.09688539, 0.09580312,\n",
              "        0.09614927, 0.09538521, 0.09773949, 0.09766068, 0.09510477,\n",
              "        0.09728268, 0.09681319, 0.0972289 , 0.09621039, 0.09714482,\n",
              "        0.09810625, 0.09779577, 0.09517554, 0.09628526, 0.09730861,\n",
              "        0.09503128, 0.09427672, 0.09473888, 0.09817832, 0.09553795,\n",
              "        0.09710327, 0.0966464 , 0.09553468, 0.09674743, 0.09771961,\n",
              "        0.09485662, 0.09566685, 0.09597279, 0.09625205, 0.09543966,\n",
              "        0.09633414, 0.09439948, 0.09718802, 0.09703782, 0.09736538,\n",
              "        0.09707931, 0.09678097, 0.094631  , 0.09571903, 0.09572968,\n",
              "        0.09649453, 0.09509794, 0.0962687 , 0.09443053, 0.09583473,\n",
              "        0.09493165, 0.09574709, 0.09637795, 0.09647292, 0.09737753,\n",
              "        0.09625355, 0.09686778, 0.0960658 , 0.09600325, 0.09616627,\n",
              "        0.09655947, 0.09612954, 0.0956851 , 0.09639929, 0.09601457,\n",
              "        0.09566441, 0.09552023, 0.09584725, 0.09551366, 0.09640894,\n",
              "        0.09642671, 0.09561875, 0.09611325, 0.09700565, 0.09637085,\n",
              "        0.09604853, 0.09480192, 0.09811561, 0.09553736, 0.09644843,\n",
              "        0.09438697, 0.09625847, 0.09640548, 0.09634924, 0.09534722,\n",
              "        0.0974005 , 0.09669049, 0.09592282, 0.09781558, 0.09553513,\n",
              "        0.09606519, 0.09530388, 0.09605613, 0.09615922, 0.09676   ,\n",
              "        0.09440201, 0.09690893, 0.0954532 , 0.09667212, 0.09640799,\n",
              "        0.09782588, 0.09637596, 0.09549127, 0.09697817, 0.09666499,\n",
              "        0.09623267, 0.09596586, 0.09526911, 0.09737543, 0.09646107,\n",
              "        0.09791769, 0.09777579, 0.09787494, 0.09726496, 0.09748296,\n",
              "        0.09658054, 0.0951499 , 0.09641845, 0.0967585 , 0.09618278,\n",
              "        0.09617432, 0.09719182, 0.09506731, 0.09558809, 0.09616755,\n",
              "        0.09565766, 0.09577888, 0.09740815, 0.09623664, 0.09590647,\n",
              "        0.09601498, 0.09697273, 0.09640898, 0.0949816 , 0.0966678 ,\n",
              "        0.09440988, 0.09579731, 0.0948516 , 0.09612943, 0.09626116,\n",
              "        0.09801753, 0.09584688, 0.09528672, 0.09566789, 0.09601747,\n",
              "        0.09821898, 0.09649144, 0.09599007, 0.09702493, 0.09576474,\n",
              "        0.09445639, 0.09490924, 0.09748256, 0.09605208, 0.09494058,\n",
              "        0.09727525, 0.09695333, 0.09493906, 0.09667186, 0.09519776,\n",
              "        0.09730546, 0.09493081, 0.09440861, 0.09549178, 0.09670118,\n",
              "        0.09583966, 0.0948491 , 0.09738139, 0.09621696, 0.09777816,\n",
              "        0.09671175, 0.0955151 , 0.09579003, 0.09612188, 0.0968077 ]),\n",
              " array([0.16900839, 0.17071655, 0.15908867, 0.1562664 , 0.17024615,\n",
              "        0.15561121, 0.15937378, 0.16046876, 0.1670997 , 0.15579036,\n",
              "        0.1557333 , 0.15574653, 0.15592479, 0.15580543, 0.16452809,\n",
              "        0.1578582 , 0.1597331 , 0.15629576, 0.1574621 , 0.15781789,\n",
              "        0.15929265, 0.16392899, 0.15559594, 0.15615763, 0.15634472,\n",
              "        0.15558295, 0.16517246, 0.15584099, 0.15688273, 0.16132525,\n",
              "        0.15563451, 0.15673208, 0.16926227, 0.15725439, 0.15588872,\n",
              "        0.1566573 , 0.15688351, 0.15618203, 0.15688719, 0.15713992,\n",
              "        0.1600987 , 0.15695713, 0.15575178, 0.15852148, 0.15895921,\n",
              "        0.15562393, 0.15602726, 0.1564326 , 0.15872356, 0.16174448,\n",
              "        0.17057731, 0.15648402, 0.1720327 , 0.15615864, 0.15564374,\n",
              "        0.15880806, 0.16294464, 0.15676912, 0.1720252 , 0.16785142,\n",
              "        0.15584103, 0.15592182, 0.16523277, 0.17019319, 0.15600014,\n",
              "        0.17136281, 0.16812311, 0.16238306, 0.17348563, 0.15640276,\n",
              "        0.15900557, 0.15598322, 0.15661376, 0.15693174, 0.1563798 ,\n",
              "        0.15756146, 0.16253195, 0.16059272, 0.16497095, 0.16254136,\n",
              "        0.17231473, 0.17017991, 0.15564385, 0.15557997, 0.1650159 ,\n",
              "        0.16207769, 0.17148191, 0.15571695, 0.15667151, 0.15613926,\n",
              "        0.15908435, 0.16344262, 0.17301336, 0.15861078, 0.1725219 ,\n",
              "        0.17403464, 0.15665791, 0.15789794, 0.16369804, 0.16103072,\n",
              "        0.16932349, 0.15684537, 0.16639708, 0.15995285, 0.17054476,\n",
              "        0.16231064, 0.15950212, 0.15558415, 0.15623434, 0.15817254,\n",
              "        0.16364214, 0.15562098, 0.15974489, 0.15558234, 0.15770438,\n",
              "        0.15648505, 0.16327926, 0.15558023, 0.16193509, 0.17126233,\n",
              "        0.15733017, 0.15588857, 0.15632348, 0.1633907 , 0.15576492,\n",
              "        0.16870283, 0.16110922, 0.16791267, 0.16076597, 0.15921806,\n",
              "        0.15574459, 0.15764329, 0.15684597, 0.15624099, 0.15763286,\n",
              "        0.16518055, 0.1595833 , 0.15680087, 0.17211241, 0.1570478 ,\n",
              "        0.16266188, 0.15565044, 0.15913023, 0.15561926, 0.15560259,\n",
              "        0.16508288, 0.15571836, 0.15956863, 0.15794462, 0.15847963,\n",
              "        0.16070002, 0.15560424, 0.16059451, 0.15567731, 0.15625162,\n",
              "        0.15895684, 0.15574122, 0.15744368, 0.15865505, 0.15558295,\n",
              "        0.16788731, 0.15661558, 0.16570272, 0.15635252, 0.15825738,\n",
              "        0.15571363, 0.15972911, 0.15577969, 0.15609214, 0.17264276,\n",
              "        0.17366277, 0.16468415, 0.15694357, 0.1555864 , 0.15660402,\n",
              "        0.15565075, 0.16957256, 0.16526504, 0.15647546, 0.17696568,\n",
              "        0.15558158, 0.15560446, 0.16347958, 0.15605902, 0.15558018,\n",
              "        0.15590702, 0.15614835, 0.17257124, 0.15592892, 0.15564754,\n",
              "        0.16186693, 0.15940187, 0.15559876, 0.16541053, 0.16733792,\n",
              "        0.16501769, 0.16847983, 0.15822279, 0.16607501, 0.16321771,\n",
              "        0.16367775, 0.15558277, 0.16005679, 0.15566896, 0.15958982,\n",
              "        0.16771317, 0.15580128, 0.15599818, 0.15623547, 0.17054187,\n",
              "        0.17070209, 0.16301758, 0.1565007 , 0.160068  , 0.15786863,\n",
              "        0.15560549, 0.15715654, 0.16434095, 0.15587907, 0.15598537,\n",
              "        0.15747761, 0.16442049, 0.15696642, 0.17131305, 0.15803111,\n",
              "        0.15890483, 0.15986585, 0.15650995, 0.15557985, 0.15933457,\n",
              "        0.15865294, 0.1557181 , 0.15559363, 0.17237529, 0.17163108,\n",
              "        0.16358175, 0.15615174, 0.15560048, 0.1693954 , 0.15561199,\n",
              "        0.17323826, 0.15689226, 0.16810803, 0.15566649, 0.15665562,\n",
              "        0.16778318, 0.16032478, 0.17068139, 0.16723871, 0.17578979,\n",
              "        0.1558617 , 0.157711  , 0.16804352, 0.1555862 , 0.1594582 ,\n",
              "        0.15647414, 0.15666567, 0.15718933, 0.15951439, 0.16182236,\n",
              "        0.15559365, 0.16293854, 0.15806628, 0.15564807, 0.1556583 ,\n",
              "        0.16386176, 0.1586596 , 0.15826423, 0.16581969, 0.15568983,\n",
              "        0.15586411, 0.15616596, 0.15761634, 0.15620993, 0.15593578,\n",
              "        0.15763903, 0.15968923, 0.17193487, 0.15559281, 0.1560262 ,\n",
              "        0.15561833, 0.15860666, 0.15564991, 0.15675997, 0.16944589,\n",
              "        0.15650329, 0.16599261, 0.16408906, 0.15595736, 0.15692591,\n",
              "        0.15561889, 0.15563397, 0.16259382, 0.1564456 , 0.15582901,\n",
              "        0.15563732, 0.15820431, 0.15599065, 0.15603897, 0.16969395,\n",
              "        0.15590818, 0.15566931, 0.1566872 , 0.15728683, 0.15576146,\n",
              "        0.17266894, 0.15823599, 0.15576223, 0.16739416, 0.15590352,\n",
              "        0.15599827, 0.15996249, 0.16038437, 0.16863497, 0.15742027,\n",
              "        0.16937996, 0.16150441, 0.16232216, 0.16247221, 0.15562737,\n",
              "        0.15571868, 0.15642498, 0.15692028, 0.16115343, 0.1555919 ,\n",
              "        0.15558578, 0.15629648, 0.15656468, 0.15571279, 0.16859052,\n",
              "        0.1556817 , 0.15568841, 0.15999667, 0.15666893, 0.16797904,\n",
              "        0.15579953, 0.16201812, 0.15918265, 0.17274807, 0.155824  ,\n",
              "        0.1758995 , 0.15558091, 0.15641541, 0.15807233, 0.15747717,\n",
              "        0.155844  , 0.15558106, 0.15565435, 0.1579715 , 0.16076269,\n",
              "        0.15637113, 0.15626837, 0.15735252, 0.16442613, 0.15559174,\n",
              "        0.16629626, 0.17037175, 0.16271231, 0.15710162, 0.15558845,\n",
              "        0.1671592 , 0.17178605, 0.17068557, 0.15586417, 0.15612381,\n",
              "        0.15727659, 0.17668772, 0.16352666, 0.15559812, 0.15566386,\n",
              "        0.15742917, 0.15558427, 0.15624601, 0.15568305, 0.16440672,\n",
              "        0.15623441, 0.16614404, 0.15567747, 0.16019723, 0.15600348,\n",
              "        0.16467064, 0.16908134, 0.15710281, 0.15785211, 0.15721625,\n",
              "        0.15766449, 0.15561373, 0.16493315, 0.15583951, 0.15572475,\n",
              "        0.1556174 , 0.15773706, 0.16468919, 0.15735778, 0.15672293,\n",
              "        0.15582701, 0.15558568, 0.16711018, 0.16840813, 0.15562   ,\n",
              "        0.16407674, 0.15710272, 0.16226486, 0.16719059, 0.15589934,\n",
              "        0.15852319, 0.15681829, 0.15561627, 0.15678017, 0.16818606,\n",
              "        0.16530494, 0.15693066, 0.15696929, 0.16572856, 0.15715012,\n",
              "        0.15572762, 0.17457325, 0.16099179, 0.17059565, 0.15760138,\n",
              "        0.15698247, 0.15593669, 0.15770774, 0.16230751, 0.15558257,\n",
              "        0.15573187, 0.15978748, 0.15647744, 0.15559438, 0.15619199,\n",
              "        0.1584304 , 0.17031225, 0.15779478, 0.15598192, 0.15611198,\n",
              "        0.16418101, 0.1588865 , 0.16398202, 0.17414758, 0.15731827,\n",
              "        0.16703519, 0.16503785, 0.1577201 , 0.16062958, 0.1598169 ,\n",
              "        0.15563087, 0.15603394, 0.15627039, 0.15731624, 0.17213592,\n",
              "        0.16033704, 0.15587047, 0.15757552, 0.15733626, 0.15788292,\n",
              "        0.15570768, 0.15747319, 0.15763442, 0.15924983, 0.15976301,\n",
              "        0.15609894, 0.15567801, 0.15559636, 0.15628557, 0.16710309,\n",
              "        0.16020116, 0.15914046, 0.1607179 , 0.15559965, 0.16032183,\n",
              "        0.15872305, 0.16747112, 0.15577253, 0.16982706, 0.16233056,\n",
              "        0.15688309, 0.16001354, 0.15981144, 0.16685378, 0.15676953,\n",
              "        0.16669294, 0.15687107, 0.15942778, 0.16297624, 0.15769552,\n",
              "        0.15979276, 0.16167343, 0.15565359, 0.1569749 , 0.15558125,\n",
              "        0.16818958, 0.15969593, 0.15629457, 0.1561114 , 0.17187843,\n",
              "        0.15593614, 0.15573653, 0.15798525, 0.15601374, 0.15646509,\n",
              "        0.17162371, 0.16069748, 0.16370071, 0.17473458, 0.15559206,\n",
              "        0.16542231, 0.17141656, 0.16171507, 0.15568636, 0.16229291,\n",
              "        0.1758036 , 0.15560544, 0.16172317, 0.15704743, 0.15561179,\n",
              "        0.15559176, 0.15911051, 0.15715268, 0.15603032, 0.16165455,\n",
              "        0.1580205 , 0.17167106, 0.15558105, 0.15568855, 0.1687506 ,\n",
              "        0.15574317, 0.16141665, 0.16873955, 0.1555809 , 0.15830448,\n",
              "        0.16539019, 0.15557998, 0.15579937, 0.15829778, 0.16235797,\n",
              "        0.15654679, 0.15616998, 0.16935582, 0.15783971, 0.15584509,\n",
              "        0.16414804, 0.15559996, 0.16870012, 0.15731814, 0.16039262,\n",
              "        0.15563787, 0.15598066, 0.17246186, 0.15973343, 0.15586441,\n",
              "        0.15559044, 0.15858499, 0.15911098, 0.15648259, 0.16115009,\n",
              "        0.15617026, 0.15639354, 0.16302258, 0.15759002, 0.17133645,\n",
              "        0.16750737, 0.16629024, 0.15639634, 0.15613372, 0.17467396,\n",
              "        0.1571909 , 0.15666486, 0.16245091, 0.15634253, 0.15719453,\n",
              "        0.1557248 , 0.16946747, 0.15889212, 0.15607613, 0.155807  ,\n",
              "        0.15603883, 0.16745584, 0.15564013, 0.15787119, 0.15869015,\n",
              "        0.16143811, 0.15591534, 0.15561885, 0.1570823 , 0.15608303,\n",
              "        0.1562277 , 0.16026383, 0.15603611, 0.17107579, 0.15638712,\n",
              "        0.16439235, 0.15575565, 0.15752233, 0.15718755, 0.15962959,\n",
              "        0.15652313, 0.15588251, 0.16027078, 0.16453183, 0.15781635,\n",
              "        0.17001088, 0.15650884, 0.1631872 , 0.15593735, 0.15565246,\n",
              "        0.15740841, 0.15577537, 0.17340677, 0.16218448, 0.16957225,\n",
              "        0.15684169, 0.15649321, 0.15858036, 0.15566361, 0.16591642,\n",
              "        0.16906462, 0.15701096, 0.1562251 , 0.16325203, 0.15716776,\n",
              "        0.15600893, 0.15645638, 0.15963026, 0.15568665, 0.16367151,\n",
              "        0.16915441, 0.15559998, 0.1602306 , 0.15582231, 0.1651888 ,\n",
              "        0.16734903, 0.15729815, 0.15564463, 0.17404497, 0.17012173,\n",
              "        0.15611201, 0.16108543, 0.15558033, 0.17115479, 0.15798384,\n",
              "        0.15849949, 0.1778476 , 0.15591093, 0.16531627, 0.16150716,\n",
              "        0.1569418 , 0.16678071, 0.1558211 , 0.17672752, 0.15646883,\n",
              "        0.15799994, 0.15851801, 0.15828529, 0.15559962, 0.15575572,\n",
              "        0.17188322, 0.15560311, 0.1565194 , 0.15686484, 0.15659535,\n",
              "        0.16121702, 0.15595229, 0.15814816, 0.15567002, 0.16088406,\n",
              "        0.15559584, 0.15990015, 0.16055168, 0.15756315, 0.15737469,\n",
              "        0.17060297, 0.1709803 , 0.15685761, 0.16525663, 0.16967009,\n",
              "        0.16291219, 0.15721116, 0.15635423, 0.15563212, 0.15562489,\n",
              "        0.15943805, 0.16420752, 0.15728269, 0.15646549, 0.15615463,\n",
              "        0.17284472, 0.17199725, 0.16709688, 0.1556022 , 0.16267431,\n",
              "        0.15826194, 0.15676426, 0.15578803, 0.16490369, 0.16103996,\n",
              "        0.16594428, 0.15614644, 0.15580191, 0.16062164, 0.1601678 ,\n",
              "        0.15600775, 0.15630768, 0.15648271, 0.16503572, 0.16265162,\n",
              "        0.162718  , 0.15636505, 0.15710831, 0.1578287 , 0.15576841,\n",
              "        0.1566671 , 0.15590245, 0.17117766, 0.15763781, 0.1565451 ,\n",
              "        0.15560335, 0.15681952, 0.16114943, 0.15618966, 0.15673681,\n",
              "        0.17056564, 0.15854122, 0.15822929, 0.15593015, 0.15608195,\n",
              "        0.15625091, 0.16192695, 0.16816731, 0.15672458, 0.16674141,\n",
              "        0.1597529 , 0.15730027, 0.15635629, 0.15636784, 0.15703281,\n",
              "        0.15657989, 0.16000082, 0.15576385, 0.16305232, 0.15642646,\n",
              "        0.16232608, 0.16277338, 0.15823716, 0.1655329 , 0.15621389,\n",
              "        0.15661453, 0.15813984, 0.15564024, 0.16356907, 0.16906196,\n",
              "        0.15959233, 0.15567158, 0.17012799, 0.16569791, 0.17104302,\n",
              "        0.161139  , 0.16732217, 0.16322003, 0.15617876, 0.15728003,\n",
              "        0.16304957, 0.15567545, 0.16848355, 0.1616404 , 0.1610893 ,\n",
              "        0.15594513, 0.15582833, 0.15660091, 0.1589927 , 0.15671009,\n",
              "        0.16144936, 0.16704508, 0.1655651 , 0.16372412, 0.15637358,\n",
              "        0.15925094, 0.15561195, 0.15559905, 0.15824921, 0.15694548,\n",
              "        0.16704386, 0.1557332 , 0.16312775, 0.1755947 , 0.16811536,\n",
              "        0.15652466, 0.15595228, 0.15657313, 0.15776463, 0.16444264,\n",
              "        0.1594513 , 0.16962887, 0.15569064, 0.15558086, 0.16056183,\n",
              "        0.15563215, 0.17147156, 0.15602136, 0.16005117, 0.16079505,\n",
              "        0.15716148, 0.16030876, 0.15775599, 0.15999665, 0.16579507,\n",
              "        0.15591157, 0.15686461, 0.15570782, 0.1602058 , 0.15560645,\n",
              "        0.15565013, 0.15842787, 0.1561795 , 0.15577622, 0.1556052 ,\n",
              "        0.15565638, 0.15563153, 0.15577833, 0.15635329, 0.15830927,\n",
              "        0.15615418, 0.15563485, 0.15658097, 0.15715664, 0.15658958,\n",
              "        0.15588536, 0.15625118, 0.15617243, 0.15838879, 0.15621671,\n",
              "        0.15557987, 0.15863827, 0.16832605, 0.16713494, 0.16124   ,\n",
              "        0.16217311, 0.15786715, 0.16157251, 0.15559815, 0.16068794,\n",
              "        0.17453024, 0.16920848, 0.16051177, 0.15567408, 0.16247237,\n",
              "        0.16204634, 0.17308453, 0.16574458, 0.17587103, 0.15754727,\n",
              "        0.16027578, 0.15686362, 0.15756817, 0.15743774, 0.16802073,\n",
              "        0.16416295, 0.15681019, 0.15574759, 0.15563313, 0.15822254,\n",
              "        0.15575544, 0.17096624, 0.16113411, 0.15966013, 0.16314908,\n",
              "        0.16004552, 0.1576513 , 0.16729989, 0.15656028, 0.15651271,\n",
              "        0.15619803, 0.16131276, 0.15565221, 0.17044931, 0.15610654,\n",
              "        0.16321959, 0.15643751, 0.15584964, 0.15612275, 0.16329771,\n",
              "        0.15563474, 0.15825673, 0.15561839, 0.15569528, 0.15558101,\n",
              "        0.15645345, 0.15558236, 0.15671959, 0.15590279, 0.15567833,\n",
              "        0.15682257, 0.15766177, 0.15606579, 0.15770508, 0.15592839,\n",
              "        0.15597809, 0.15706538, 0.1555875 , 0.15937282, 0.15583299,\n",
              "        0.15563551, 0.16488253, 0.17470231, 0.15755103, 0.15604331,\n",
              "        0.17117677, 0.15564014, 0.15591912, 0.15578564, 0.1589458 ,\n",
              "        0.16358256, 0.15710134, 0.15585449, 0.16952514, 0.15756529,\n",
              "        0.15561895, 0.15931399, 0.15562759, 0.15558017, 0.15751645,\n",
              "        0.17092386, 0.15857015, 0.15812369, 0.15699985, 0.15592585,\n",
              "        0.16969112, 0.15584492, 0.15785582, 0.15913533, 0.15696143,\n",
              "        0.15561459, 0.15576086, 0.15962274, 0.16327199, 0.15608352,\n",
              "        0.17120806, 0.16889228, 0.17049336, 0.16197229, 0.1646439 ,\n",
              "        0.15654572, 0.16077007, 0.15595458, 0.15750694, 0.15558503,\n",
              "        0.15558261, 0.16117413, 0.16164469, 0.15724043, 0.15558122,\n",
              "        0.15685715, 0.15630824, 0.1636784 , 0.15561807, 0.15589516,\n",
              "        0.15567772, 0.15908926, 0.1559285 , 0.1626199 , 0.15697653,\n",
              "        0.1707922 , 0.15623809, 0.16422787, 0.15558239, 0.15564322,\n",
              "        0.17293318, 0.15606695, 0.15946489, 0.15680498, 0.15567419,\n",
              "        0.17664404, 0.15618699, 0.15571672, 0.15954377, 0.15636441,\n",
              "        0.17002459, 0.16349598, 0.16463858, 0.15563174, 0.16311073,\n",
              "        0.16208854, 0.15892717, 0.16312921, 0.15699846, 0.16029297,\n",
              "        0.16243562, 0.16322982, 0.17081348, 0.15785235, 0.15716196,\n",
              "        0.1560903 , 0.16426032, 0.16334524, 0.15560246, 0.16892955,\n",
              "        0.15722306, 0.15769554, 0.15626537, 0.15558443, 0.15782967]))"
            ]
          },
          "metadata": {},
          "execution_count": 52
        }
      ]
    },
    {
      "cell_type": "code",
      "source": [
        "portfolios = pd.DataFrame({'Return': pfolio_returns, 'Volatility': pfolio_volatilities})\n",
        "portfolios.head()"
      ],
      "metadata": {
        "colab": {
          "base_uri": "https://localhost:8080/",
          "height": 206
        },
        "id": "fEy7CFK7NV2B",
        "outputId": "34fba86a-91d2-40c3-c304-d02156ff8fe1"
      },
      "execution_count": 53,
      "outputs": [
        {
          "output_type": "execute_result",
          "data": {
            "text/plain": [
              "     Return  Volatility\n",
              "0  0.097783    0.169008\n",
              "1  0.094414    0.170717\n",
              "2  0.095330    0.159089\n",
              "3  0.095790    0.156266\n",
              "4  0.097860    0.170246"
            ],
            "text/html": [
              "\n",
              "  <div id=\"df-570830f2-614e-4928-b635-0264a7b7b66e\">\n",
              "    <div class=\"colab-df-container\">\n",
              "      <div>\n",
              "<style scoped>\n",
              "    .dataframe tbody tr th:only-of-type {\n",
              "        vertical-align: middle;\n",
              "    }\n",
              "\n",
              "    .dataframe tbody tr th {\n",
              "        vertical-align: top;\n",
              "    }\n",
              "\n",
              "    .dataframe thead th {\n",
              "        text-align: right;\n",
              "    }\n",
              "</style>\n",
              "<table border=\"1\" class=\"dataframe\">\n",
              "  <thead>\n",
              "    <tr style=\"text-align: right;\">\n",
              "      <th></th>\n",
              "      <th>Return</th>\n",
              "      <th>Volatility</th>\n",
              "    </tr>\n",
              "  </thead>\n",
              "  <tbody>\n",
              "    <tr>\n",
              "      <th>0</th>\n",
              "      <td>0.097783</td>\n",
              "      <td>0.169008</td>\n",
              "    </tr>\n",
              "    <tr>\n",
              "      <th>1</th>\n",
              "      <td>0.094414</td>\n",
              "      <td>0.170717</td>\n",
              "    </tr>\n",
              "    <tr>\n",
              "      <th>2</th>\n",
              "      <td>0.095330</td>\n",
              "      <td>0.159089</td>\n",
              "    </tr>\n",
              "    <tr>\n",
              "      <th>3</th>\n",
              "      <td>0.095790</td>\n",
              "      <td>0.156266</td>\n",
              "    </tr>\n",
              "    <tr>\n",
              "      <th>4</th>\n",
              "      <td>0.097860</td>\n",
              "      <td>0.170246</td>\n",
              "    </tr>\n",
              "  </tbody>\n",
              "</table>\n",
              "</div>\n",
              "      <button class=\"colab-df-convert\" onclick=\"convertToInteractive('df-570830f2-614e-4928-b635-0264a7b7b66e')\"\n",
              "              title=\"Convert this dataframe to an interactive table.\"\n",
              "              style=\"display:none;\">\n",
              "        \n",
              "  <svg xmlns=\"http://www.w3.org/2000/svg\" height=\"24px\"viewBox=\"0 0 24 24\"\n",
              "       width=\"24px\">\n",
              "    <path d=\"M0 0h24v24H0V0z\" fill=\"none\"/>\n",
              "    <path d=\"M18.56 5.44l.94 2.06.94-2.06 2.06-.94-2.06-.94-.94-2.06-.94 2.06-2.06.94zm-11 1L8.5 8.5l.94-2.06 2.06-.94-2.06-.94L8.5 2.5l-.94 2.06-2.06.94zm10 10l.94 2.06.94-2.06 2.06-.94-2.06-.94-.94-2.06-.94 2.06-2.06.94z\"/><path d=\"M17.41 7.96l-1.37-1.37c-.4-.4-.92-.59-1.43-.59-.52 0-1.04.2-1.43.59L10.3 9.45l-7.72 7.72c-.78.78-.78 2.05 0 2.83L4 21.41c.39.39.9.59 1.41.59.51 0 1.02-.2 1.41-.59l7.78-7.78 2.81-2.81c.8-.78.8-2.07 0-2.86zM5.41 20L4 18.59l7.72-7.72 1.47 1.35L5.41 20z\"/>\n",
              "  </svg>\n",
              "      </button>\n",
              "      \n",
              "  <style>\n",
              "    .colab-df-container {\n",
              "      display:flex;\n",
              "      flex-wrap:wrap;\n",
              "      gap: 12px;\n",
              "    }\n",
              "\n",
              "    .colab-df-convert {\n",
              "      background-color: #E8F0FE;\n",
              "      border: none;\n",
              "      border-radius: 50%;\n",
              "      cursor: pointer;\n",
              "      display: none;\n",
              "      fill: #1967D2;\n",
              "      height: 32px;\n",
              "      padding: 0 0 0 0;\n",
              "      width: 32px;\n",
              "    }\n",
              "\n",
              "    .colab-df-convert:hover {\n",
              "      background-color: #E2EBFA;\n",
              "      box-shadow: 0px 1px 2px rgba(60, 64, 67, 0.3), 0px 1px 3px 1px rgba(60, 64, 67, 0.15);\n",
              "      fill: #174EA6;\n",
              "    }\n",
              "\n",
              "    [theme=dark] .colab-df-convert {\n",
              "      background-color: #3B4455;\n",
              "      fill: #D2E3FC;\n",
              "    }\n",
              "\n",
              "    [theme=dark] .colab-df-convert:hover {\n",
              "      background-color: #434B5C;\n",
              "      box-shadow: 0px 1px 3px 1px rgba(0, 0, 0, 0.15);\n",
              "      filter: drop-shadow(0px 1px 2px rgba(0, 0, 0, 0.3));\n",
              "      fill: #FFFFFF;\n",
              "    }\n",
              "  </style>\n",
              "\n",
              "      <script>\n",
              "        const buttonEl =\n",
              "          document.querySelector('#df-570830f2-614e-4928-b635-0264a7b7b66e button.colab-df-convert');\n",
              "        buttonEl.style.display =\n",
              "          google.colab.kernel.accessAllowed ? 'block' : 'none';\n",
              "\n",
              "        async function convertToInteractive(key) {\n",
              "          const element = document.querySelector('#df-570830f2-614e-4928-b635-0264a7b7b66e');\n",
              "          const dataTable =\n",
              "            await google.colab.kernel.invokeFunction('convertToInteractive',\n",
              "                                                     [key], {});\n",
              "          if (!dataTable) return;\n",
              "\n",
              "          const docLinkHtml = 'Like what you see? Visit the ' +\n",
              "            '<a target=\"_blank\" href=https://colab.research.google.com/notebooks/data_table.ipynb>data table notebook</a>'\n",
              "            + ' to learn more about interactive tables.';\n",
              "          element.innerHTML = '';\n",
              "          dataTable['output_type'] = 'display_data';\n",
              "          await google.colab.output.renderOutput(dataTable, element);\n",
              "          const docLink = document.createElement('div');\n",
              "          docLink.innerHTML = docLinkHtml;\n",
              "          element.appendChild(docLink);\n",
              "        }\n",
              "      </script>\n",
              "    </div>\n",
              "  </div>\n",
              "  "
            ]
          },
          "metadata": {},
          "execution_count": 53
        }
      ]
    },
    {
      "cell_type": "code",
      "source": [
        "portfolios.tail()"
      ],
      "metadata": {
        "colab": {
          "base_uri": "https://localhost:8080/",
          "height": 206
        },
        "id": "fvYvsVZTOaL5",
        "outputId": "18da3c6d-0715-4ef6-c066-e2d31911c032"
      },
      "execution_count": 54,
      "outputs": [
        {
          "output_type": "execute_result",
          "data": {
            "text/plain": [
              "       Return  Volatility\n",
              "995  0.096712    0.157223\n",
              "996  0.095515    0.157696\n",
              "997  0.095790    0.156265\n",
              "998  0.096122    0.155584\n",
              "999  0.096808    0.157830"
            ],
            "text/html": [
              "\n",
              "  <div id=\"df-47009533-7bf1-4931-9a25-ac08cc16d7a1\">\n",
              "    <div class=\"colab-df-container\">\n",
              "      <div>\n",
              "<style scoped>\n",
              "    .dataframe tbody tr th:only-of-type {\n",
              "        vertical-align: middle;\n",
              "    }\n",
              "\n",
              "    .dataframe tbody tr th {\n",
              "        vertical-align: top;\n",
              "    }\n",
              "\n",
              "    .dataframe thead th {\n",
              "        text-align: right;\n",
              "    }\n",
              "</style>\n",
              "<table border=\"1\" class=\"dataframe\">\n",
              "  <thead>\n",
              "    <tr style=\"text-align: right;\">\n",
              "      <th></th>\n",
              "      <th>Return</th>\n",
              "      <th>Volatility</th>\n",
              "    </tr>\n",
              "  </thead>\n",
              "  <tbody>\n",
              "    <tr>\n",
              "      <th>995</th>\n",
              "      <td>0.096712</td>\n",
              "      <td>0.157223</td>\n",
              "    </tr>\n",
              "    <tr>\n",
              "      <th>996</th>\n",
              "      <td>0.095515</td>\n",
              "      <td>0.157696</td>\n",
              "    </tr>\n",
              "    <tr>\n",
              "      <th>997</th>\n",
              "      <td>0.095790</td>\n",
              "      <td>0.156265</td>\n",
              "    </tr>\n",
              "    <tr>\n",
              "      <th>998</th>\n",
              "      <td>0.096122</td>\n",
              "      <td>0.155584</td>\n",
              "    </tr>\n",
              "    <tr>\n",
              "      <th>999</th>\n",
              "      <td>0.096808</td>\n",
              "      <td>0.157830</td>\n",
              "    </tr>\n",
              "  </tbody>\n",
              "</table>\n",
              "</div>\n",
              "      <button class=\"colab-df-convert\" onclick=\"convertToInteractive('df-47009533-7bf1-4931-9a25-ac08cc16d7a1')\"\n",
              "              title=\"Convert this dataframe to an interactive table.\"\n",
              "              style=\"display:none;\">\n",
              "        \n",
              "  <svg xmlns=\"http://www.w3.org/2000/svg\" height=\"24px\"viewBox=\"0 0 24 24\"\n",
              "       width=\"24px\">\n",
              "    <path d=\"M0 0h24v24H0V0z\" fill=\"none\"/>\n",
              "    <path d=\"M18.56 5.44l.94 2.06.94-2.06 2.06-.94-2.06-.94-.94-2.06-.94 2.06-2.06.94zm-11 1L8.5 8.5l.94-2.06 2.06-.94-2.06-.94L8.5 2.5l-.94 2.06-2.06.94zm10 10l.94 2.06.94-2.06 2.06-.94-2.06-.94-.94-2.06-.94 2.06-2.06.94z\"/><path d=\"M17.41 7.96l-1.37-1.37c-.4-.4-.92-.59-1.43-.59-.52 0-1.04.2-1.43.59L10.3 9.45l-7.72 7.72c-.78.78-.78 2.05 0 2.83L4 21.41c.39.39.9.59 1.41.59.51 0 1.02-.2 1.41-.59l7.78-7.78 2.81-2.81c.8-.78.8-2.07 0-2.86zM5.41 20L4 18.59l7.72-7.72 1.47 1.35L5.41 20z\"/>\n",
              "  </svg>\n",
              "      </button>\n",
              "      \n",
              "  <style>\n",
              "    .colab-df-container {\n",
              "      display:flex;\n",
              "      flex-wrap:wrap;\n",
              "      gap: 12px;\n",
              "    }\n",
              "\n",
              "    .colab-df-convert {\n",
              "      background-color: #E8F0FE;\n",
              "      border: none;\n",
              "      border-radius: 50%;\n",
              "      cursor: pointer;\n",
              "      display: none;\n",
              "      fill: #1967D2;\n",
              "      height: 32px;\n",
              "      padding: 0 0 0 0;\n",
              "      width: 32px;\n",
              "    }\n",
              "\n",
              "    .colab-df-convert:hover {\n",
              "      background-color: #E2EBFA;\n",
              "      box-shadow: 0px 1px 2px rgba(60, 64, 67, 0.3), 0px 1px 3px 1px rgba(60, 64, 67, 0.15);\n",
              "      fill: #174EA6;\n",
              "    }\n",
              "\n",
              "    [theme=dark] .colab-df-convert {\n",
              "      background-color: #3B4455;\n",
              "      fill: #D2E3FC;\n",
              "    }\n",
              "\n",
              "    [theme=dark] .colab-df-convert:hover {\n",
              "      background-color: #434B5C;\n",
              "      box-shadow: 0px 1px 3px 1px rgba(0, 0, 0, 0.15);\n",
              "      filter: drop-shadow(0px 1px 2px rgba(0, 0, 0, 0.3));\n",
              "      fill: #FFFFFF;\n",
              "    }\n",
              "  </style>\n",
              "\n",
              "      <script>\n",
              "        const buttonEl =\n",
              "          document.querySelector('#df-47009533-7bf1-4931-9a25-ac08cc16d7a1 button.colab-df-convert');\n",
              "        buttonEl.style.display =\n",
              "          google.colab.kernel.accessAllowed ? 'block' : 'none';\n",
              "\n",
              "        async function convertToInteractive(key) {\n",
              "          const element = document.querySelector('#df-47009533-7bf1-4931-9a25-ac08cc16d7a1');\n",
              "          const dataTable =\n",
              "            await google.colab.kernel.invokeFunction('convertToInteractive',\n",
              "                                                     [key], {});\n",
              "          if (!dataTable) return;\n",
              "\n",
              "          const docLinkHtml = 'Like what you see? Visit the ' +\n",
              "            '<a target=\"_blank\" href=https://colab.research.google.com/notebooks/data_table.ipynb>data table notebook</a>'\n",
              "            + ' to learn more about interactive tables.';\n",
              "          element.innerHTML = '';\n",
              "          dataTable['output_type'] = 'display_data';\n",
              "          await google.colab.output.renderOutput(dataTable, element);\n",
              "          const docLink = document.createElement('div');\n",
              "          docLink.innerHTML = docLinkHtml;\n",
              "          element.appendChild(docLink);\n",
              "        }\n",
              "      </script>\n",
              "    </div>\n",
              "  </div>\n",
              "  "
            ]
          },
          "metadata": {},
          "execution_count": 54
        }
      ]
    },
    {
      "cell_type": "code",
      "source": [
        "portfolios.plot(x = 'Volatility', y = 'Return', kind = 'scatter', figsize = (10, 6))\n",
        "plt.xlabel('Expected Volatility')\n",
        "plt.ylabel('Expected Return')"
      ],
      "metadata": {
        "colab": {
          "base_uri": "https://localhost:8080/",
          "height": 406
        },
        "id": "acPUYLLYOeOn",
        "outputId": "0173359e-59fc-4ee0-91f8-defc85323c61"
      },
      "execution_count": 56,
      "outputs": [
        {
          "output_type": "execute_result",
          "data": {
            "text/plain": [
              "Text(0, 0.5, 'Expected Return')"
            ]
          },
          "metadata": {},
          "execution_count": 56
        },
        {
          "output_type": "display_data",
          "data": {
            "text/plain": [
              "<Figure size 720x432 with 1 Axes>"
            ],
            "image/png": "[encoded data removed]"
          },
          "metadata": {
            "needs_background": "light"
          }
        }
      ]
    },
    {
      "cell_type": "markdown",
      "source": [
        "# <font color = 'blue'> The Capital asset Pricing Model"
      ],
      "metadata": {
        "id": "kWKBczNkTdA-"
      }
    },
    {
      "cell_type": "markdown",
      "source": [
        "\n",
        "\n",
        "> In CAPM setting, Investors are \n",
        ">*   Risk-averse\n",
        ">*   Prefer higher return\n",
        ">*   Willing to buy the optimal portfolio\n",
        "\n",
        "William F. Sharpe introduced the CAPM model. Sharpe introduced the concept of **Market portfolio** which is a bundle of all possible investments in the world i.e. both bonds and stocks. The risk return combination of this portfolio is superior to one of any other portfolio. The expected return of the market portfolio coincides with the expected return of the market. Since its a diversified portfolio, it is optimal interms of risk. The only risk faced by investers is systamatic risk.\n",
        "<br>\n",
        "Market Portfolio lies somewhere on the Markowitz Portfolio efficient frontier graph.\n",
        "\n",
        "\n",
        "\n",
        "> CAPM assumes the existance of a risk-free asset. An investment with zero risk. \n",
        "\n",
        "**Why should we assume the risk-free rate has lower expected rate of return?**\n",
        "<br><font color = 'red'> In efficient markets, investors are only compensated for the added risk they are willing to bear.<font>\n",
        "\n",
        "=> Depending on their risk preferences, they will choose to buy more of the risk free asset or more of the market portfolio\n",
        "\n"
      ],
      "metadata": {
        "id": "b41MOXhvT1nX"
      }
    },
    {
      "cell_type": "markdown",
      "source": [
        "### BETA\n",
        "It is one of the main pillers of CAPM. BETA helps us quantify the relationship between security and the overall market portfolio.\n",
        "\n",
        "The market portfolio comprises of all securities in the market i.e. securitites with\n",
        "*   High return, High risk\n",
        "*   Low return, Low risk\n",
        "\n",
        "\n",
        "\n",
        "> **Safer stocks**: These stocks will earn less than market portfolio when the economy grows and when the economy falls they dont fall very much.\n",
        "> <br>**Riskier stocks**: Stocks that will earn more than the market portfolio when the economy grows \n",
        "\n",
        "\n",
        "<font color = 'green'>*BETA is calculated by the covariance of the stock and the Market divided by the variance of the market.*\n",
        "</font>\n",
        "\n",
        "\n",
        "*   BETA = 0 => stock has **no relationship** regarding the Market.\n",
        "*   BETA < 1 => These are **Defensive stocks**. i.e. if Market does poorly, these stocks typically loose less\n",
        "*  BETA = 1 => These stocks perform **same way** as Market does.\n",
        "*  BETA > 1 => These are **Aggressive stocks**; they do better than market when economy is good and falls badly when economy is low.\n",
        "\n",
        ">> Groceries stores are less dependent on the economic cycle whereas car businesses get impacted more significantly during the economic crisis times.\n",
        "\n",
        "BETA tells us how risky a stock when compared to the rest of the Market"
      ],
      "metadata": {
        "id": "acP6D6c3YUy1"
      }
    },
    {
      "cell_type": "code",
      "source": [
        "start = calendar.timegm(datetime.datetime(year = 2012, month = 1, day = 1).timetuple())\n",
        "end = calendar.timegm(datetime.datetime(year = 2016, month = 12, day = 31).timetuple()) #current epoch time\n",
        "\n",
        "tickers = ['PG', '%5EGSPC']\n",
        "\n",
        "data = pd.DataFrame()\n",
        "data['Date'] = hitYahooFinance('PG', start, end)['Date'] #doing this just for getting the date column\n",
        "for t in tickers:\n",
        "  data[t] = hitYahooFinance(t, start, end)['Adj Close']\n",
        "\n",
        "data.set_index('Date', inplace = True)"
      ],
      "metadata": {
        "id": "7tmqeJWfO4wC"
      },
      "execution_count": 57,
      "outputs": []
    },
    {
      "cell_type": "code",
      "source": [
        "sec_returns = np.log(data/ data.shift(1))\n",
        "\n",
        "cov = sec_returns.cov() * 250\n",
        "cov"
      ],
      "metadata": {
        "colab": {
          "base_uri": "https://localhost:8080/",
          "height": 112
        },
        "id": "HSjZX8CxcoFJ",
        "outputId": "4274e846-7219-4217-fee3-d4ca4af3be89"
      },
      "execution_count": 60,
      "outputs": [
        {
          "output_type": "execute_result",
          "data": {
            "text/plain": [
              "               PG   %5EGSPC\n",
              "PG       0.020409  0.010078\n",
              "%5EGSPC  0.010078  0.016362"
            ],
            "text/html": [
              "\n",
              "  <div id=\"df-9b59cf8d-ef1f-422c-81de-c0e2f88d1129\">\n",
              "    <div class=\"colab-df-container\">\n",
              "      <div>\n",
              "<style scoped>\n",
              "    .dataframe tbody tr th:only-of-type {\n",
              "        vertical-align: middle;\n",
              "    }\n",
              "\n",
              "    .dataframe tbody tr th {\n",
              "        vertical-align: top;\n",
              "    }\n",
              "\n",
              "    .dataframe thead th {\n",
              "        text-align: right;\n",
              "    }\n",
              "</style>\n",
              "<table border=\"1\" class=\"dataframe\">\n",
              "  <thead>\n",
              "    <tr style=\"text-align: right;\">\n",
              "      <th></th>\n",
              "      <th>PG</th>\n",
              "      <th>%5EGSPC</th>\n",
              "    </tr>\n",
              "  </thead>\n",
              "  <tbody>\n",
              "    <tr>\n",
              "      <th>PG</th>\n",
              "      <td>0.020409</td>\n",
              "      <td>0.010078</td>\n",
              "    </tr>\n",
              "    <tr>\n",
              "      <th>%5EGSPC</th>\n",
              "      <td>0.010078</td>\n",
              "      <td>0.016362</td>\n",
              "    </tr>\n",
              "  </tbody>\n",
              "</table>\n",
              "</div>\n",
              "      <button class=\"colab-df-convert\" onclick=\"convertToInteractive('df-9b59cf8d-ef1f-422c-81de-c0e2f88d1129')\"\n",
              "              title=\"Convert this dataframe to an interactive table.\"\n",
              "              style=\"display:none;\">\n",
              "        \n",
              "  <svg xmlns=\"http://www.w3.org/2000/svg\" height=\"24px\"viewBox=\"0 0 24 24\"\n",
              "       width=\"24px\">\n",
              "    <path d=\"M0 0h24v24H0V0z\" fill=\"none\"/>\n",
              "    <path d=\"M18.56 5.44l.94 2.06.94-2.06 2.06-.94-2.06-.94-.94-2.06-.94 2.06-2.06.94zm-11 1L8.5 8.5l.94-2.06 2.06-.94-2.06-.94L8.5 2.5l-.94 2.06-2.06.94zm10 10l.94 2.06.94-2.06 2.06-.94-2.06-.94-.94-2.06-.94 2.06-2.06.94z\"/><path d=\"M17.41 7.96l-1.37-1.37c-.4-.4-.92-.59-1.43-.59-.52 0-1.04.2-1.43.59L10.3 9.45l-7.72 7.72c-.78.78-.78 2.05 0 2.83L4 21.41c.39.39.9.59 1.41.59.51 0 1.02-.2 1.41-.59l7.78-7.78 2.81-2.81c.8-.78.8-2.07 0-2.86zM5.41 20L4 18.59l7.72-7.72 1.47 1.35L5.41 20z\"/>\n",
              "  </svg>\n",
              "      </button>\n",
              "      \n",
              "  <style>\n",
              "    .colab-df-container {\n",
              "      display:flex;\n",
              "      flex-wrap:wrap;\n",
              "      gap: 12px;\n",
              "    }\n",
              "\n",
              "    .colab-df-convert {\n",
              "      background-color: #E8F0FE;\n",
              "      border: none;\n",
              "      border-radius: 50%;\n",
              "      cursor: pointer;\n",
              "      display: none;\n",
              "      fill: #1967D2;\n",
              "      height: 32px;\n",
              "      padding: 0 0 0 0;\n",
              "      width: 32px;\n",
              "    }\n",
              "\n",
              "    .colab-df-convert:hover {\n",
              "      background-color: #E2EBFA;\n",
              "      box-shadow: 0px 1px 2px rgba(60, 64, 67, 0.3), 0px 1px 3px 1px rgba(60, 64, 67, 0.15);\n",
              "      fill: #174EA6;\n",
              "    }\n",
              "\n",
              "    [theme=dark] .colab-df-convert {\n",
              "      background-color: #3B4455;\n",
              "      fill: #D2E3FC;\n",
              "    }\n",
              "\n",
              "    [theme=dark] .colab-df-convert:hover {\n",
              "      background-color: #434B5C;\n",
              "      box-shadow: 0px 1px 3px 1px rgba(0, 0, 0, 0.15);\n",
              "      filter: drop-shadow(0px 1px 2px rgba(0, 0, 0, 0.3));\n",
              "      fill: #FFFFFF;\n",
              "    }\n",
              "  </style>\n",
              "\n",
              "      <script>\n",
              "        const buttonEl =\n",
              "          document.querySelector('#df-9b59cf8d-ef1f-422c-81de-c0e2f88d1129 button.colab-df-convert');\n",
              "        buttonEl.style.display =\n",
              "          google.colab.kernel.accessAllowed ? 'block' : 'none';\n",
              "\n",
              "        async function convertToInteractive(key) {\n",
              "          const element = document.querySelector('#df-9b59cf8d-ef1f-422c-81de-c0e2f88d1129');\n",
              "          const dataTable =\n",
              "            await google.colab.kernel.invokeFunction('convertToInteractive',\n",
              "                                                     [key], {});\n",
              "          if (!dataTable) return;\n",
              "\n",
              "          const docLinkHtml = 'Like what you see? Visit the ' +\n",
              "            '<a target=\"_blank\" href=https://colab.research.google.com/notebooks/data_table.ipynb>data table notebook</a>'\n",
              "            + ' to learn more about interactive tables.';\n",
              "          element.innerHTML = '';\n",
              "          dataTable['output_type'] = 'display_data';\n",
              "          await google.colab.output.renderOutput(dataTable, element);\n",
              "          const docLink = document.createElement('div');\n",
              "          docLink.innerHTML = docLinkHtml;\n",
              "          element.appendChild(docLink);\n",
              "        }\n",
              "      </script>\n",
              "    </div>\n",
              "  </div>\n",
              "  "
            ]
          },
          "metadata": {},
          "execution_count": 60
        }
      ]
    },
    {
      "cell_type": "code",
      "source": [
        "cov_with_market = cov.iloc[0, 1]\n",
        "cov_with_market"
      ],
      "metadata": {
        "colab": {
          "base_uri": "https://localhost:8080/"
        },
        "id": "mA93HN8Dc1f8",
        "outputId": "dde69a6c-74f5-456d-fe9e-d8c6a648f0c4"
      },
      "execution_count": 61,
      "outputs": [
        {
          "output_type": "execute_result",
          "data": {
            "text/plain": [
              "0.010078087394049943"
            ]
          },
          "metadata": {},
          "execution_count": 61
        }
      ]
    },
    {
      "cell_type": "code",
      "source": [
        "market_var = sec_returns['%5EGSPC'].var()*250\n",
        "market_var"
      ],
      "metadata": {
        "colab": {
          "base_uri": "https://localhost:8080/"
        },
        "id": "23inRtH9dCQz",
        "outputId": "dfcb6446-f747-443d-db33-49e4faba740e"
      },
      "execution_count": 62,
      "outputs": [
        {
          "output_type": "execute_result",
          "data": {
            "text/plain": [
              "0.016361631022038067"
            ]
          },
          "metadata": {},
          "execution_count": 62
        }
      ]
    },
    {
      "cell_type": "markdown",
      "source": [
        "### BETA"
      ],
      "metadata": {
        "id": "WNwwttgydYe2"
      }
    },
    {
      "cell_type": "code",
      "source": [
        "PG_beta = cov_with_market / market_var\n",
        "PG_beta"
      ],
      "metadata": {
        "colab": {
          "base_uri": "https://localhost:8080/"
        },
        "id": "EZC3h4nVdT-v",
        "outputId": "9e48a16f-78e7-483e-9095-3b77bfca4ef2"
      },
      "execution_count": 63,
      "outputs": [
        {
          "output_type": "execute_result",
          "data": {
            "text/plain": [
              "0.6159586034225687"
            ]
          },
          "metadata": {},
          "execution_count": 63
        }
      ]
    },
    {
      "cell_type": "markdown",
      "source": [
        "BETA is less than 1 => It is a defensive stock"
      ],
      "metadata": {
        "id": "2Nt8uPIqeCm5"
      }
    },
    {
      "cell_type": "markdown",
      "source": [
        "As per CAPM a securities expected return is given by\n",
        "\n",
        "$r_{i} = r_{f} + \\beta _{im}(r_{m} - r_{f})$\n",
        "<br>\n",
        "$r_{f} =$ Retrun on risk free asset\n",
        "<br>\n",
        "$\\beta _{im} = $ Beta between stock and the Market\n",
        "<br>\n",
        "$r_{m} =$ Market return\n",
        "<br>"
      ],
      "metadata": {
        "id": "gScNygD6e6PK"
      }
    },
    {
      "cell_type": "markdown",
      "source": [
        "\n",
        "\n",
        "> Applying the CAPM in practice \n",
        "\n",
        "First, we need to shake of some of th ehypothesis made by the author and use the real life proxies. \n",
        "\n",
        "**Risk Free**: There is no shuch thing as risk free. But over time, practitioners approximated with 10-years US government bond yeild: 2.5% as Risk-Free\n",
        "<br>**BETA** : S&P 500 is wide index and represents Market: 0.62\n",
        "<br>**Equity Risk Premium** : Historically, it has been between 4.5% and 5.5%\n",
        "\n",
        "<br> $r_{i}$ = 2.5%+0.62*5% = 5.6%\n",
        "\n",
        "\n"
      ],
      "metadata": {
        "id": "feaaH7nKgYDg"
      }
    },
    {
      "cell_type": "markdown",
      "source": [
        "Calculate the expected return of P&G (CAPM):<br>\n",
        "$r_{PG} = r_{f} + \\beta _{PG}(r_{m} - r_{f})$\n",
        "\n",
        "<br> we can get the approximation of risk free rate from bloombergs webiste"
      ],
      "metadata": {
        "id": "9QFXcol5mR0P"
      }
    },
    {
      "cell_type": "code",
      "source": [
        "PG_er = 0.025+PG_beta*0.05\n",
        "PG_er"
      ],
      "metadata": {
        "colab": {
          "base_uri": "https://localhost:8080/"
        },
        "id": "fUxtFtLRd_7o",
        "outputId": "dd853b30-9dad-48ec-bebf-c32082db99fc"
      },
      "execution_count": 64,
      "outputs": [
        {
          "output_type": "execute_result",
          "data": {
            "text/plain": [
              "0.05579793017112844"
            ]
          },
          "metadata": {},
          "execution_count": 64
        }
      ]
    },
    {
      "cell_type": "markdown",
      "source": [
        "This is the return on Investment a person would expect when buying a P&G stock"
      ],
      "metadata": {
        "id": "-M8fQpNYnG02"
      }
    },
    {
      "cell_type": "markdown",
      "source": [
        "### Sharpe Ratio\n",
        "<br> It helps the investors to compare stocks interms of risk return performance.\n",
        "\n",
        "<br> Sharpe Ratio = $\\frac{r_{i} - r_{f}}{\\sigma _{i}}$\n",
        "<br> $r_{f}$ is risk-free rate\n",
        "<br> $r_{i}$ is rate of return of the stock 'i'\n",
        "<br> $\\sigma _{i}$ is the standard deviation of the stock 'i'"
      ],
      "metadata": {
        "id": "TVDTlXf7n2-8"
      }
    },
    {
      "cell_type": "code",
      "source": [
        "sharpe = (PG_er -0.025)/ (sec_returns['PG'].std()* 250 **0.5)\n",
        "sharpe "
      ],
      "metadata": {
        "colab": {
          "base_uri": "https://localhost:8080/"
        },
        "id": "y-GSFw5XmtlP",
        "outputId": "867e7a83-43a0-434b-87c5-bdb1ac593e28"
      },
      "execution_count": 65,
      "outputs": [
        {
          "output_type": "execute_result",
          "data": {
            "text/plain": [
              "0.2155810794702579"
            ]
          },
          "metadata": {},
          "execution_count": 65
        }
      ]
    },
    {
      "cell_type": "code",
      "source": [],
      "metadata": {
        "id": "EAezeSycphp0"
      },
      "execution_count": null,
      "outputs": []
    }
  ]
}